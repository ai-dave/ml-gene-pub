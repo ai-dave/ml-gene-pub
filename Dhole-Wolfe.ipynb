{
 "cells": [
  {
   "cell_type": "code",
   "execution_count": 1,
   "id": "5f165cd7",
   "metadata": {},
   "outputs": [],
   "source": [
    "from bioinformatics import na_read as nr\n",
    "#from bioinformatics import NCBIDataset as nds\n",
    "from bioinformatics import FASTADataset as fads\n",
    "from bioinformatics import KmerVectors as kvec\n",
    "\n",
    "import pandas as pd\n",
    "import matplotlib.pyplot as plt\n",
    "import seaborn as sns\n",
    "from sklearn.metrics import accuracy_score, f1_score, precision_score, recall_score\n",
    "from sklearn.feature_extraction.text import CountVectorizer\n",
    "from sklearn.naive_bayes import GaussianNB\n",
    "from sklearn.naive_bayes import MultinomialNB\n",
    "from sklearn.model_selection import train_test_split"
   ]
  },
  {
   "cell_type": "code",
   "execution_count": 2,
   "id": "7451230d",
   "metadata": {},
   "outputs": [],
   "source": [
    "NGDC_PATH = \"../data/bioinformatics/ngdc/\"\n",
    "IDOG_PATH = NGDC_PATH + \"idog/\"\n",
    "#!ls -al $IDOG_PATH"
   ]
  },
  {
   "cell_type": "code",
   "execution_count": 3,
   "id": "2dde1b25",
   "metadata": {},
   "outputs": [],
   "source": [
    "dhole_cds_dataset_file = IDOG_PATH + \"dhole.cds.fa\"\n",
    "wolfe_cds_dataset_file = IDOG_PATH + \"wolf.cds.fa\"\n",
    "#!ls $dhole_cds_dataset_file\n",
    "#!ls $wolfe_cds_dataset_file"
   ]
  },
  {
   "cell_type": "code",
   "execution_count": 4,
   "id": "a6e7c6d2",
   "metadata": {},
   "outputs": [],
   "source": [
    "dhole_cds_fads = fads.FASTADataset('dhole', dhole_cds_dataset_file)\n",
    "wolfe_cds_fads = fads.FASTADataset('wolfe', wolfe_cds_dataset_file)"
   ]
  },
  {
   "cell_type": "code",
   "execution_count": 5,
   "id": "d2e74c42",
   "metadata": {},
   "outputs": [],
   "source": [
    "#dhole_cds_fads.fasta_dataset"
   ]
  },
  {
   "cell_type": "code",
   "execution_count": 6,
   "id": "19eb5fa8",
   "metadata": {},
   "outputs": [],
   "source": [
    "#wolfe_cds_fads.fasta_dataset"
   ]
  },
  {
   "cell_type": "code",
   "execution_count": 5,
   "id": "a81b7223",
   "metadata": {
    "scrolled": true
   },
   "outputs": [
    {
     "name": "stdout",
     "output_type": "stream",
     "text": [
      "KmerVectors Object -\n",
      "alphabet [['A', 'G', 'C', 'T']]\n",
      "dict: [['AAAAAA', 'AAAAAG', 'AAAAAC', 'AAAAAT']]...[['TTTTTA', 'TTTTTG', 'TTTTTC', 'TTTTTT']]\n",
      "Labels: [{'dhole': 1, 'wolfe': 2}]\n",
      "[dhole]\n",
      "[../data/bioinformatics/ngdc/idog/dhole.cds.fa]\n",
      "[wolfe]\n",
      "[../data/bioinformatics/ngdc/idog/wolf.cds.fa]\n",
      "dictionary size: [4096]\n",
      "{'dhole': 1, 'wolfe': 2}\n"
     ]
    }
   ],
   "source": [
    "kv_fasta = kvec.KmerVectors(['A','G','C','T'], 6, fastadatasets=[dhole_cds_fads,wolfe_cds_fads], verbose=True)\n",
    "print(f'dictionary size: [{len(kv_fasta.dict)}]')\n",
    "print(kv_fasta.labels)"
   ]
  },
  {
   "cell_type": "code",
   "execution_count": 6,
   "id": "8f53ab35",
   "metadata": {},
   "outputs": [],
   "source": [
    "def get_metrics(y_test, y_predicted):\n",
    "    accuracy = accuracy_score(y_test, y_predicted)\n",
    "    precision = precision_score(y_test, y_predicted, average='weighted')\n",
    "    recall = recall_score(y_test, y_predicted, average='weighted')\n",
    "    f1 = f1_score(y_test, y_predicted, average='weighted')\n",
    "    return accuracy, precision, recall, f1"
   ]
  },
  {
   "cell_type": "markdown",
   "id": "a03c5234",
   "metadata": {},
   "source": [
    "### Bag of Words"
   ]
  },
  {
   "cell_type": "code",
   "execution_count": 7,
   "id": "64e9e685",
   "metadata": {
    "scrolled": true
   },
   "outputs": [
    {
     "name": "stdout",
     "output_type": "stream",
     "text": [
      "FASTA Dataset\n",
      "seq2KmerSentencesFASTA\n",
      "fasta dataset: [dhole]\n",
      "100020003000capped at [3000]\n",
      "-\n",
      "Total:                [3554]\n",
      "Using :               [3001]\n",
      "skip_count_minlength: [10]\n",
      "skip_count_alphabet: [544]\n",
      "fasta dataset: [wolfe]\n",
      "100020003000capped at [3000]\n",
      "-\n",
      "Total:                [3820]\n",
      "Using :               [3001]\n",
      "skip_count_minlength: [40]\n",
      "skip_count_alphabet: [780]\n"
     ]
    }
   ],
   "source": [
    "df_fasta = kv_fasta.seq2KmerSentences(seq_type='fna2', base_count_max=4, length_min=500, dataset_limit=3000, verbose=True)"
   ]
  },
  {
   "cell_type": "code",
   "execution_count": 8,
   "id": "81ac8d19",
   "metadata": {
    "scrolled": true
   },
   "outputs": [
    {
     "data": {
      "text/html": [
       "<div>\n",
       "<style scoped>\n",
       "    .dataframe tbody tr th:only-of-type {\n",
       "        vertical-align: middle;\n",
       "    }\n",
       "\n",
       "    .dataframe tbody tr th {\n",
       "        vertical-align: top;\n",
       "    }\n",
       "\n",
       "    .dataframe thead th {\n",
       "        text-align: right;\n",
       "    }\n",
       "</style>\n",
       "<table border=\"1\" class=\"dataframe\">\n",
       "  <thead>\n",
       "    <tr style=\"text-align: right;\">\n",
       "      <th></th>\n",
       "      <th>v1</th>\n",
       "      <th>v2</th>\n",
       "    </tr>\n",
       "  </thead>\n",
       "  <tbody>\n",
       "    <tr>\n",
       "      <th>0</th>\n",
       "      <td>dhole</td>\n",
       "      <td>ATGGCT TGGCTC GGCTCC GCTCCG CTCCGA TCCGAT CCGA...</td>\n",
       "    </tr>\n",
       "    <tr>\n",
       "      <th>1</th>\n",
       "      <td>dhole</td>\n",
       "      <td>ATGCCA TGCCAG GCCAGC CCAGCT CAGCTA AGCTAA GCTA...</td>\n",
       "    </tr>\n",
       "    <tr>\n",
       "      <th>2</th>\n",
       "      <td>dhole</td>\n",
       "      <td>ATGGCG TGGCGG GGCGGA GCGGAC CGGACG GGACGG GACG...</td>\n",
       "    </tr>\n",
       "    <tr>\n",
       "      <th>3</th>\n",
       "      <td>dhole</td>\n",
       "      <td>ATGGTT TGGTTT GGTTTT GTTTTT TTTTTA TTTTAT TTTA...</td>\n",
       "    </tr>\n",
       "    <tr>\n",
       "      <th>4</th>\n",
       "      <td>dhole</td>\n",
       "      <td>ATGCTG TGCTGT GCTGTC CTGTCG TGTCGA GTCGAG TCGA...</td>\n",
       "    </tr>\n",
       "    <tr>\n",
       "      <th>...</th>\n",
       "      <td>...</td>\n",
       "      <td>...</td>\n",
       "    </tr>\n",
       "    <tr>\n",
       "      <th>5995</th>\n",
       "      <td>wolfe</td>\n",
       "      <td>ATGGAG TGGAGG GGAGGC GAGGCT AGGCTG GGCTGC GCTG...</td>\n",
       "    </tr>\n",
       "    <tr>\n",
       "      <th>5996</th>\n",
       "      <td>wolfe</td>\n",
       "      <td>ATGGCT TGGCTC GGCTCT GCTCTG CTCTGC TCTGCT CTGC...</td>\n",
       "    </tr>\n",
       "    <tr>\n",
       "      <th>5997</th>\n",
       "      <td>wolfe</td>\n",
       "      <td>ATGTCG TGTCGG GTCGGT TCGGTG CGGTGT GGTGTT GTGT...</td>\n",
       "    </tr>\n",
       "    <tr>\n",
       "      <th>5998</th>\n",
       "      <td>wolfe</td>\n",
       "      <td>ATGGCA TGGCAT GGCATG GCATGC CATGCT ATGCTA TGCT...</td>\n",
       "    </tr>\n",
       "    <tr>\n",
       "      <th>5999</th>\n",
       "      <td>wolfe</td>\n",
       "      <td>ATGCGA TGCGAC GCGACC CGACCG GACCGG ACCGGC CCGG...</td>\n",
       "    </tr>\n",
       "  </tbody>\n",
       "</table>\n",
       "<p>6000 rows × 2 columns</p>\n",
       "</div>"
      ],
      "text/plain": [
       "         v1                                                 v2\n",
       "0     dhole  ATGGCT TGGCTC GGCTCC GCTCCG CTCCGA TCCGAT CCGA...\n",
       "1     dhole  ATGCCA TGCCAG GCCAGC CCAGCT CAGCTA AGCTAA GCTA...\n",
       "2     dhole  ATGGCG TGGCGG GGCGGA GCGGAC CGGACG GGACGG GACG...\n",
       "3     dhole  ATGGTT TGGTTT GGTTTT GTTTTT TTTTTA TTTTAT TTTA...\n",
       "4     dhole  ATGCTG TGCTGT GCTGTC CTGTCG TGTCGA GTCGAG TCGA...\n",
       "...     ...                                                ...\n",
       "5995  wolfe  ATGGAG TGGAGG GGAGGC GAGGCT AGGCTG GGCTGC GCTG...\n",
       "5996  wolfe  ATGGCT TGGCTC GGCTCT GCTCTG CTCTGC TCTGCT CTGC...\n",
       "5997  wolfe  ATGTCG TGTCGG GTCGGT TCGGTG CGGTGT GGTGTT GTGT...\n",
       "5998  wolfe  ATGGCA TGGCAT GGCATG GCATGC CATGCT ATGCTA TGCT...\n",
       "5999  wolfe  ATGCGA TGCGAC GCGACC CGACCG GACCGG ACCGGC CCGG...\n",
       "\n",
       "[6000 rows x 2 columns]"
      ]
     },
     "execution_count": 8,
     "metadata": {},
     "output_type": "execute_result"
    }
   ],
   "source": [
    "df_fasta=pd.DataFrame(data=df_fasta)\n",
    "df_fasta"
   ]
  },
  {
   "cell_type": "code",
   "execution_count": 9,
   "id": "c73f42c5",
   "metadata": {},
   "outputs": [
    {
     "data": {
      "text/plain": [
       "0       ATGGCT TGGCTC GGCTCC GCTCCG CTCCGA TCCGAT CCGA...\n",
       "1       ATGCCA TGCCAG GCCAGC CCAGCT CAGCTA AGCTAA GCTA...\n",
       "2       ATGGCG TGGCGG GGCGGA GCGGAC CGGACG GGACGG GACG...\n",
       "3       ATGGTT TGGTTT GGTTTT GTTTTT TTTTTA TTTTAT TTTA...\n",
       "4       ATGCTG TGCTGT GCTGTC CTGTCG TGTCGA GTCGAG TCGA...\n",
       "                              ...                        \n",
       "5995    ATGGAG TGGAGG GGAGGC GAGGCT AGGCTG GGCTGC GCTG...\n",
       "5996    ATGGCT TGGCTC GGCTCT GCTCTG CTCTGC TCTGCT CTGC...\n",
       "5997    ATGTCG TGTCGG GTCGGT TCGGTG CGGTGT GGTGTT GTGT...\n",
       "5998    ATGGCA TGGCAT GGCATG GCATGC CATGCT ATGCTA TGCT...\n",
       "5999    ATGCGA TGCGAC GCGACC CGACCG GACCGG ACCGGC CCGG...\n",
       "Name: v2, Length: 6000, dtype: object"
      ]
     },
     "execution_count": 9,
     "metadata": {},
     "output_type": "execute_result"
    }
   ],
   "source": [
    "texts=df_fasta['v2']\n",
    "texts"
   ]
  },
  {
   "cell_type": "code",
   "execution_count": 10,
   "id": "42ce362f",
   "metadata": {},
   "outputs": [
    {
     "data": {
      "text/html": [
       "<div>\n",
       "<style scoped>\n",
       "    .dataframe tbody tr th:only-of-type {\n",
       "        vertical-align: middle;\n",
       "    }\n",
       "\n",
       "    .dataframe tbody tr th {\n",
       "        vertical-align: top;\n",
       "    }\n",
       "\n",
       "    .dataframe thead th {\n",
       "        text-align: right;\n",
       "    }\n",
       "</style>\n",
       "<table border=\"1\" class=\"dataframe\">\n",
       "  <thead>\n",
       "    <tr style=\"text-align: right;\">\n",
       "      <th></th>\n",
       "      <th>v1</th>\n",
       "      <th>v2</th>\n",
       "    </tr>\n",
       "  </thead>\n",
       "  <tbody>\n",
       "    <tr>\n",
       "      <th>0</th>\n",
       "      <td>1</td>\n",
       "      <td>ATGGCT TGGCTC GGCTCC GCTCCG CTCCGA TCCGAT CCGA...</td>\n",
       "    </tr>\n",
       "    <tr>\n",
       "      <th>1</th>\n",
       "      <td>1</td>\n",
       "      <td>ATGCCA TGCCAG GCCAGC CCAGCT CAGCTA AGCTAA GCTA...</td>\n",
       "    </tr>\n",
       "    <tr>\n",
       "      <th>2</th>\n",
       "      <td>1</td>\n",
       "      <td>ATGGCG TGGCGG GGCGGA GCGGAC CGGACG GGACGG GACG...</td>\n",
       "    </tr>\n",
       "    <tr>\n",
       "      <th>3</th>\n",
       "      <td>1</td>\n",
       "      <td>ATGGTT TGGTTT GGTTTT GTTTTT TTTTTA TTTTAT TTTA...</td>\n",
       "    </tr>\n",
       "    <tr>\n",
       "      <th>4</th>\n",
       "      <td>1</td>\n",
       "      <td>ATGCTG TGCTGT GCTGTC CTGTCG TGTCGA GTCGAG TCGA...</td>\n",
       "    </tr>\n",
       "    <tr>\n",
       "      <th>...</th>\n",
       "      <td>...</td>\n",
       "      <td>...</td>\n",
       "    </tr>\n",
       "    <tr>\n",
       "      <th>5995</th>\n",
       "      <td>2</td>\n",
       "      <td>ATGGAG TGGAGG GGAGGC GAGGCT AGGCTG GGCTGC GCTG...</td>\n",
       "    </tr>\n",
       "    <tr>\n",
       "      <th>5996</th>\n",
       "      <td>2</td>\n",
       "      <td>ATGGCT TGGCTC GGCTCT GCTCTG CTCTGC TCTGCT CTGC...</td>\n",
       "    </tr>\n",
       "    <tr>\n",
       "      <th>5997</th>\n",
       "      <td>2</td>\n",
       "      <td>ATGTCG TGTCGG GTCGGT TCGGTG CGGTGT GGTGTT GTGT...</td>\n",
       "    </tr>\n",
       "    <tr>\n",
       "      <th>5998</th>\n",
       "      <td>2</td>\n",
       "      <td>ATGGCA TGGCAT GGCATG GCATGC CATGCT ATGCTA TGCT...</td>\n",
       "    </tr>\n",
       "    <tr>\n",
       "      <th>5999</th>\n",
       "      <td>2</td>\n",
       "      <td>ATGCGA TGCGAC GCGACC CGACCG GACCGG ACCGGC CCGG...</td>\n",
       "    </tr>\n",
       "  </tbody>\n",
       "</table>\n",
       "<p>6000 rows × 2 columns</p>\n",
       "</div>"
      ],
      "text/plain": [
       "      v1                                                 v2\n",
       "0      1  ATGGCT TGGCTC GGCTCC GCTCCG CTCCGA TCCGAT CCGA...\n",
       "1      1  ATGCCA TGCCAG GCCAGC CCAGCT CAGCTA AGCTAA GCTA...\n",
       "2      1  ATGGCG TGGCGG GGCGGA GCGGAC CGGACG GGACGG GACG...\n",
       "3      1  ATGGTT TGGTTT GGTTTT GTTTTT TTTTTA TTTTAT TTTA...\n",
       "4      1  ATGCTG TGCTGT GCTGTC CTGTCG TGTCGA GTCGAG TCGA...\n",
       "...   ..                                                ...\n",
       "5995   2  ATGGAG TGGAGG GGAGGC GAGGCT AGGCTG GGCTGC GCTG...\n",
       "5996   2  ATGGCT TGGCTC GGCTCT GCTCTG CTCTGC TCTGCT CTGC...\n",
       "5997   2  ATGTCG TGTCGG GTCGGT TCGGTG CGGTGT GGTGTT GTGT...\n",
       "5998   2  ATGGCA TGGCAT GGCATG GCATGC CATGCT ATGCTA TGCT...\n",
       "5999   2  ATGCGA TGCGAC GCGACC CGACCG GACCGG ACCGGC CCGG...\n",
       "\n",
       "[6000 rows x 2 columns]"
      ]
     },
     "execution_count": 10,
     "metadata": {},
     "output_type": "execute_result"
    }
   ],
   "source": [
    "df=pd.DataFrame(data=df_fasta)\n",
    "df = df_fasta.replace({\"v1\": kv_fasta.labels})\n",
    "\n",
    "df"
   ]
  },
  {
   "cell_type": "code",
   "execution_count": 11,
   "id": "d758f076",
   "metadata": {},
   "outputs": [
    {
     "name": "stderr",
     "output_type": "stream",
     "text": [
      "/home/dave/anaconda3/envs/capstone/lib/python3.10/site-packages/seaborn/_decorators.py:36: FutureWarning: Pass the following variable as a keyword arg: x. From version 0.12, the only valid positional argument will be `data`, and passing other arguments without an explicit keyword will result in an error or misinterpretation.\n",
      "  warnings.warn(\n"
     ]
    },
    {
     "data": {
      "text/plain": [
       "Text(0.5, 1.0, 'Class distribution of Dhole(1) and Wolf(2)')"
      ]
     },
     "execution_count": 11,
     "metadata": {},
     "output_type": "execute_result"
    },
    {
     "data": {
      "image/png": "[encoded data removed]",
      "text/plain": [
       "<Figure size 432x288 with 1 Axes>"
      ]
     },
     "metadata": {
      "needs_background": "light"
     },
     "output_type": "display_data"
    }
   ],
   "source": [
    "sns.countplot(df.v1)\n",
    "plt.xlabel('Class Label')\n",
    "plt.title('Class distribution of Dhole(1) and Wolf(2)')"
   ]
  },
  {
   "cell_type": "code",
   "execution_count": 12,
   "id": "be681341",
   "metadata": {},
   "outputs": [
    {
     "data": {
      "text/plain": [
       "array([1, 1, 1, ..., 2, 2, 2])"
      ]
     },
     "execution_count": 12,
     "metadata": {},
     "output_type": "execute_result"
    }
   ],
   "source": [
    "y=df['v1'].values\n",
    "y"
   ]
  },
  {
   "cell_type": "code",
   "execution_count": 17,
   "id": "b57318de",
   "metadata": {},
   "outputs": [],
   "source": [
    "# Creating the Bag of Words model:\n",
    "cv = CountVectorizer(ngram_range=(1,1), lowercase=False) #The n-gram size of 4 is previously determined by testing\n",
    "X = cv.fit_transform(texts)"
   ]
  },
  {
   "cell_type": "code",
   "execution_count": 18,
   "id": "7c2368a4",
   "metadata": {
    "scrolled": true
   },
   "outputs": [
    {
     "data": {
      "text/plain": [
       "<6000x250227 sparse matrix of type '<class 'numpy.int64'>'\n",
       "\twith 2929266 stored elements in Compressed Sparse Row format>"
      ]
     },
     "execution_count": 18,
     "metadata": {},
     "output_type": "execute_result"
    }
   ],
   "source": [
    "X"
   ]
  },
  {
   "cell_type": "code",
   "execution_count": 18,
   "id": "6d2f31f6",
   "metadata": {},
   "outputs": [],
   "source": [
    "X_train, X_test, y_train, y_test = train_test_split(X, y, test_size=0.333, random_state=42)"
   ]
  },
  {
   "cell_type": "code",
   "execution_count": 19,
   "id": "6129d976",
   "metadata": {
    "scrolled": true
   },
   "outputs": [
    {
     "name": "stdout",
     "output_type": "stream",
     "text": [
      "X.shape: [(6000, 4096)]\n",
      "len(y): [6000]\n"
     ]
    }
   ],
   "source": [
    "print(f'X.shape: [{X.shape}]')\n",
    "print(f'len(y): [{len(y)}]')"
   ]
  },
  {
   "cell_type": "code",
   "execution_count": 20,
   "id": "a50e7c9a",
   "metadata": {},
   "outputs": [
    {
     "name": "stdout",
     "output_type": "stream",
     "text": [
      "X_train.shape: [(4002, 4096)]\n",
      "len(y_train): [4002]\n",
      "X_test.shape: [(1998, 4096)]\n",
      "Confusion matrix for predictions on human test DNA sequence\n",
      "\n",
      "Predicted    1    2\n",
      "Actual             \n",
      "1          473  548\n",
      "2          365  612\n",
      "Number of mislabeled points out of a total 1998 points : 913\n",
      "accuracy = 0.543 \n",
      "precision = 0.546 \n",
      "recall = 0.543 \n",
      "f1 = 0.540\n"
     ]
    }
   ],
   "source": [
    "#from sklearn.naive_bayes import GaussianNB\n",
    "\n",
    "print(f'X_train.shape: [{X_train.shape}]')\n",
    "print(f'len(y_train): [{len(y_train)}]')\n",
    "print(f'X_test.shape: [{X_test.shape}]')\n",
    "gnb = GaussianNB()\n",
    "gnb.fit(X_train.toarray(), y_train)\n",
    "y_pred = gnb.predict(X_test.toarray())\n",
    "\n",
    "print(\"Confusion matrix for predictions on human test DNA sequence\\n\")\n",
    "print(pd.crosstab(pd.Series(y_test, name='Actual'), pd.Series(y_pred, name='Predicted')))\n",
    "\n",
    "print(\"Number of mislabeled points out of a total %d points : %d\"\n",
    "      % (X_test.shape[0], (y_test != y_pred).sum()))\n",
    "accuracy, precision, recall, f1 = get_metrics(y_test, y_pred)\n",
    "print(\"accuracy = %.3f \\nprecision = %.3f \\nrecall = %.3f \\nf1 = %.3f\" % (accuracy, precision, recall, f1))\n"
   ]
  },
  {
   "cell_type": "code",
   "execution_count": null,
   "id": "e71bb425",
   "metadata": {},
   "outputs": [],
   "source": [
    "#print(kv_fasta.alphabet)\n",
    "#s = \"GCGTAGGCCTT\"\n",
    "#print(all(letter in s for letter in list(kv_fasta.alphabet)))\n",
    "#print(all(letter in s for letter in list(kv_fasta.alphabet)))"
   ]
  },
  {
   "cell_type": "code",
   "execution_count": 21,
   "id": "a48ebab7",
   "metadata": {},
   "outputs": [
    {
     "name": "stdout",
     "output_type": "stream",
     "text": [
      "FASTA Dataset\n",
      "seq2KmerEncodedNumpyVectorFASTA\n",
      "fasta dataset: [dhole], limit: [20000]\n",
      "1000200030004000500060007000800090001000011000120001300014000150001600017000180001900020000-\n",
      "Total:             [20046]\n",
      "Using :               [16986]\n",
      "skip_count_minlength: [51]\n",
      "skip_count_alphabet:  [3008]\n",
      "fasta dataset: [wolfe], limit: [20000]\n",
      "1000200030004000sequence:[ATGGGGNNNNNNNNNNNNNNNNNNNNNNNNNNNNNNNNNNNNNNNNNNNNNNNNNNNNNNNNNNNNNNNNNNNNNNNNNNNNNNNNNNNNNNNNNNNNNNNNNNNNNNNNNNNNNNNNNNNNNNNNNNNNNNNNNNNNNNNNNNNNNNNNNNNNNNNNNNNNNNNNNNNNNNNNNNNNNNNNNNNNNNNNNNNNNNNNNNNNNNNNNNNNNNNNNNNNNNNNNNNNNNNNNNNNNNNNNNNNNNNNNNNNNNNNNNNNNNNNNNNNNNNNNNNNNNNNNNNNNNNNNNNNNNNNNNNNNNNNNNNNNNNNNNNNNNNNNNNNNNNNNNNNNNNNNNNNNNNNNNNNNNNNNNNNNNNNNNNNNNNNNNNNNNNNNNNNNNNNNNNNNNNNNNNNNNNNNNNNNNNNNNNNNNNNNNNNNNNNNNNNNNNNNNNNNNNNNNNNNNNNNNNNNNNNNNNNNNNNNNNNNNNNNNNNNNNNNNNNNNNNNNNNNNNNNNNNNN]\n",
      "500060007000800090001000011000120001300014000150001600017000180001900020000-\n",
      "Total:             [20798]\n",
      "Using :               [16250]\n",
      "skip_count_minlength: [231]\n",
      "skip_count_alphabet:  [4315]\n"
     ]
    }
   ],
   "source": [
    "e_fasta = kv_fasta.seq2KmerEncodedNumpyVectors(base_count_max=4, length_min=500, dataset_limit=20000, verbose=True)"
   ]
  },
  {
   "cell_type": "code",
   "execution_count": null,
   "id": "7fea4f3f",
   "metadata": {},
   "outputs": [],
   "source": [
    "#df=pd.DataFrame(data=e_fasta)\n",
    "#df = df_dog.replace({\"v1\": kv_fasta.labels})\n",
    "#df.groupby('v1').count()"
   ]
  },
  {
   "cell_type": "code",
   "execution_count": 22,
   "id": "8604adab",
   "metadata": {},
   "outputs": [
    {
     "data": {
      "text/plain": [
       "array([[ 859, 3438, 1466, ..., 4049, 3908, 3344],\n",
       "       [ 872, 3489, 1670, ..., 3725, 2615, 2269],\n",
       "       [ 857, 3429, 1428, ..., 2277,  919, 3679],\n",
       "       ...,\n",
       "       [ 833, 3334, 1050, ..., 2482, 1738, 2857],\n",
       "       [ 855, 3422, 1400, ..., 1686, 2649, 2404],\n",
       "       [ 879, 3517, 1783, ..., 3746, 2696, 2595]])"
      ]
     },
     "execution_count": 22,
     "metadata": {},
     "output_type": "execute_result"
    }
   ],
   "source": [
    "X=e_fasta[0]\n",
    "X"
   ]
  },
  {
   "cell_type": "code",
   "execution_count": 23,
   "id": "e0028ae0",
   "metadata": {},
   "outputs": [
    {
     "data": {
      "text/plain": [
       "array([1, 1, 1, ..., 2, 2, 2])"
      ]
     },
     "execution_count": 23,
     "metadata": {},
     "output_type": "execute_result"
    }
   ],
   "source": [
    "y=e_fasta[1]\n",
    "y"
   ]
  },
  {
   "cell_type": "code",
   "execution_count": 24,
   "id": "ab7fda86",
   "metadata": {},
   "outputs": [],
   "source": [
    "X_train, X_test, y_train, y_test = train_test_split(X, y, test_size=0.33, random_state=42)"
   ]
  },
  {
   "cell_type": "code",
   "execution_count": 25,
   "id": "87103248",
   "metadata": {},
   "outputs": [
    {
     "name": "stdout",
     "output_type": "stream",
     "text": [
      "X_train len: [22268]\n",
      "y_train len: [22268]\n",
      "X_test len: [10968]\n",
      "y_test len: [10968]\n"
     ]
    }
   ],
   "source": [
    "print(f'X_train len: [{len(X_train)}]')\n",
    "print(f'y_train len: [{len(y_train)}]')\n",
    "\n",
    "print(f'X_test len: [{len(X_test)}]')\n",
    "print(f'y_test len: [{len(y_test)}]')"
   ]
  },
  {
   "cell_type": "code",
   "execution_count": 26,
   "id": "d5e0aa71",
   "metadata": {},
   "outputs": [
    {
     "name": "stdout",
     "output_type": "stream",
     "text": [
      "Number of mislabeled points out of a total 10968 points : 4903\n"
     ]
    }
   ],
   "source": [
    "gnb = GaussianNB()\n",
    "y_pred = gnb.fit(X_train, y_train).predict(X_test)\n",
    "print(\"Number of mislabeled points out of a total %d points : %d\"\n",
    "      % (X_test.shape[0], (y_test != y_pred).sum()))"
   ]
  },
  {
   "cell_type": "markdown",
   "id": "a86bfdf4",
   "metadata": {},
   "source": [
    "###"
   ]
  },
  {
   "cell_type": "code",
   "execution_count": 27,
   "id": "c7c222bd",
   "metadata": {},
   "outputs": [
    {
     "name": "stdout",
     "output_type": "stream",
     "text": [
      "Number of mislabeled points out of a total 10968 points : 5277\n"
     ]
    }
   ],
   "source": [
    "from sklearn.naive_bayes import BernoulliNB\n",
    "\n",
    "bnb = BernoulliNB()\n",
    "y_pred = bnb.fit(X_train, y_train).predict(X_test)\n",
    "print(\"Number of mislabeled points out of a total %d points : %d\"\n",
    "      % (X_test.shape[0], (y_test != y_pred).sum()))"
   ]
  },
  {
   "cell_type": "code",
   "execution_count": null,
   "id": "02474385",
   "metadata": {},
   "outputs": [],
   "source": []
  },
  {
   "cell_type": "code",
   "execution_count": null,
   "id": "2fd4c4b3",
   "metadata": {},
   "outputs": [],
   "source": []
  },
  {
   "cell_type": "code",
   "execution_count": null,
   "id": "be9391f9",
   "metadata": {},
   "outputs": [],
   "source": []
  },
  {
   "cell_type": "code",
   "execution_count": null,
   "id": "639c187b",
   "metadata": {},
   "outputs": [],
   "source": []
  }
 ],
 "metadata": {
  "kernelspec": {
   "display_name": "Python 3 (ipykernel)",
   "language": "python",
   "name": "python3"
  },
  "language_info": {
   "codemirror_mode": {
    "name": "ipython",
    "version": 3
   },
   "file_extension": ".py",
   "mimetype": "text/x-python",
   "name": "python",
   "nbconvert_exporter": "python",
   "pygments_lexer": "ipython3",
   "version": "3.10.5"
  }
 },
 "nbformat": 4,
 "nbformat_minor": 5
}
