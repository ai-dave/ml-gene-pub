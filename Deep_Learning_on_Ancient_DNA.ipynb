{
 "cells": [
  {
   "cell_type": "markdown",
   "id": "a0a7797e",
   "metadata": {},
   "source": [
    "# Deep Learning on Ancient DNA\n",
    "\n",
    "https://towardsdatascience.com/deep-learning-on-ancient-dna-df042dc3c73d"
   ]
  },
  {
   "cell_type": "code",
   "execution_count": 1,
   "id": "73856bf1",
   "metadata": {},
   "outputs": [],
   "source": [
    "import os\n",
    "import pysam\n",
    "import numpy as np\n",
    "#os.chdir('/media/nikolay/My Book Duo/AncientDNA/')"
   ]
  },
  {
   "cell_type": "code",
   "execution_count": 2,
   "id": "c84ef752",
   "metadata": {},
   "outputs": [
    {
     "name": "stdout",
     "output_type": "stream",
     "text": [
      "total 24\n",
      "drwxrwxr-x 5 dave dave 4096 Sep 16 20:26 .\n",
      "drwxrwxr-x 6 dave dave 4096 Sep 16 17:06 ..\n",
      "drwxrwxr-x 3 dave dave 4096 Sep 16 20:26 Alignments_of_Sequence_Reads_from_5_Modern_Humans\n",
      "drwxrwxr-x 3 dave dave 4096 Sep 16 18:13 Neandertal_Sequence_Contigs_Generated_by_Genotype_Caller\n",
      "drwxrwxr-x 3 dave dave 4096 Sep 16 18:15 Neandertal_Sequence_Reads\n",
      "-rw-rw-r-- 1 dave dave 1042 Sep 16 16:59 readme\n",
      "total 5780924\n",
      "drwxrwxr-x 2 dave dave       4096 Sep 16 18:14 .\n",
      "drwxrwxr-x 3 dave dave       4096 Sep 16 18:13 ..\n",
      "-rw-rw-r-- 1 dave dave 1650448558 Sep 16 16:48 all-hg18.bam\n",
      "-rw-rw-r-- 1 dave dave    6843080 Sep 16 17:24 all-hg18.bam.bai\n",
      "-rw-rw-r-- 1 dave dave 1878104919 Sep 16 17:00 all-hg18.fasta\n",
      "-rw-rw-r-- 1 dave dave    1699436 Sep 16 18:02 Feld1-hg18.bam\n",
      "-rw-rw-r-- 1 dave dave    1758112 Sep 16 18:02 Feld1-hg18.bam.bai\n",
      "-rw-rw-r-- 1 dave dave   40602746 Sep 16 18:03 Mez1-hg18.bam\n",
      "-rw-rw-r-- 1 dave dave    5422544 Sep 16 18:03 Mez1-hg18.bam.bai\n",
      "-rw-rw-r-- 1 dave dave    1667188 Sep 16 18:03 Sid1253-hg18.bam\n",
      "-rw-rw-r-- 1 dave dave    1796240 Sep 16 18:03 Sid1253-hg18.bam.bai\n",
      "-rw-rw-r-- 1 dave dave  733782341 Sep 16 18:05 Vi33.16-hg18.bam\n",
      "-rw-rw-r-- 1 dave dave    6320752 Sep 16 18:05 Vi33.16-hg18.bam.bai\n",
      "-rw-rw-r-- 1 dave dave  836410863 Sep 16 18:08 Vi33.25-hg18.bam\n",
      "-rw-rw-r-- 1 dave dave    6330488 Sep 16 18:09 Vi33.25-hg18.bam.bai\n",
      "-rw-rw-r-- 1 dave dave  742118906 Sep 16 18:11 Vi33.26-hg18.bam\n",
      "-rw-rw-r-- 1 dave dave    6302136 Sep 16 18:12 Vi33.26-hg18.bam.bai\n",
      "total 4178700\n",
      "drwxrwxr-x 2 dave dave       4096 Sep 16 20:29 .\n",
      "drwxrwxr-x 3 dave dave       4096 Sep 16 18:15 ..\n",
      "-rw-rw-r-- 1 dave dave    2753010 Sep 16 19:24 SLFeld1.hg18.bam\n",
      "-rw-rw-r-- 1 dave dave    2047392 Sep 16 19:24 SLFeld1.hg18.bam.bai\n",
      "-rw-rw-r-- 1 dave dave   62887025 Sep 16 19:25 SLMez1.hg18.bam\n",
      "-rw-rw-r-- 1 dave dave    5700672 Sep 16 19:25 SLMez1.hg18.bam.bai\n",
      "-rw-rw-r-- 1 dave dave    2554977 Sep 16 19:25 SLSid1253.hg18.bam\n",
      "-rw-rw-r-- 1 dave dave    2200296 Sep 16 19:25 SLSid1253.hg18.bam.bai\n",
      "-rw-rw-r-- 1 dave dave 1561316357 Sep 16 19:29 SLVi33.16.hg18.bam\n",
      "-rw-rw-r-- 1 dave dave    6670816 Sep 16 19:29 SLVi33.16.hg18.bam.bai\n",
      "-rw-rw-r-- 1 dave dave 1315285922 Sep 16 19:33 SLVi33.25.hg18.bam\n",
      "-rw-rw-r-- 1 dave dave    6623272 Sep 16 19:34 SLVi33.25.hg18.bam.bai\n",
      "-rw-rw-r-- 1 dave dave 1304299975 Sep 16 19:37 SLVi33.26.hg18.bam\n",
      "-rw-rw-r-- 1 dave dave    6604560 Sep 16 19:38 SLVi33.26.hg18.bam.bai\n",
      "FILE: [../data/bioinformatics/neandertal/Deep_Learning_on_Ancient_DNA/Neandertal_Sequence_Reads/Human_hg18/SLVi33.26.hg18.bam]\n",
      "-rw-rw-r-- 1 dave dave 1304299975 Sep 16 19:37 ../data/bioinformatics/neandertal/Deep_Learning_on_Ancient_DNA/Neandertal_Sequence_Reads/Human_hg18/SLVi33.26.hg18.bam\n"
     ]
    }
   ],
   "source": [
    "DIR_ROOT = '../data/bioinformatics/neandertal/Deep_Learning_on_Ancient_DNA/'\n",
    "!ls -al $DIR_ROOT\n",
    "CONTIGS_DIR = DIR_ROOT + 'Neandertal_Sequence_Contigs_Generated_by_Genotype_Caller/Human_hg18/'\n",
    "SEQUENCE_DIR = DIR_ROOT + 'Neandertal_Sequence_Reads/Human_hg18/'\n",
    "FRENCH_DIR = DIR_ROOT + 'Alignments_of_Sequence_Reads_from_5_Modern_Humans/Human_hg18/'\n",
    "!ls -al $CONTIGS_DIR\n",
    "!ls -al $SEQUENCE_DIR\n",
    "\n",
    "# Read Bam or Fastq file (it does not have to be Bam)\n",
    "#neand = pysam.AlignmentFile(\"Neandertal.bam\", \"rb\")\n",
    "#FILE = CONTIGS_DIR + \"all-hg18.bam\"\n",
    "#FILE = CONTIGS_DIR + \"Vi33.25-hg18.bam\"\n",
    "#FILE = CONTIGS_DIR + \"Vi33.26-hg18.bam\"\n",
    "#FILE = SEQUENCE_DIR + \"SLMez1.hg18.bam\"\n",
    "#FILE = SEQUENCE_DIR + \"SLVi33.25.hg18.bam\"\n",
    "FILE = SEQUENCE_DIR + \"SLVi33.26.hg18.bam\"\n",
    "FRENCH_FILE = SEQUENCE_DIR + \"SLVi33.26.hg18.bam\"\n",
    "#FILE = FRENCH_DIR + \"MMS8_HGDP00521_French.paired.qualfilt.rmdup.entropy1.0.sort.bam\"\n",
    "print(f'FILE: [{FILE}]')\n",
    "! ls -al $FILE\n",
    "neand = pysam.AlignmentFile(FILE, \"rb\")"
   ]
  },
  {
   "cell_type": "code",
   "execution_count": 3,
   "id": "c9f91949",
   "metadata": {},
   "outputs": [],
   "source": [
    "# Record length of each DNA sequence\n",
    "iter = neand.fetch(\"chr2\", 0, 249000000)\n",
    "neand_lengths = []\n",
    "for i in iter:\n",
    "    neand_lengths.append(i.infer_query_length())"
   ]
  },
  {
   "cell_type": "code",
   "execution_count": 4,
   "id": "80de115d",
   "metadata": {
    "scrolled": true
   },
   "outputs": [
    {
     "data": {
      "image/png": "[encoded data removed]",
      "text/plain": [
       "<Figure size 842.4x595.44 with 1 Axes>"
      ]
     },
     "metadata": {
      "needs_background": "light"
     },
     "output_type": "display_data"
    }
   ],
   "source": [
    "# Plot distribution of DNA read lengths\n",
    "import seaborn as sns\n",
    "import matplotlib.pyplot as plt\n",
    "aplot=sns.displot(height=8.27, aspect=11.7/8.27, data=neand_lengths, kde=True).set_axis_labels(\"Sequence Length\", \"Sequences\")\n",
    "#aplot.set(xlim=(0,100))\n",
    "plt.show()"
   ]
  },
  {
   "cell_type": "code",
   "execution_count": 5,
   "id": "56ed5299",
   "metadata": {},
   "outputs": [],
   "source": [
    "# Extract 76 nt ancient DNA sequances\n",
    "neand_seqs = []\n",
    "for j in range(1,11):\n",
    "    iter = neand.fetch('chr' + str(j))\n",
    "    for i in iter:\n",
    "        if i.infer_query_length() == 76:\n",
    "            s = str(i.get_forward_sequence())\n",
    "            if s.count('A')>0 and s.count('C')>0 and s.count('G')>0 and s.count('T')>0 and 'N' not in s:\n",
    "                neand_seqs.append(i.get_forward_sequence())\n",
    "\n",
    "# Read modern DNA sample\n",
    "modern = pysam.AlignmentFile(FRENCH_FILE, \"rb\")\n",
    "modern_seqs = []\n",
    "for j in range(1,11):\n",
    "    iter = modern.fetch(\"chr\" + str(j))\n",
    "    for i in iter:\n",
    "        if len(modern_seqs) == len(neand_seqs):\n",
    "            break\n",
    "        else:\n",
    "            s = str(i.get_forward_sequence())\n",
    "            if s.count('A')>0 and s.count('C')>0 and s.count('G')>0 and s.count('T')>0 and 'N' not in s:\n",
    "                modern_seqs.append(i.get_forward_sequence())\n",
    "sequences = neand_seqs + modern_seqs\n",
    "labels = list(np.ones(len(neand_seqs))) + list(np.zeros(len(modern_seqs)))"
   ]
  },
  {
   "cell_type": "code",
   "execution_count": 6,
   "id": "a463606b",
   "metadata": {},
   "outputs": [
    {
     "ename": "ValueError",
     "evalue": "all input arrays must have the same shape",
     "output_type": "error",
     "traceback": [
      "\u001b[0;31m---------------------------------------------------------------------------\u001b[0m",
      "\u001b[0;31mValueError\u001b[0m                                Traceback (most recent call last)",
      "Input \u001b[0;32mIn [6]\u001b[0m, in \u001b[0;36m<cell line: 14>\u001b[0;34m()\u001b[0m\n\u001b[1;32m     11\u001b[0m   input_features\u001b[38;5;241m.\u001b[39mappend(one_hot_encoded\u001b[38;5;241m.\u001b[39mtoarray())\n\u001b[1;32m     13\u001b[0m np\u001b[38;5;241m.\u001b[39mset_printoptions(threshold\u001b[38;5;241m=\u001b[39m\u001b[38;5;241m40\u001b[39m)\n\u001b[0;32m---> 14\u001b[0m input_features \u001b[38;5;241m=\u001b[39m \u001b[43mnp\u001b[49m\u001b[38;5;241;43m.\u001b[39;49m\u001b[43mstack\u001b[49m\u001b[43m(\u001b[49m\u001b[43minput_features\u001b[49m\u001b[43m)\u001b[49m\n\u001b[1;32m     15\u001b[0m \u001b[38;5;28mprint\u001b[39m(\u001b[38;5;124m\"\u001b[39m\u001b[38;5;124mExample sequence\u001b[39m\u001b[38;5;130;01m\\n\u001b[39;00m\u001b[38;5;124m-----------------------\u001b[39m\u001b[38;5;124m\"\u001b[39m)\n\u001b[1;32m     16\u001b[0m \u001b[38;5;28mprint\u001b[39m(\u001b[38;5;124m'\u001b[39m\u001b[38;5;124mDNA Sequence #1:\u001b[39m\u001b[38;5;130;01m\\n\u001b[39;00m\u001b[38;5;124m'\u001b[39m,sequences[\u001b[38;5;241m0\u001b[39m][:\u001b[38;5;241m10\u001b[39m],\u001b[38;5;124m'\u001b[39m\u001b[38;5;124m...\u001b[39m\u001b[38;5;124m'\u001b[39m,sequences[\u001b[38;5;241m0\u001b[39m][\u001b[38;5;241m-\u001b[39m\u001b[38;5;241m10\u001b[39m:])\n",
      "File \u001b[0;32m<__array_function__ internals>:180\u001b[0m, in \u001b[0;36mstack\u001b[0;34m(*args, **kwargs)\u001b[0m\n",
      "File \u001b[0;32m~/anaconda3/envs/capstone/lib/python3.10/site-packages/numpy/core/shape_base.py:426\u001b[0m, in \u001b[0;36mstack\u001b[0;34m(arrays, axis, out)\u001b[0m\n\u001b[1;32m    424\u001b[0m shapes \u001b[38;5;241m=\u001b[39m {arr\u001b[38;5;241m.\u001b[39mshape \u001b[38;5;28;01mfor\u001b[39;00m arr \u001b[38;5;129;01min\u001b[39;00m arrays}\n\u001b[1;32m    425\u001b[0m \u001b[38;5;28;01mif\u001b[39;00m \u001b[38;5;28mlen\u001b[39m(shapes) \u001b[38;5;241m!=\u001b[39m \u001b[38;5;241m1\u001b[39m:\n\u001b[0;32m--> 426\u001b[0m     \u001b[38;5;28;01mraise\u001b[39;00m \u001b[38;5;167;01mValueError\u001b[39;00m(\u001b[38;5;124m'\u001b[39m\u001b[38;5;124mall input arrays must have the same shape\u001b[39m\u001b[38;5;124m'\u001b[39m)\n\u001b[1;32m    428\u001b[0m result_ndim \u001b[38;5;241m=\u001b[39m arrays[\u001b[38;5;241m0\u001b[39m]\u001b[38;5;241m.\u001b[39mndim \u001b[38;5;241m+\u001b[39m \u001b[38;5;241m1\u001b[39m\n\u001b[1;32m    429\u001b[0m axis \u001b[38;5;241m=\u001b[39m normalize_axis_index(axis, result_ndim)\n",
      "\u001b[0;31mValueError\u001b[0m: all input arrays must have the same shape"
     ]
    }
   ],
   "source": [
    "from sklearn.preprocessing import LabelEncoder, OneHotEncoder\n",
    "\n",
    "# One-hot encode Sequences\n",
    "integer_encoder = LabelEncoder()  \n",
    "one_hot_encoder = OneHotEncoder()   \n",
    "input_features = []\n",
    "for sequence in sequences:\n",
    "  integer_encoded = integer_encoder.fit_transform(list(sequence))\n",
    "  integer_encoded = np.array(integer_encoded).reshape(-1, 1)\n",
    "  one_hot_encoded = one_hot_encoder.fit_transform(integer_encoded)\n",
    "  input_features.append(one_hot_encoded.toarray())\n",
    "\n",
    "np.set_printoptions(threshold=40)\n",
    "input_features = np.stack(input_features)\n",
    "print(\"Example sequence\\n-----------------------\")\n",
    "print('DNA Sequence #1:\\n',sequences[0][:10],'...',sequences[0][-10:])\n",
    "print('One hot encoding of Sequence #1:\\n',input_features[0].T)\n",
    "\n",
    "# One-hot encode Labels\n",
    "one_hot_encoder = OneHotEncoder()\n",
    "labels = np.array(labels).reshape(-1, 1)\n",
    "input_labels = one_hot_encoder.fit_transform(labels).toarray()\n",
    "print('Labels:\\n',labels.T)\n",
    "print('One-hot encoded labels:\\n',input_labels.T)\n",
    "\n",
    "from sklearn.model_selection import train_test_split\n",
    "train_features, test_features, train_labels, test_labels = train_test_split(\n",
    "    input_features, input_labels, test_size=0.25, random_state=42)"
   ]
  }
 ],
 "metadata": {
  "kernelspec": {
   "display_name": "Python 3 (ipykernel)",
   "language": "python",
   "name": "python3"
  },
  "language_info": {
   "codemirror_mode": {
    "name": "ipython",
    "version": 3
   },
   "file_extension": ".py",
   "mimetype": "text/x-python",
   "name": "python",
   "nbconvert_exporter": "python",
   "pygments_lexer": "ipython3",
   "version": "3.10.5"
  }
 },
 "nbformat": 4,
 "nbformat_minor": 5
}
