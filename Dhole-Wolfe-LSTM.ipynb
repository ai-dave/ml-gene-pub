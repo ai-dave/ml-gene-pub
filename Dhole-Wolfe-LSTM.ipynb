{
 "cells": [
  {
   "cell_type": "code",
   "execution_count": 1,
   "id": "5f165cd7",
   "metadata": {},
   "outputs": [],
   "source": [
    "from bioinformatics import na_read as nr\n",
    "#from bioinformatics import NCBIDataset as nds\n",
    "from bioinformatics import FASTADataset as fads\n",
    "from bioinformatics import KmerVectors as kvec\n",
    "\n",
    "import pandas as pd\n",
    "import matplotlib.pyplot as plt\n",
    "%matplotlib inline\n",
    "import seaborn as sns\n",
    "from sklearn.metrics import accuracy_score, f1_score, precision_score, recall_score\n",
    "#from sklearn.feature_extraction.text import CountVectorizer\n",
    "#from sklearn.naive_bayes import GaussianNB\n",
    "#from sklearn.naive_bayes import MultinomialNB\n",
    "from sklearn.preprocessing import LabelEncoder\n",
    "from sklearn.model_selection import train_test_split\n",
    "from tensorflow.keras.models import Model\n",
    "from tensorflow.keras.layers import LSTM, Activation, Dense, Dropout, Input, Embedding\n",
    "from tensorflow.keras.optimizers import RMSprop\n",
    "from tensorflow.keras.preprocessing.text import Tokenizer\n",
    "from tensorflow.keras.preprocessing import sequence\n",
    "from tensorflow.keras.utils import to_categorical\n",
    "from tensorflow.keras.callbacks import EarlyStopping"
   ]
  },
  {
   "cell_type": "code",
   "execution_count": 2,
   "id": "7451230d",
   "metadata": {},
   "outputs": [],
   "source": [
    "NGDC_PATH = \"../data/bioinformatics/ngdc/\"\n",
    "IDOG_PATH = NGDC_PATH + \"idog/\"\n",
    "#!ls -al $IDOG_PATH"
   ]
  },
  {
   "cell_type": "code",
   "execution_count": 3,
   "id": "2dde1b25",
   "metadata": {},
   "outputs": [],
   "source": [
    "dhole_cds_dataset_file = IDOG_PATH + \"dhole.cds.fa\"\n",
    "wolfe_cds_dataset_file = IDOG_PATH + \"wolf.cds.fa\"\n",
    "#!ls $dhole_cds_dataset_file\n",
    "#!ls $wolfe_cds_dataset_file"
   ]
  },
  {
   "cell_type": "code",
   "execution_count": 4,
   "id": "a6e7c6d2",
   "metadata": {},
   "outputs": [],
   "source": [
    "dhole_cds_fads = fads.FASTADataset('dhole', dhole_cds_dataset_file)\n",
    "wolfe_cds_fads = fads.FASTADataset('wolfe', wolfe_cds_dataset_file)"
   ]
  },
  {
   "cell_type": "code",
   "execution_count": 5,
   "id": "d2e74c42",
   "metadata": {},
   "outputs": [],
   "source": [
    "#dhole_cds_fads.fasta_dataset"
   ]
  },
  {
   "cell_type": "code",
   "execution_count": 6,
   "id": "19eb5fa8",
   "metadata": {},
   "outputs": [],
   "source": [
    "#wolfe_cds_fads.fasta_dataset"
   ]
  },
  {
   "cell_type": "code",
   "execution_count": 7,
   "id": "a81b7223",
   "metadata": {
    "scrolled": true
   },
   "outputs": [
    {
     "name": "stdout",
     "output_type": "stream",
     "text": [
      "KmerVectors Object -\n",
      "alphabet [['A', 'G', 'C', 'T']]\n",
      "dict: [['AAAAAA', 'AAAAAG', 'AAAAAC', 'AAAAAT']]...[['TTTTTA', 'TTTTTG', 'TTTTTC', 'TTTTTT']]\n",
      "Labels: [{'dhole': 1, 'wolfe': 2}]\n",
      "[dhole]\n",
      "[../data/bioinformatics/ngdc/idog/dhole.cds.fa]\n",
      "[wolfe]\n",
      "[../data/bioinformatics/ngdc/idog/wolf.cds.fa]\n",
      "dictionary size: [4096]\n",
      "{'dhole': 1, 'wolfe': 2}\n"
     ]
    }
   ],
   "source": [
    "kv_fasta = kvec.KmerVectors(['A','G','C','T'], 6, fastadatasets=[dhole_cds_fads,wolfe_cds_fads], verbose=True)\n",
    "print(f'dictionary size: [{len(kv_fasta.dict)}]')\n",
    "print(kv_fasta.labels)"
   ]
  },
  {
   "cell_type": "code",
   "execution_count": 8,
   "id": "8f53ab35",
   "metadata": {},
   "outputs": [],
   "source": [
    "def get_metrics(y_test, y_predicted):\n",
    "    accuracy = accuracy_score(y_test, y_predicted)\n",
    "    precision = precision_score(y_test, y_predicted, average='weighted')\n",
    "    recall = recall_score(y_test, y_predicted, average='weighted')\n",
    "    f1 = f1_score(y_test, y_predicted, average='weighted')\n",
    "    return accuracy, precision, recall, f1"
   ]
  },
  {
   "cell_type": "code",
   "execution_count": null,
   "id": "64e9e685",
   "metadata": {
    "scrolled": true
   },
   "outputs": [
    {
     "name": "stdout",
     "output_type": "stream",
     "text": [
      "FASTA Dataset\n",
      "seq2KmerSentencesFASTA\n",
      "fasta dataset: [dhole]\n",
      "10002000300040005000600070008000900010000110001200013000140001500016000"
     ]
    }
   ],
   "source": [
    "df_fasta = kv_fasta.seq2KmerSentences(seq_type='fna2', base_count_max=4, length_min=1000, dataset_limit=10000, verbose=True)"
   ]
  },
  {
   "cell_type": "code",
   "execution_count": null,
   "id": "81ac8d19",
   "metadata": {
    "scrolled": true
   },
   "outputs": [],
   "source": [
    "df_fasta=pd.DataFrame(data=df_fasta)\n",
    "df_fasta"
   ]
  },
  {
   "cell_type": "code",
   "execution_count": null,
   "id": "c73f42c5",
   "metadata": {},
   "outputs": [],
   "source": [
    "texts=df_fasta['v2']\n",
    "texts"
   ]
  },
  {
   "cell_type": "code",
   "execution_count": null,
   "id": "42ce362f",
   "metadata": {
    "scrolled": true
   },
   "outputs": [],
   "source": [
    "df=pd.DataFrame(data=df_fasta)\n",
    "df = df_fasta.replace({\"v1\": kv_fasta.labels})\n",
    "\n",
    "df"
   ]
  },
  {
   "cell_type": "code",
   "execution_count": null,
   "id": "d758f076",
   "metadata": {},
   "outputs": [],
   "source": [
    "sns.countplot(df.v1)\n",
    "plt.xlabel('Class Label')\n",
    "plt.title('Class distribution of Dhole(1) and Wolf(2)')"
   ]
  },
  {
   "cell_type": "code",
   "execution_count": null,
   "id": "02474385",
   "metadata": {},
   "outputs": [],
   "source": [
    "X = df.v2\n",
    "Y = df.v1\n",
    "le = LabelEncoder()\n",
    "Y = le.fit_transform(Y)\n",
    "Y = Y.reshape(-1,1)"
   ]
  },
  {
   "cell_type": "markdown",
   "id": "ab31be51",
   "metadata": {},
   "source": [
    "Split into training and test data."
   ]
  },
  {
   "cell_type": "code",
   "execution_count": null,
   "id": "be9391f9",
   "metadata": {},
   "outputs": [],
   "source": [
    "X_train,X_test,Y_train,Y_test = train_test_split(X,Y,test_size=0.33)"
   ]
  },
  {
   "cell_type": "code",
   "execution_count": null,
   "id": "639c187b",
   "metadata": {},
   "outputs": [],
   "source": [
    "print(f'X_train len: [{len(X_train)}]')\n",
    "print(f'y_train len: [{len(Y_train)}]')\n",
    "\n",
    "print(f'X_test len: [{len(X_test)}]')\n",
    "print(f'y_test len: [{len(Y_test)}]')"
   ]
  },
  {
   "cell_type": "code",
   "execution_count": null,
   "id": "3bdaf426",
   "metadata": {},
   "outputs": [],
   "source": [
    "Y_test"
   ]
  },
  {
   "cell_type": "markdown",
   "id": "b677a10e",
   "metadata": {},
   "source": [
    "### Process the data\n",
    "* Tokenize the data and convert the text to sequences.\n",
    "* Add padding to ensure that all the sequences have the same shape.\n",
    "* There are many ways of taking the max_len and here an arbitrary length of 150 is chosen."
   ]
  },
  {
   "cell_type": "code",
   "execution_count": null,
   "id": "9a0e533d",
   "metadata": {},
   "outputs": [],
   "source": [
    "max_words = 100\n",
    "#max_words = 1000\n",
    "max_len = 1000\n",
    "#max_len = 1000\n",
    "tok = Tokenizer(num_words=max_words)\n",
    "tok.fit_on_texts(X_train)\n",
    "sequences = tok.texts_to_sequences(X_train)\n",
    "sequences_matrix = sequence.pad_sequences(sequences,maxlen=max_len)"
   ]
  },
  {
   "cell_type": "markdown",
   "id": "aaa1b846",
   "metadata": {},
   "source": [
    "### RNN\n",
    "Define the RNN structure."
   ]
  },
  {
   "cell_type": "code",
   "execution_count": null,
   "id": "b3c6b704",
   "metadata": {},
   "outputs": [],
   "source": [
    "#tf.keras.layers.Embedding(\n",
    "#    input_dim,\n",
    "#    output_dim,\n",
    "#    embeddings_initializer=\"uniform\",\n",
    "#    embeddings_regularizer=None,\n",
    "#    activity_regularizer=None,\n",
    "#    embeddings_constraint=None,\n",
    "#    mask_zero=False,\n",
    "#    input_length=None,\n",
    "#    **kwargs\n",
    "#)\n",
    "def RNN():\n",
    "    inputs = Input(name='inputs',shape=[max_len])\n",
    "#    layer = Embedding(max_words,5000,input_length=max_len)(inputs)\n",
    "    layer = Embedding(max_words,5000,input_length=max_len)(inputs)\n",
    "    layer = LSTM(64)(layer)\n",
    "    layer = Dense(256,name='FC1')(layer)\n",
    "    layer = Activation('relu')(layer)\n",
    "    layer = Dropout(0.5)(layer)\n",
    "    layer = Dense(1,name='out_layer')(layer)\n",
    "    layer = Activation('sigmoid')(layer)\n",
    "    model = Model(inputs=inputs,outputs=layer)\n",
    "    return model"
   ]
  },
  {
   "cell_type": "markdown",
   "id": "49e067ee",
   "metadata": {},
   "source": [
    "Call the function and compile the model."
   ]
  },
  {
   "cell_type": "code",
   "execution_count": null,
   "id": "bf59b386",
   "metadata": {
    "scrolled": true
   },
   "outputs": [],
   "source": [
    "model = RNN()\n",
    "model.summary()\n",
    "model.compile(loss='binary_crossentropy',optimizer=\"Adam\",metrics=['accuracy'])"
   ]
  },
  {
   "cell_type": "code",
   "execution_count": null,
   "id": "ffba914c",
   "metadata": {},
   "outputs": [],
   "source": [
    "#history = model.fit(sequences_matrix,Y_train,batch_size=128,epochs=10,\n",
    "#          validation_split=0.2,callbacks=[EarlyStopping(monitor='val_loss',min_delta=0.0001)])\n",
    "#history = model.fit(sequences_matrix,Y_train,batch_size=128,epochs=10,\n",
    "#          validation_split=0.2,callbacks=[EarlyStopping(monitor='val_loss')])\n",
    "#history = model.fit(sequences_matrix,Y_train,batch_size=128,epochs=10,\n",
    "#          validation_split=0.4,callbacks=[EarlyStopping(monitor='val_loss',min_delta=0.0001)])\n",
    "history = model.fit(sequences_matrix,Y_train,batch_size=128,epochs=10,\n",
    "          validation_split=0.2,callbacks=[])"
   ]
  },
  {
   "cell_type": "code",
   "execution_count": null,
   "id": "e73c71ee",
   "metadata": {},
   "outputs": [],
   "source": [
    "# summarize history for accuracy\n",
    "plt.plot(history.history['accuracy'])\n",
    "plt.plot(history.history['val_accuracy'])\n",
    "plt.title('model accuracy')\n",
    "plt.ylabel('accuracy')\n",
    "plt.xlabel('epoch')\n",
    "plt.legend(['train', 'test'], loc='upper left')\n",
    "plt.show()"
   ]
  },
  {
   "cell_type": "code",
   "execution_count": null,
   "id": "be4a0c29",
   "metadata": {},
   "outputs": [],
   "source": [
    "# summarize history for loss\n",
    "plt.plot(history.history['loss'])\n",
    "plt.plot(history.history['val_loss'])\n",
    "plt.title('model loss')\n",
    "plt.ylabel('loss')\n",
    "plt.xlabel('epoch')\n",
    "plt.legend(['train', 'test'], loc='upper left')\n",
    "plt.show()"
   ]
  }
 ],
 "metadata": {
  "kernelspec": {
   "display_name": "Python 3 (ipykernel)",
   "language": "python",
   "name": "python3"
  },
  "language_info": {
   "codemirror_mode": {
    "name": "ipython",
    "version": 3
   },
   "file_extension": ".py",
   "mimetype": "text/x-python",
   "name": "python",
   "nbconvert_exporter": "python",
   "pygments_lexer": "ipython3",
   "version": "3.10.5"
  }
 },
 "nbformat": 4,
 "nbformat_minor": 5
}
