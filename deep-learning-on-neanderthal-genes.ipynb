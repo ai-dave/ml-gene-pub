{
 "cells": [
  {
   "cell_type": "markdown",
   "id": "32f59512",
   "metadata": {},
   "source": [
    "# Deep Learning on Neanderthal Genes\n",
    "* https://towardsdatascience.com/deep-learning-on-neanderthal-genes-ad1478cf37e7\n",
    "* https://github.com/NikolayOskolkov/DeepLearningNeanderthalIntrogression/blob/master/DeepLearningNeanderthalIntrogression.ipynb"
   ]
  },
  {
   "cell_type": "code",
   "execution_count": 1,
   "id": "92165910",
   "metadata": {},
   "outputs": [
    {
     "name": "stderr",
     "output_type": "stream",
     "text": [
      "/home/dave/anaconda3/envs/capstone/lib/python3.10/site-packages/seaborn/distributions.py:2619: FutureWarning: `distplot` is a deprecated function and will be removed in a future version. Please adapt your code to use either `displot` (a figure-level function with similar flexibility) or `histplot` (an axes-level function for histograms).\n",
      "  warnings.warn(msg, FutureWarning)\n"
     ]
    },
    {
     "data": {
      "text/plain": [
       "Text(0, 0.5, 'Frequency')"
      ]
     },
     "execution_count": 1,
     "metadata": {},
     "output_type": "execute_result"
    },
    {
     "data": {
      "image/png": "[encoded data removed]",
      "text/plain": [
       "<Figure size 432x288 with 1 Axes>"
      ]
     },
     "metadata": {
      "needs_background": "light"
     },
     "output_type": "display_data"
    }
   ],
   "source": [
    "import pandas as pd\n",
    "import seaborn as sns\n",
    "import matplotlib.pyplot as plt\n",
    "intr_coords = pd.read_csv('../data/bioinformatics/neandertal/Akey_intr_coords.bed', header = None, sep = \"\\t\")\n",
    "intr_lengths = intr_coords.iloc[:, 2]-intr_coords.iloc[:, 1]\n",
    "sns.distplot(intr_lengths)\n",
    "plt.title(\"Distribution of Lengths of Neandertal Introgressed Regions\", fontsize = 20)\n",
    "plt.xlabel(\"Lengths of Neandertal Introgressed Regions\", fontsize = 20)\n",
    "plt.ylabel(\"Frequency\", fontsize = 20)"
   ]
  },
  {
   "cell_type": "code",
   "execution_count": 4,
   "id": "c2acfc85",
   "metadata": {},
   "outputs": [
    {
     "name": "stdout",
     "output_type": "stream",
     "text": [
      "Finished 10000 Neanderthal introgressed haplotypes\n",
      "Finished 20000 Neanderthal introgressed haplotypes\n",
      "Finished 30000 Neanderthal introgressed haplotypes\n",
      "Finished 40000 Neanderthal introgressed haplotypes\n",
      "Finished 50000 Neanderthal introgressed haplotypes\n",
      "Finished 60000 Neanderthal introgressed haplotypes\n",
      "Finished 70000 Neanderthal introgressed haplotypes\n",
      "Finished 80000 Neanderthal introgressed haplotypes\n"
     ]
    }
   ],
   "source": [
    "import subprocess\n",
    "a = 0\n",
    "with open('../data/bioinformatics/neandertal/hg19_intr_regions.fa', 'a') as fp:\n",
    "    for i in range(intr_coords.shape[0]):\n",
    "        coord = str(str(intr_coords.iloc[i, 0]) + ':' \n",
    "                    + str(intr_coords.iloc[i, 1]) + '-' + str(intr_coords.iloc[i, 2]))\n",
    "        subprocess.run(['samtools', 'faidx', '../data/bioinformatics/neandertal/hg19.fa.gz', str(coord)], stdout = fp)\n",
    "        a = a + 1\n",
    "        if a%10000 == 0:\n",
    "            print('Finished ' + str(a) + ' Neanderthal introgressed haplotypes')"
   ]
  },
  {
   "cell_type": "code",
   "execution_count": 5,
   "id": "1dce99ec",
   "metadata": {},
   "outputs": [
    {
     "name": "stdout",
     "output_type": "stream",
     "text": [
      "Finished 10000 Neanderthal introgressed haplotypes\n",
      "Finished 20000 Neanderthal introgressed haplotypes\n",
      "Finished 30000 Neanderthal introgressed haplotypes\n",
      "Finished 40000 Neanderthal introgressed haplotypes\n",
      "Finished 50000 Neanderthal introgressed haplotypes\n",
      "Finished 60000 Neanderthal introgressed haplotypes\n",
      "Finished 70000 Neanderthal introgressed haplotypes\n",
      "Finished 80000 Neanderthal introgressed haplotypes\n"
     ]
    }
   ],
   "source": [
    "import numpy as np\n",
    "chr_sizes = pd.read_csv(\"../data/bioinformatics/neandertal/hg19.fa.gz.fai\", header = None, sep = \"\\t\")\n",
    "chr_sizes = chr_sizes.drop([2, 3, 4], axis = 1)\n",
    "chr_list = []; start_list = []; end_list = []\n",
    "intr_lengths = list(intr_coords.iloc[:, 2] - intr_coords.iloc[:, 1])\n",
    "a = 0\n",
    "for i in range(intr_coords.shape[0]):\n",
    "    chr_df = intr_coords[intr_coords[0].isin([intr_coords.iloc[i,0]])]\n",
    "    overlap = True\n",
    "    while overlap == True:\n",
    "        reg_start = np.random.randint(1, int(chr_sizes[chr_sizes[0] == \n",
    "                                                       intr_coords.iloc[i,0]].iloc[:,1]))\n",
    "        reg_end = reg_start + intr_lengths[i]\n",
    "        for j in range(chr_df.shape[0]):\n",
    "            b1 = chr_df.iloc[j,1]\n",
    "            b2 = chr_df.iloc[j,2]\n",
    "            if (reg_start > b1 and reg_start < b2) or (reg_end > b1 and reg_end < b2) or \\\n",
    "            (b1 > reg_start and b1 < reg_end) or (b2 > reg_start and b2 < reg_end):\n",
    "                overlap = True\n",
    "                break\n",
    "            else:\n",
    "                overlap = False\n",
    "    chr_list.append(intr_coords.iloc[i,0])\n",
    "    start_list.append(reg_start)\n",
    "    end_list.append(reg_end)\n",
    "    a = a + 1\n",
    "    if a%10000 == 0:\n",
    "        print('Finished ' + str(a) + ' Neanderthal introgressed haplotypes')\n",
    "depl_coords = pd.DataFrame({'0': chr_list, '1': start_list, '2': end_list})\n",
    "depl_coords.to_csv(\"../data/bioinformatics/neandertal/Akey_depl_coords.bed\", index = False, header = False, sep = \"\\t\")"
   ]
  },
  {
   "cell_type": "code",
   "execution_count": 8,
   "id": "98dc9dc7",
   "metadata": {
    "scrolled": false
   },
   "outputs": [
    {
     "name": "stderr",
     "output_type": "stream",
     "text": [
      "[faidx] Truncated sequence: chr1:249240055-249282006\n",
      "[faidx] Truncated sequence: chr1:249228872-249347411\n",
      "[faidx] Truncated sequence: chr1:249243540-249469745\n",
      "[faidx] Truncated sequence: chr1:249075931-249258990\n",
      "[faidx] Truncated sequence: chr1:249222975-249308027\n",
      "[faidx] Truncated sequence: chr1:249239450-249415905\n",
      "[faidx] Truncated sequence: chr1:249206116-249324730\n",
      "[faidx] Truncated sequence: chr1:249188435-249260646\n",
      "[faidx] Truncated sequence: chr1:249136605-249382384\n",
      "[faidx] Truncated sequence: chr10:135472603-135606121\n",
      "[faidx] Truncated sequence: chr10:135519659-135695688\n",
      "[faidx] Truncated sequence: chr10:135516117-135585980\n",
      "[faidx] Truncated sequence: chr10:135513799-135747990\n",
      "[faidx] Truncated sequence: chr10:135519706-135645245\n",
      "[faidx] Truncated sequence: chr10:135528220-135539791\n"
     ]
    },
    {
     "name": "stdout",
     "output_type": "stream",
     "text": [
      "Finished 10000 Neanderthal depleted haplotypes\n"
     ]
    },
    {
     "name": "stderr",
     "output_type": "stream",
     "text": [
      "[faidx] Truncated sequence: chr10:135260332-135582287\n",
      "[faidx] Truncated sequence: chr10:135463271-135582479\n",
      "[faidx] Truncated sequence: chr11:134997847-135081353\n",
      "[faidx] Truncated sequence: chr11:134989766-135044978\n",
      "[faidx] Truncated sequence: chr11:134888940-135126338\n",
      "[faidx] Truncated sequence: chr11:134697582-135078134\n",
      "[faidx] Truncated sequence: chr11:134948413-135140658\n",
      "[faidx] Truncated sequence: chr11:134969974-135026987\n",
      "[faidx] Truncated sequence: chr12:133802649-133898697\n",
      "[faidx] Truncated sequence: chr12:133823894-133870724\n",
      "[faidx] Truncated sequence: chr12:133806093-133925305\n",
      "[faidx] Truncated sequence: chr12:133775127-133896844\n",
      "[faidx] Truncated sequence: chr12:133819106-133853905\n"
     ]
    },
    {
     "name": "stdout",
     "output_type": "stream",
     "text": [
      "Finished 20000 Neanderthal depleted haplotypes\n"
     ]
    },
    {
     "name": "stderr",
     "output_type": "stream",
     "text": [
      "[faidx] Truncated sequence: chr12:133807231-133859537\n",
      "[faidx] Truncated sequence: chr12:133830011-134119577\n",
      "[faidx] Truncated sequence: chr12:133823099-134217021\n",
      "[faidx] Truncated sequence: chr12:133830652-134028947\n",
      "[faidx] Truncated sequence: chr12:133805076-133952243\n",
      "[faidx] Truncated sequence: chr12:133846281-133877430\n",
      "[faidx] Truncated sequence: chr12:133846351-133907680\n",
      "[faidx] Truncated sequence: chr12:133844936-133896812\n",
      "[faidx] Truncated sequence: chr12:133813586-133865164\n",
      "[faidx] Truncated sequence: chr13:115140164-115474499\n",
      "[faidx] Truncated sequence: chr14:107252213-107445295\n",
      "[faidx] Truncated sequence: chr14:107235785-107494924\n",
      "[faidx] Truncated sequence: chr14:107330224-107529599\n",
      "[faidx] Truncated sequence: chr14:107204352-107693051\n",
      "[faidx] Truncated sequence: chr14:107166015-107659240\n",
      "[faidx] Truncated sequence: chr14:107096674-107360650\n",
      "[faidx] Truncated sequence: chr14:107308160-107503895\n"
     ]
    },
    {
     "name": "stdout",
     "output_type": "stream",
     "text": [
      "Finished 30000 Neanderthal depleted haplotypes\n"
     ]
    },
    {
     "name": "stderr",
     "output_type": "stream",
     "text": [
      "[faidx] Truncated sequence: chr15:102459334-102557088\n",
      "[faidx] Truncated sequence: chr15:102421307-102600317\n",
      "[faidx] Truncated sequence: chr15:102525497-102651338\n",
      "[faidx] Truncated sequence: chr15:102525109-102569145\n",
      "[faidx] Truncated sequence: chr16:90278876-90465060\n",
      "[faidx] Truncated sequence: chr16:90326805-90442504\n",
      "[faidx] Truncated sequence: chr16:90322779-90424461\n",
      "[faidx] Truncated sequence: chr16:90206211-90546120\n",
      "[faidx] Truncated sequence: chr16:90248483-90365307\n",
      "[faidx] Truncated sequence: chr17:81187323-81235034\n",
      "[faidx] Truncated sequence: chr18:77796207-78171138\n",
      "[faidx] Truncated sequence: chr18:78076044-78184854\n",
      "[faidx] Truncated sequence: chr18:78042996-78507338\n",
      "[faidx] Truncated sequence: chr18:78009432-78528403\n",
      "[faidx] Truncated sequence: chr18:77899829-78520248\n",
      "[faidx] Truncated sequence: chr18:77980976-78083516\n",
      "[faidx] Truncated sequence: chr18:78068811-78132246\n",
      "[faidx] Truncated sequence: chr2:243154594-243269993\n",
      "[faidx] Truncated sequence: chr2:243154537-243320899\n",
      "[faidx] Truncated sequence: chr2:243126178-243297491\n"
     ]
    },
    {
     "name": "stdout",
     "output_type": "stream",
     "text": [
      "Finished 40000 Neanderthal depleted haplotypes\n"
     ]
    },
    {
     "name": "stderr",
     "output_type": "stream",
     "text": [
      "[faidx] Truncated sequence: chr2:243042199-243215358\n",
      "[faidx] Truncated sequence: chr2:242987696-243705129\n",
      "[faidx] Truncated sequence: chr2:243151418-243220245\n",
      "[faidx] Truncated sequence: chr2:243198757-243493162\n",
      "[faidx] Truncated sequence: chr2:243074457-243381283\n",
      "[faidx] Truncated sequence: chr2:243195913-243344238\n",
      "[faidx] Truncated sequence: chr2:243187480-243314131\n",
      "[faidx] Truncated sequence: chr20:63020899-63059508\n",
      "[faidx] Truncated sequence: chr20:62995768-63040591\n",
      "[faidx] Truncated sequence: chr20:63001812-63057275\n",
      "[faidx] Truncated sequence: chr20:62787488-63050587\n",
      "[faidx] Truncated sequence: chr20:63017343-63202995\n",
      "[faidx] Truncated sequence: chr20:62895125-63028211\n",
      "[faidx] Truncated sequence: chr21:48086877-48224608\n",
      "[faidx] Truncated sequence: chr21:48123648-48177319\n",
      "[faidx] Truncated sequence: chr3:197971806-198050138\n",
      "[faidx] Truncated sequence: chr3:197909535-198035579\n",
      "[faidx] Truncated sequence: chr3:198016027-198188211\n"
     ]
    },
    {
     "name": "stdout",
     "output_type": "stream",
     "text": [
      "Finished 50000 Neanderthal depleted haplotypes\n"
     ]
    },
    {
     "name": "stderr",
     "output_type": "stream",
     "text": [
      "[faidx] Truncated sequence: chr3:197887085-198061593\n",
      "[faidx] Truncated sequence: chr3:197969495-198057784\n",
      "[faidx] Truncated sequence: chr3:197931112-198082008\n",
      "[faidx] Truncated sequence: chr3:197984425-198082290\n",
      "[faidx] Truncated sequence: chr3:197963906-198043355\n",
      "[faidx] Truncated sequence: chr3:198015127-198275191\n",
      "[faidx] Truncated sequence: chr4:190933650-191170136\n",
      "[faidx] Truncated sequence: chr4:191126322-191242470\n",
      "[faidx] Truncated sequence: chr4:191074983-191456476\n",
      "[faidx] Truncated sequence: chr4:191100766-191428739\n",
      "[faidx] Truncated sequence: chr4:190988720-191248172\n",
      "[faidx] Truncated sequence: chr4:191043972-191370059\n",
      "[faidx] Truncated sequence: chr4:191118312-191244321\n",
      "[faidx] Truncated sequence: chr4:191135390-191176655\n"
     ]
    },
    {
     "name": "stdout",
     "output_type": "stream",
     "text": [
      "Finished 60000 Neanderthal depleted haplotypes\n"
     ]
    },
    {
     "name": "stderr",
     "output_type": "stream",
     "text": [
      "[faidx] Truncated sequence: chr5:180866819-180919202\n",
      "[faidx] Truncated sequence: chr5:180810773-181131849\n",
      "[faidx] Truncated sequence: chr5:180899643-180956766\n",
      "[faidx] Truncated sequence: chr5:180895363-180981719\n",
      "[faidx] Truncated sequence: chr5:180887863-180929236\n",
      "[faidx] Truncated sequence: chr5:180622350-181078274\n",
      "[faidx] Truncated sequence: chr6:171040380-171346890\n",
      "[faidx] Truncated sequence: chr6:171079389-171136016\n",
      "[faidx] Truncated sequence: chr6:171098615-171143556\n",
      "[faidx] Truncated sequence: chr6:170910412-171163236\n",
      "[faidx] Truncated sequence: chr6:170827297-171412477\n",
      "[faidx] Truncated sequence: chr6:171069143-171257506\n",
      "[faidx] Truncated sequence: chr6:171021248-171145428\n",
      "[faidx] Truncated sequence: chr6:171087619-171135867\n",
      "[faidx] Truncated sequence: chr6:171033648-171130462\n",
      "[faidx] Truncated sequence: chr6:171035119-171232476\n",
      "[faidx] Truncated sequence: chr6:171077889-171241408\n",
      "[faidx] Truncated sequence: chr6:170930138-171379734\n"
     ]
    },
    {
     "name": "stdout",
     "output_type": "stream",
     "text": [
      "Finished 70000 Neanderthal depleted haplotypes\n"
     ]
    },
    {
     "name": "stderr",
     "output_type": "stream",
     "text": [
      "[faidx] Truncated sequence: chr6:170990810-171245435\n",
      "[faidx] Truncated sequence: chr7:159132874-159186456\n",
      "[faidx] Truncated sequence: chr7:159065524-159145460\n",
      "[faidx] Truncated sequence: chr7:159104097-159158194\n",
      "[faidx] Truncated sequence: chr7:159076330-159164476\n",
      "[faidx] Truncated sequence: chr8:146300054-146402636\n",
      "[faidx] Truncated sequence: chr8:146356856-146458675\n"
     ]
    },
    {
     "name": "stdout",
     "output_type": "stream",
     "text": [
      "Finished 80000 Neanderthal depleted haplotypes\n"
     ]
    },
    {
     "name": "stderr",
     "output_type": "stream",
     "text": [
      "[faidx] Truncated sequence: chr9:141197070-141334349\n",
      "[faidx] Truncated sequence: chr9:141190717-141352290\n",
      "[faidx] Truncated sequence: chr9:141203662-141375846\n",
      "[faidx] Truncated sequence: chr9:141186680-141237522\n",
      "[faidx] Truncated sequence: chr9:141095669-141413988\n",
      "[faidx] Truncated sequence: chr9:141194951-141509896\n",
      "[faidx] Truncated sequence: chr9:141095769-141238600\n",
      "[faidx] Truncated sequence: chr9:141188192-141275827\n",
      "[faidx] Truncated sequence: chr9:141187391-141260951\n"
     ]
    }
   ],
   "source": [
    "import pandas as pd\n",
    "import subprocess\n",
    "\n",
    "#depl_coords = pd.read_csv(\"../data/bioinformatics/neandertal/Akey_depl_coords.bed\", index = False, header = False, sep = \"\\t\")\n",
    "depl_coords = pd.read_csv(\"../data/bioinformatics/neandertal/Akey_depl_coords.bed\", sep = \"\\t\")\n",
    "\n",
    "a = 0\n",
    "with open('../data/bioinformatics/neandertal/hg19_depl_regions.fa', 'a') as fp:\n",
    "    for i in range(depl_coords.shape[0]):\n",
    "        coord = str(str(depl_coords.iloc[i, 0]) + ':' \n",
    "                    + str(depl_coords.iloc[i, 1]) + '-' + str(depl_coords.iloc[i, 2]))\n",
    "        subprocess.run(['samtools', 'faidx', '../data/bioinformatics/neandertal/hg19.fa.gz', str(coord)], stdout = fp)\n",
    "        a = a + 1\n",
    "        if a%10000 == 0:\n",
    "            print('Finished ' + str(a) + ' Neanderthal depleted haplotypes')"
   ]
  },
  {
   "cell_type": "code",
   "execution_count": 9,
   "id": "b7fa6ba5",
   "metadata": {},
   "outputs": [
    {
     "name": "stdout",
     "output_type": "stream",
     "text": [
      "Finished 10000 entries\n",
      "Finished 20000 entries\n",
      "Finished 30000 entries\n",
      "Finished 40000 entries\n",
      "Finished 50000 entries\n",
      "Finished 60000 entries\n",
      "Finished 70000 entries\n",
      "Finished 80000 entries\n",
      "Finished 90000 entries\n",
      "Finished 100000 entries\n",
      "Finished 110000 entries\n",
      "Finished 120000 entries\n",
      "Finished 130000 entries\n",
      "Finished 140000 entries\n",
      "Finished 150000 entries\n",
      "Finished 160000 entries\n",
      "We have processed 167202 entries and written 147054 entries to two fasta-files\n"
     ]
    }
   ],
   "source": [
    "from Bio import SeqIO\n",
    "intr_file = '../data/bioinformatics/neandertal/hg19_intr_regions.fa'\n",
    "depl_file = '../data/bioinformatics/neandertal/hg19_depl_regions.fa'\n",
    "a = 0; i = 0\n",
    "with open('../data/bioinformatics/neandertal/hg19_intr_clean.fa-2', 'a') as intr_out,open('../data/bioinformatics/neandertal/hg19_depl_clean.fa-2', 'a') as depl_out:\n",
    "    for intr, depl in zip(SeqIO.parse(intr_file, 'fasta'), SeqIO.parse(depl_file, 'fasta')):\n",
    "        upper_intr = intr.seq.upper()\n",
    "        upper_depl = depl.seq.upper()\n",
    "        a = a + 1\n",
    "        if a%10000 == 0:\n",
    "            print('Finished ' + str(a) + ' entries')\n",
    "        if 'N' not in str(upper_intr) and 'N' not in str(upper_depl):\n",
    "            intr.seq = upper_intr\n",
    "            SeqIO.write(intr, intr_out, 'fasta')\n",
    "            depl.seq = upper_depl\n",
    "            SeqIO.write(depl, depl_out, 'fasta')\n",
    "            i = i + 1\n",
    "        else:\n",
    "            continue\n",
    "print('We have processed ' + str(a) + ' entries and written ' + str(i) \n",
    "      + ' entries to two fasta-files')"
   ]
  },
  {
   "cell_type": "markdown",
   "id": "9243adc8",
   "metadata": {},
   "source": [
    "Now the data is prepared for inputting into NLP analysis. Let us proceed with the simple **Bag Of Words model**, i.e. looking at the difference in **frequency** of k-mers between Neanderthal introgressed vs. depleted sequences."
   ]
  },
  {
   "cell_type": "markdown",
   "id": "854be4b3",
   "metadata": {},
   "source": [
    "## Sentiment Analysis: Introgressed vs. Depleted\n",
    "We are going to start with formatting the sequences from the two fasta-files as texts with space-delimited k-mers as words. Because of memory limitations of my laptop I read only first 10,000 nucleotides from each sequence, then I used the function **getKmers** that splits each sequence into k-mers and merged the k-mers in space-delimited manner, so at the end, I had a list of sentences, each of them represents a list of words / k-mers."
   ]
  },
  {
   "cell_type": "code",
   "execution_count": 1,
   "id": "6bc802e7",
   "metadata": {},
   "outputs": [
    {
     "name": "stdout",
     "output_type": "stream",
     "text": [
      "Finished 20000 entries\n",
      "Finished 40000 entries\n"
     ]
    }
   ],
   "source": [
    "from Bio import SeqIO\n",
    "from Bio.Seq import Seq\n",
    "intr_file = '../data/bioinformatics/neandertal/hg19_intr_clean.fa-2';\n",
    "depl_file = '../data/bioinformatics/neandertal/hg19_depl_clean.fa-2'; e = 0\n",
    "intr_seqs = []; depl_seqs = []\n",
    "#cutoff = 10000\n",
    "cutoff = 5000\n",
    "entry_limit = 50000\n",
    "for intr, depl in zip(SeqIO.parse(intr_file, 'fasta'), SeqIO.parse(depl_file, 'fasta')):\n",
    "    my_intr_seq = str(intr.seq)[0:cutoff]\n",
    "    my_depl_seq = str(depl.seq)[0:cutoff]\n",
    "    intr_seqs.append(my_intr_seq)\n",
    "    depl_seqs.append(my_depl_seq)\n",
    "    e = e + 1\n",
    "    if e%20000 == 0:\n",
    "        print('Finished ' + str(e) + ' entries')\n",
    "    if e >= entry_limit:\n",
    "        break\n",
    "        \n",
    "def getKmers(sequence, size):\n",
    "    return [sequence[x:x+size].upper() for x in range(len(sequence) - size + 1)]\n",
    "\n",
    "kmer = 5\n",
    "intr_texts = [' '.join(getKmers(i, kmer)) for i in intr_seqs]\n",
    "depl_texts = [' '.join(getKmers(i, kmer)) for i in depl_seqs]"
   ]
  },
  {
   "cell_type": "markdown",
   "id": "e767d86b",
   "metadata": {},
   "source": [
    "Now we can easily visualize k-mer frequencies in Neanderthal introgressed and depleted sequences using the **Counter** class in Python for efficient word counting."
   ]
  },
  {
   "cell_type": "code",
   "execution_count": null,
   "id": "d056b70a",
   "metadata": {},
   "outputs": [],
   "source": [
    "from collections import Counter\n",
    "import matplotlib.pyplot as plt\n",
    "fig = plt.figure(figsize = (20,18))\n",
    "fig.subplots_adjust(hspace = 0.4, wspace = 0.4)\n",
    "\n",
    "plt.subplot(2, 1, 1)\n",
    "intr_sentences = [item.split(' ') for item in intr_texts]\n",
    "D = dict(Counter([item for sublist in intr_sentences for item in sublist]).most_common(20))\n",
    "plt.bar(range(len(D)), list(D.values()), align='center')\n",
    "plt.title('Most Common K-mers for Neanderthal Introgressed Regions', fontsize = 20)\n",
    "plt.ylabel(\"Counts\", fontsize = 20); plt.xticks(rotation = 90)\n",
    "plt.xticks(range(len(D)), list(D.keys()), fontsize = 20)\n",
    "\n",
    "plt.subplot(2, 1, 2)\n",
    "depl_sentences = [item.split(' ') for item in depl_texts]\n",
    "D = dict(Counter([item for sublist in depl_sentences for item in sublist]).most_common(20))\n",
    "plt.bar(range(len(D)), list(D.values()), align='center')\n",
    "plt.title('Most Common K-mers for Neanderthal Depleted Regions', fontsize = 20)\n",
    "plt.ylabel(\"Counts\", fontsize = 20); plt.xticks(rotation = 90)\n",
    "plt.xticks(range(len(D)), list(D.keys()), fontsize = 20)"
   ]
  }
 ],
 "metadata": {
  "kernelspec": {
   "display_name": "Python 3 (ipykernel)",
   "language": "python",
   "name": "python3"
  },
  "language_info": {
   "codemirror_mode": {
    "name": "ipython",
    "version": 3
   },
   "file_extension": ".py",
   "mimetype": "text/x-python",
   "name": "python",
   "nbconvert_exporter": "python",
   "pygments_lexer": "ipython3",
   "version": "3.10.5"
  }
 },
 "nbformat": 4,
 "nbformat_minor": 5
}
