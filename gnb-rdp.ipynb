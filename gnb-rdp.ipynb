{
 "cells": [
  {
   "cell_type": "markdown",
   "id": "3d49f554",
   "metadata": {},
   "source": [
    "# GNB-RDP\n",
    "## Gaussian Naive Bayes on Ribosomal Database Project\n",
    "\n",
    "* https://rdp.cme.msu.edu/misc/resources.jsp\n",
    "* https://scikit-learn.org/stable/modules/naive_bayes.html#gaussian-naive-bayes"
   ]
  },
  {
   "cell_type": "markdown",
   "id": "5acf42cd",
   "metadata": {},
   "source": [
    "## Iris"
   ]
  },
  {
   "cell_type": "code",
   "execution_count": 1,
   "id": "35b10f32",
   "metadata": {},
   "outputs": [
    {
     "name": "stdout",
     "output_type": "stream",
     "text": [
      "Number of mislabeled points out of a total 75 points : 4\n"
     ]
    }
   ],
   "source": [
    "from sklearn.datasets import load_iris\n",
    "from sklearn.model_selection import train_test_split\n",
    "from sklearn.naive_bayes import GaussianNB\n",
    "X, y = load_iris(return_X_y=True)\n",
    "X_train, X_test, y_train, y_test = train_test_split(X, y, test_size=0.5, random_state=0)\n",
    "gnb = GaussianNB()\n",
    "y_pred = gnb.fit(X_train, y_train).predict(X_test)\n",
    "print(\"Number of mislabeled points out of a total %d points : %d\"\n",
    "      % (X_test.shape[0], (y_test != y_pred).sum()))\n"
   ]
  },
  {
   "cell_type": "markdown",
   "id": "d9eaa334",
   "metadata": {},
   "source": [
    "## RDP"
   ]
  },
  {
   "cell_type": "code",
   "execution_count": 2,
   "id": "74b52d8c",
   "metadata": {},
   "outputs": [],
   "source": [
    "from bioinformatics import na_read\n",
    "from bioinformatics import KmerVectors as kvec\n",
    "from bioinformatics import NCBIDataset as nds\n",
    "from bioinformatics import FASTADataset as fads"
   ]
  },
  {
   "cell_type": "code",
   "execution_count": 3,
   "id": "709955a9",
   "metadata": {},
   "outputs": [],
   "source": [
    "RDP_PATH=\"../data/bioinformatics/rdp/202208/\"\n",
    "\n",
    "archaea_file = RDP_PATH + \"current_Archaea_unaligned.fa\"\n",
    "bacteria_file = RDP_PATH + \"current_Bacteria_unaligned.fa\"\n",
    "fungi_file = RDP_PATH + \"current_Fungi_unaligned.fa\""
   ]
  },
  {
   "cell_type": "code",
   "execution_count": 4,
   "id": "9990f48d",
   "metadata": {},
   "outputs": [
    {
     "name": "stdout",
     "output_type": "stream",
     "text": [
      "archaea: [160767]\n",
      "bacteria: [3196041]\n"
     ]
    }
   ],
   "source": [
    "archaea_fads = fads.FASTADataset('archaea', archaea_file, limit=0)\n",
    "print(f'archaea: [{len(archaea_fads.fasta_dataset)}]')\n",
    "#archaea.fasta_dataset\n",
    "bacteria_fads = fads.FASTADataset('bacteria', bacteria_file, limit=0)\n",
    "print(f'bacteria: [{len(bacteria_fads.fasta_dataset)}]')"
   ]
  },
  {
   "cell_type": "code",
   "execution_count": 5,
   "id": "b6f26d05",
   "metadata": {},
   "outputs": [
    {
     "name": "stdout",
     "output_type": "stream",
     "text": [
      "KmerVectors Object -\n",
      "alphabet [['A', 'G', 'C', 'T']]\n",
      "dict: [['AAAAAAAA', 'AAAAAAAG', 'AAAAAAAC', 'AAAAAAAT']]...[['TTTTTTTA', 'TTTTTTTG', 'TTTTTTTC', 'TTTTTTTT']]\n",
      "Labels: [{'archaea': 1, 'bacteria': 2}]\n",
      "[archaea]\n",
      "[../data/bioinformatics/rdp/202208/current_Archaea_unaligned.fa]\n",
      "[bacteria]\n",
      "[../data/bioinformatics/rdp/202208/current_Bacteria_unaligned.fa]\n",
      "{'archaea': 1, 'bacteria': 2}\n"
     ]
    }
   ],
   "source": [
    "kv = kvec.KmerVectors(['A','G','C','T'], 8, fastadatasets=[archaea_fads, bacteria_fads])\n",
    "print(kv.labels)"
   ]
  },
  {
   "cell_type": "code",
   "execution_count": 6,
   "id": "ab8ab77c",
   "metadata": {},
   "outputs": [
    {
     "name": "stdout",
     "output_type": "stream",
     "text": [
      "FASTA Dataset\n",
      "fasta dataset: [archaea], limit: [10000]\n",
      "10002000300040005000600070008000900010000capped at [10000]\n",
      "-\n",
      "Total:             [10785]\n",
      "Using :               [10001]\n",
      "skip_count_minlength: [660]\n",
      "skip_count_alphabet:  [125]\n",
      "fasta dataset: [bacteria], limit: [10000]\n",
      "10002000300040005000600070008000900010000capped at [10000]\n",
      "-\n",
      "Total:             [10584]\n",
      "Using :               [10001]\n",
      "skip_count_minlength: [421]\n",
      "skip_count_alphabet:  [163]\n"
     ]
    }
   ],
   "source": [
    "e = kv.seq2KmerEncodedNumpyVectors(base_count_max=4, length_min=500, dataset_limit=10000)"
   ]
  },
  {
   "cell_type": "code",
   "execution_count": 7,
   "id": "27672f0d",
   "metadata": {},
   "outputs": [
    {
     "data": {
      "text/plain": [
       "array([[30342, 55834, 26729, ..., 21321, 19749, 13462],\n",
       "       [30342, 55834, 26729, ..., 19749, 13462, 53850],\n",
       "       [30342, 55834, 26729, ..., 19749, 13462, 53850],\n",
       "       ...,\n",
       "       [22375, 23964, 30320, ..., 44359, 46367, 54397],\n",
       "       [63831, 58718, 38266, ..., 11109, 44438, 46683],\n",
       "       [42588, 39280, 26051, ..., 20770, 17545,  4646]])"
      ]
     },
     "execution_count": 7,
     "metadata": {},
     "output_type": "execute_result"
    }
   ],
   "source": [
    "X=e[0]\n",
    "X"
   ]
  },
  {
   "cell_type": "code",
   "execution_count": 8,
   "id": "59d7980b",
   "metadata": {},
   "outputs": [
    {
     "data": {
      "text/plain": [
       "array([1, 1, 1, ..., 2, 2, 2])"
      ]
     },
     "execution_count": 8,
     "metadata": {},
     "output_type": "execute_result"
    }
   ],
   "source": [
    "y=e[1]\n",
    "y"
   ]
  },
  {
   "cell_type": "code",
   "execution_count": 9,
   "id": "44eb7ad5",
   "metadata": {},
   "outputs": [],
   "source": [
    "from sklearn.model_selection import train_test_split\n",
    "\n",
    "X_train, X_test, y_train, y_test = train_test_split(X, y, test_size=0.33, random_state=42)"
   ]
  },
  {
   "cell_type": "code",
   "execution_count": 10,
   "id": "1116df92",
   "metadata": {},
   "outputs": [
    {
     "name": "stdout",
     "output_type": "stream",
     "text": [
      "X_train len: [13400]\n",
      "y_train len: [13400]\n",
      "X_test len: [6600]\n",
      "y_test len: [6600]\n"
     ]
    }
   ],
   "source": [
    "print(f'X_train len: [{len(X_train)}]')\n",
    "print(f'y_train len: [{len(y_train)}]')\n",
    "\n",
    "print(f'X_test len: [{len(X_test)}]')\n",
    "print(f'y_test len: [{len(y_test)}]')"
   ]
  },
  {
   "cell_type": "code",
   "execution_count": 11,
   "id": "4d701eb1",
   "metadata": {},
   "outputs": [
    {
     "name": "stdout",
     "output_type": "stream",
     "text": [
      "Number of mislabeled points out of a total 6600 points : 1246\n"
     ]
    }
   ],
   "source": [
    "gnb = GaussianNB()\n",
    "y_pred = gnb.fit(X_train, y_train).predict(X_test)\n",
    "print(\"Number of mislabeled points out of a total %d points : %d\"\n",
    "      % (X_test.shape[0], (y_test != y_pred).sum()))\n"
   ]
  }
 ],
 "metadata": {
  "kernelspec": {
   "display_name": "Python 3 (ipykernel)",
   "language": "python",
   "name": "python3"
  },
  "language_info": {
   "codemirror_mode": {
    "name": "ipython",
    "version": 3
   },
   "file_extension": ".py",
   "mimetype": "text/x-python",
   "name": "python",
   "nbconvert_exporter": "python",
   "pygments_lexer": "ipython3",
   "version": "3.10.5"
  }
 },
 "nbformat": 4,
 "nbformat_minor": 5
}
