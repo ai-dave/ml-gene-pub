{
 "cells": [
  {
   "cell_type": "markdown",
   "id": "a3b9649d",
   "metadata": {},
   "source": [
    "$ datasets download genome taxon 2559587 --filename Riboviria-clad-virus-2559587.zip\n",
    "\n",
    "datasets --api-key 222e331106a08414fef34a705ed4b8038408 download genome taxon 2559587 --filename Riboviria-clad-virus-2559587.zip\n",
    "Collecting 16,015 genome accessions [================================================] 100% 16015/16015\n",
    "Downloading: Riboviria-clad-virus-2559587.zip    564kB 36.9kB/s"
   ]
  },
  {
   "cell_type": "code",
   "execution_count": 1,
   "id": "352218c5",
   "metadata": {},
   "outputs": [],
   "source": [
    "import NCBIDataset as nds\n",
    "import KmerVectors as kvec\n",
    "from collections import Counter\n",
    "import json\n",
    "import numpy as np\n",
    "import pandas as pd\n",
    "import matplotlib.pyplot as plt\n",
    "import seaborn as sns\n",
    "from sklearn.model_selection import train_test_split\n",
    "from sklearn.preprocessing import LabelEncoder\n",
    "from tensorflow.keras.models import Model\n",
    "from tensorflow.keras.layers import LSTM, Activation, Dense, Dropout, Input, Embedding\n",
    "from tensorflow.keras.optimizers import RMSprop\n",
    "from tensorflow.keras.preprocessing.text import Tokenizer\n",
    "from tensorflow.keras.preprocessing import sequence\n",
    "from tensorflow.keras.utils import to_categorical\n",
    "from tensorflow.keras.callbacks import EarlyStopping\n",
    "%matplotlib inline"
   ]
  },
  {
   "cell_type": "code",
   "execution_count": 2,
   "id": "4b97a706",
   "metadata": {},
   "outputs": [],
   "source": [
    "PTH=\"../../../../data/na_read/\"\n",
    "TAX_PATH=\"../../../../data/ncbi/genome/taxonomy/\"\n",
    "TAX_VIRUS_PATH=\"../../../../data/ncbi/genome/taxonomy/Viruses_10239/\"\n",
    "\n",
    "#!ls -al $TAX_VIRUS_PATH\n",
    "\n",
    "adnaviria_dir    = TAX_VIRUS_PATH + \"Adnaviria_2840022/\"\n",
    "bamfordvirae_dir = TAX_VIRUS_PATH + \"Bamfordvirae_2732005/Nucleocytoviricota_2732007/Pokkesviricetes_2732525/Chitovirales_2732527/Poxviridae_10240/Orthopoxvirus_10242/\"\n",
    "riboviria_dir    = TAX_VIRUS_PATH + \"Riboviria_2559587/Orthornavirae_2732396/Pisuviricota_2732408/Pisoniviricetes_2732506/Nidovirales_76804/Cornidovirineae_2499399/Coronaviridae_11118/Orthocoronavirinae_2501931/\"\n",
    "#\"Riboviria_2559587/\"\n",
    "\n",
    "adnaviria_dataset    = adnaviria_dir     + \"ncbi_dataset.zip\"   #\n",
    "bamfordvirae_dataset = bamfordvirae_dir  + \"ncbi_dataset.zip\"   # pox\n",
    "riboviria_dataset    = riboviria_dir     + \"ncbi_dataset.zip\"   # sars-cov2"
   ]
  },
  {
   "cell_type": "code",
   "execution_count": 3,
   "id": "6e02f541",
   "metadata": {},
   "outputs": [
    {
     "name": "stdout",
     "output_type": "stream",
     "text": [
      "dataset name: [adnaviria]\n",
      "# fna/fna2 files Total:  [103]\n",
      "# fna cds_from_genomic files: [39]\n",
      "# fna2 genomic files :  [64]\n",
      "# gff files:  [39]\n",
      "# faa files:  [39]\n",
      "{\n",
      "  \"name\": \"INSDC Submitter\",\n",
      "  \"releaseDate\": \"2001-11-06\",\n",
      "  \"stats\": {\n",
      "    \"geneCounts\": {\n",
      "      \"proteinCoding\": 73,\n",
      "      \"total\": 73\n",
      "    }\n",
      "  }\n",
      "}\n",
      "1\tSulfolobus islandicus filamentous virus: 2\n",
      "2\tCaptovirus AFV1: 2\n",
      "3\tSulfolobus islandicus rod-shaped virus 1: 2\n",
      "4\tSulfolobus islandicus rod-shaped virus 2: 2\n",
      "5\tAcidianus rod-shaped virus 1: 2\n",
      "...\t...\n",
      "32\tSulfolobales Beppu filamentous phage 1: 1\n",
      "33\tAcidianus rod-shaped virus 3: 1\n",
      "34\tMetallosphaera rod-shaped virus 1: 1\n",
      "35\tSaccharolobus solfataricus rod-shaped virus 1: 1\n",
      "36\tPyrobaculum filamentous virus 2: 1\n",
      "dataset name: [bamfordvirae]\n",
      "# fna/fna2 files Total:  [810]\n",
      "# fna cds_from_genomic files: [324]\n",
      "# fna2 genomic files :  [486]\n",
      "# gff files:  [324]\n",
      "# faa files:  [324]\n",
      "{\n",
      "  \"name\": \"INSDC Submitter\",\n",
      "  \"releaseDate\": \"2002-04-16\",\n",
      "  \"stats\": {\n",
      "    \"geneCounts\": {\n",
      "      \"proteinCoding\": 231,\n",
      "      \"total\": 231\n",
      "    }\n",
      "  }\n",
      "}\n",
      "1\tCowpox virus: 87\n",
      "2\tEctromelia virus: 3\n",
      "3\tHorsepox virus: 3\n",
      "4\tMonkeypox virus: 183\n",
      "5\tBuffalopox virus: 9\n",
      "...\t...\n",
      "23\tVaccinia virus Copenhagen: 1\n",
      "24\tVaccinia virus WAU86/88-1: 1\n",
      "25\tVariola minor virus: 1\n",
      "26\tVariola major virus: 1\n",
      "27\tVaccinia virus Tian Tan: 1\n",
      "dataset name: [riboviria]\n",
      "# fna/fna2 files Total:  [496]\n",
      "# fna cds_from_genomic files: [227]\n",
      "# fna2 genomic files :  [269]\n",
      "# gff files:  [227]\n",
      "# faa files:  [227]\n",
      "\"\"\n",
      "1\tPorcine epidemic diarrhea virus: 45\n",
      "2\tHuman coronavirus 229E: 2\n",
      "3\tHuman coronavirus NL63: 2\n",
      "4\tFeline infectious peritonitis virus: 2\n",
      "5\tHuman coronavirus HKU1: 2\n",
      "...\t...\n",
      "61\tSwine enteric coronavirus: 3\n",
      "62\tWencheng Sm shrew coronavirus: 4\n",
      "63\tTransmissible gastroenteritis virus: 2\n",
      "64\tSevere acute respiratory syndrome-related coronavirus: 1\n",
      "65\tTylonycteris bat coronavirus HKU33: 1\n"
     ]
    }
   ],
   "source": [
    "adnaviria_nds = nds.NCBIDataset('adnaviria', adnaviria_dataset)\n",
    "adnaviria_nds.dataset_summary()\n",
    "\n",
    "bamfordvirae_nds = nds.NCBIDataset('bamfordvirae', bamfordvirae_dataset)\n",
    "bamfordvirae_nds.dataset_summary()\n",
    "\n",
    "riboviria_nds = nds.NCBIDataset('riboviria', riboviria_dataset)\n",
    "riboviria_nds.dataset_summary()"
   ]
  },
  {
   "cell_type": "code",
   "execution_count": 4,
   "id": "e6edebfd",
   "metadata": {},
   "outputs": [
    {
     "name": "stdout",
     "output_type": "stream",
     "text": [
      "KmerVectors Object -\n",
      "alphabet [['A', 'G', 'C', 'T']]\n",
      "dict: [['AAAAAA', 'AAAAAG', 'AAAAAC', 'AAAAAT']]...[['TTTTTA', 'TTTTTG', 'TTTTTC', 'TTTTTT']]\n",
      "Labels: [{'bamfordvirae': 1, 'riboviria': 2}]\n",
      "[bamfordvirae]\n",
      "[../../../../data/ncbi/genome/taxonomy/Viruses_10239/Bamfordvirae_2732005/Nucleocytoviricota_2732007/Pokkesviricetes_2732525/Chitovirales_2732527/Poxviridae_10240/Orthopoxvirus_10242/ncbi_dataset.zip]\n",
      "dataset name: [bamfordvirae]\n",
      "   fna/fna2 files Total:  [810]\n",
      "   fna cds_from_genomic files: [324]\n",
      "   fna2 genomic files :  [486]\n",
      "   gff files:  [324]\n",
      "   faa files:  [324]\n",
      "class labels: [{'bamfordvirae': 1, 'riboviria': 2}]\n",
      "[riboviria]\n",
      "[../../../../data/ncbi/genome/taxonomy/Viruses_10239/Riboviria_2559587/Orthornavirae_2732396/Pisuviricota_2732408/Pisoniviricetes_2732506/Nidovirales_76804/Cornidovirineae_2499399/Coronaviridae_11118/Orthocoronavirinae_2501931/ncbi_dataset.zip]\n",
      "dataset name: [riboviria]\n",
      "   fna/fna2 files Total:  [496]\n",
      "   fna cds_from_genomic files: [227]\n",
      "   fna2 genomic files :  [269]\n",
      "   gff files:  [227]\n",
      "   faa files:  [227]\n",
      "class labels: [{'bamfordvirae': 1, 'riboviria': 2}]\n",
      "{'bamfordvirae': 1, 'riboviria': 2}\n",
      "seq2KmerVec Numpy\n",
      "ncbi dataset: [bamfordvirae]\n",
      "-\n",
      "Total:                [487]\n",
      "Using :               [422]\n",
      "skip_count_seqtype: [0]\n",
      "skip_count_minlength: [65]\n",
      "skip_count_alphabet: [0]\n",
      "ncbi dataset: [riboviria]\n",
      "-\n",
      "Total:                [270]\n",
      "Using :               [252]\n",
      "skip_count_seqtype: [0]\n",
      "skip_count_minlength: [17]\n",
      "skip_count_alphabet: [1]\n"
     ]
    }
   ],
   "source": [
    "kv = kvec.KmerVectors(['A','G','C','T'], 6, [bamfordvirae_nds, riboviria_nds])\n",
    "print(kv.labels)\n",
    "d = kv.seq2KmerSentences('fna2', base_count_max=4, length_min=10000)"
   ]
  },
  {
   "cell_type": "code",
   "execution_count": 16,
   "id": "a6ecc562",
   "metadata": {},
   "outputs": [
    {
     "data": {
      "text/html": [
       "<div>\n",
       "<style scoped>\n",
       "    .dataframe tbody tr th:only-of-type {\n",
       "        vertical-align: middle;\n",
       "    }\n",
       "\n",
       "    .dataframe tbody tr th {\n",
       "        vertical-align: top;\n",
       "    }\n",
       "\n",
       "    .dataframe thead th {\n",
       "        text-align: right;\n",
       "    }\n",
       "</style>\n",
       "<table border=\"1\" class=\"dataframe\">\n",
       "  <thead>\n",
       "    <tr style=\"text-align: right;\">\n",
       "      <th></th>\n",
       "      <th>v1</th>\n",
       "      <th>v2</th>\n",
       "    </tr>\n",
       "  </thead>\n",
       "  <tbody>\n",
       "    <tr>\n",
       "      <th>0</th>\n",
       "      <td>bamfordvirae</td>\n",
       "      <td>TAGTAA AGTAAA GTAAAA TAAAAT AAAATT AAATTA AATT...</td>\n",
       "    </tr>\n",
       "    <tr>\n",
       "      <th>1</th>\n",
       "      <td>bamfordvirae</td>\n",
       "      <td>CACGAC ACGACT CGACTG GACTGT ACTGTA CTGTAG TGTA...</td>\n",
       "    </tr>\n",
       "    <tr>\n",
       "      <th>2</th>\n",
       "      <td>bamfordvirae</td>\n",
       "      <td>AAGCAC AGCACT GCACTC CACTCA ACTCAT CTCATT TCAT...</td>\n",
       "    </tr>\n",
       "    <tr>\n",
       "      <th>3</th>\n",
       "      <td>bamfordvirae</td>\n",
       "      <td>AAGCAC AGCACT GCACTC CACTCA ACTCAT CTCATT TCAT...</td>\n",
       "    </tr>\n",
       "    <tr>\n",
       "      <th>4</th>\n",
       "      <td>bamfordvirae</td>\n",
       "      <td>GACTCC ACTCCA CTCCAT TCCATC CCATCA CATCAG ATCA...</td>\n",
       "    </tr>\n",
       "    <tr>\n",
       "      <th>...</th>\n",
       "      <td>...</td>\n",
       "      <td>...</td>\n",
       "    </tr>\n",
       "    <tr>\n",
       "      <th>667</th>\n",
       "      <td>riboviria</td>\n",
       "      <td>GACAAA ACAAAG CAAAGC AAAGCT AAGCTG AGCTGA GCTG...</td>\n",
       "    </tr>\n",
       "    <tr>\n",
       "      <th>668</th>\n",
       "      <td>riboviria</td>\n",
       "      <td>AGTAAA GTAAAG TAAAGT AAAGTG AAGTGA AGTGAG GTGA...</td>\n",
       "    </tr>\n",
       "    <tr>\n",
       "      <th>669</th>\n",
       "      <td>riboviria</td>\n",
       "      <td>CGGGTT GGGTTT GGTTTT GTTTTT TTTTTT TTTTTG TTTT...</td>\n",
       "    </tr>\n",
       "    <tr>\n",
       "      <th>670</th>\n",
       "      <td>riboviria</td>\n",
       "      <td>ACTTTT CTTTTA TTTTAA TTTAAA TTAAAG TAAAGT AAAG...</td>\n",
       "    </tr>\n",
       "    <tr>\n",
       "      <th>671</th>\n",
       "      <td>riboviria</td>\n",
       "      <td>GGCTCG GCTCGT CTCGTC TCGTCT CGTCTT GTCTTC TCTT...</td>\n",
       "    </tr>\n",
       "  </tbody>\n",
       "</table>\n",
       "<p>672 rows × 2 columns</p>\n",
       "</div>"
      ],
      "text/plain": [
       "               v1                                                 v2\n",
       "0    bamfordvirae  TAGTAA AGTAAA GTAAAA TAAAAT AAAATT AAATTA AATT...\n",
       "1    bamfordvirae  CACGAC ACGACT CGACTG GACTGT ACTGTA CTGTAG TGTA...\n",
       "2    bamfordvirae  AAGCAC AGCACT GCACTC CACTCA ACTCAT CTCATT TCAT...\n",
       "3    bamfordvirae  AAGCAC AGCACT GCACTC CACTCA ACTCAT CTCATT TCAT...\n",
       "4    bamfordvirae  GACTCC ACTCCA CTCCAT TCCATC CCATCA CATCAG ATCA...\n",
       "..            ...                                                ...\n",
       "667     riboviria  GACAAA ACAAAG CAAAGC AAAGCT AAGCTG AGCTGA GCTG...\n",
       "668     riboviria  AGTAAA GTAAAG TAAAGT AAAGTG AAGTGA AGTGAG GTGA...\n",
       "669     riboviria  CGGGTT GGGTTT GGTTTT GTTTTT TTTTTT TTTTTG TTTT...\n",
       "670     riboviria  ACTTTT CTTTTA TTTTAA TTTAAA TTAAAG TAAAGT AAAG...\n",
       "671     riboviria  GGCTCG GCTCGT CTCGTC TCGTCT CGTCTT GTCTTC TCTT...\n",
       "\n",
       "[672 rows x 2 columns]"
      ]
     },
     "execution_count": 16,
     "metadata": {},
     "output_type": "execute_result"
    }
   ],
   "source": [
    "df=pd.DataFrame(data=d)\n",
    "df"
   ]
  },
  {
   "cell_type": "code",
   "execution_count": 6,
   "id": "a0e5063e",
   "metadata": {
    "scrolled": true
   },
   "outputs": [
    {
     "name": "stderr",
     "output_type": "stream",
     "text": [
      "/home/dave/anaconda3/envs/capstone/lib/python3.10/site-packages/seaborn/_decorators.py:36: FutureWarning: Pass the following variable as a keyword arg: x. From version 0.12, the only valid positional argument will be `data`, and passing other arguments without an explicit keyword will result in an error or misinterpretation.\n",
      "  warnings.warn(\n"
     ]
    },
    {
     "data": {
      "text/plain": [
       "Text(0.5, 1.0, 'Number of Samples by Label')"
      ]
     },
     "execution_count": 6,
     "metadata": {},
     "output_type": "execute_result"
    },
    {
     "data": {
      "image/png": "[encoded data removed]",
      "text/plain": [
       "<Figure size 432x288 with 1 Axes>"
      ]
     },
     "metadata": {
      "needs_background": "light"
     },
     "output_type": "display_data"
    }
   ],
   "source": [
    "sns.countplot(df.v1)\n",
    "plt.xlabel('Label')\n",
    "plt.title('Number of Samples by Label')"
   ]
  },
  {
   "cell_type": "markdown",
   "id": "b52ae9ca",
   "metadata": {},
   "source": [
    "* Create input and output vectors.\n",
    "* Process the labels."
   ]
  },
  {
   "cell_type": "code",
   "execution_count": 7,
   "id": "b86f5cdb",
   "metadata": {},
   "outputs": [],
   "source": [
    "X = df.v2\n",
    "Y = df.v1\n",
    "le = LabelEncoder()\n",
    "Y = le.fit_transform(Y)\n",
    "Y = Y.reshape(-1,1)"
   ]
  },
  {
   "cell_type": "markdown",
   "id": "5a63230b",
   "metadata": {},
   "source": [
    "Split into training and test data."
   ]
  },
  {
   "cell_type": "code",
   "execution_count": 8,
   "id": "1a88cdf1",
   "metadata": {},
   "outputs": [],
   "source": [
    "X_train,X_test,Y_train,Y_test = train_test_split(X,Y,test_size=0.15)"
   ]
  },
  {
   "cell_type": "markdown",
   "id": "dca56895",
   "metadata": {},
   "source": [
    "### Process the data\n",
    "* Tokenize the data and convert the text to sequences.\n",
    "* Add padding to ensure that all the sequences have the same shape.\n",
    "* There are many ways of taking the max_len and here an arbitrary length of 150 is chosen."
   ]
  },
  {
   "cell_type": "code",
   "execution_count": 9,
   "id": "cdece4be",
   "metadata": {},
   "outputs": [],
   "source": [
    "max_words = 5000\n",
    "max_len = 10000\n",
    "tok = Tokenizer(num_words=max_words)\n",
    "tok.fit_on_texts(X_train)\n",
    "sequences = tok.texts_to_sequences(X_train)\n",
    "sequences_matrix = sequence.pad_sequences(sequences,maxlen=max_len)"
   ]
  },
  {
   "cell_type": "markdown",
   "id": "70864984",
   "metadata": {},
   "source": [
    "### RNN\n",
    "Define the RNN structure."
   ]
  },
  {
   "cell_type": "code",
   "execution_count": 20,
   "id": "5b0e25ef",
   "metadata": {},
   "outputs": [],
   "source": [
    "#tf.keras.layers.Embedding(\n",
    "#    input_dim,\n",
    "#    output_dim,\n",
    "#    embeddings_initializer=\"uniform\",\n",
    "#    embeddings_regularizer=None,\n",
    "#    activity_regularizer=None,\n",
    "#    embeddings_constraint=None,\n",
    "#    mask_zero=False,\n",
    "#    input_length=None,\n",
    "#    **kwargs\n",
    "#)\n",
    "def RNN():\n",
    "    inputs = Input(name='inputs',shape=[max_len])\n",
    "    layer = Embedding(max_words,5000,input_length=max_len)(inputs)\n",
    "    layer = LSTM(64)(layer)\n",
    "    layer = Dense(256,name='FC1')(layer)\n",
    "    layer = Activation('relu')(layer)\n",
    "    layer = Dropout(0.5)(layer)\n",
    "    layer = Dense(1,name='out_layer')(layer)\n",
    "    layer = Activation('sigmoid')(layer)\n",
    "    model = Model(inputs=inputs,outputs=layer)\n",
    "    return model"
   ]
  },
  {
   "cell_type": "markdown",
   "id": "2efc1dce",
   "metadata": {},
   "source": [
    "Call the function and compile the model."
   ]
  },
  {
   "cell_type": "code",
   "execution_count": 11,
   "id": "bbce9b5e",
   "metadata": {
    "scrolled": true
   },
   "outputs": [
    {
     "name": "stderr",
     "output_type": "stream",
     "text": [
      "2022-08-09 21:36:28.306654: I tensorflow/core/platform/cpu_feature_guard.cc:151] This TensorFlow binary is optimized with oneAPI Deep Neural Network Library (oneDNN) to use the following CPU instructions in performance-critical operations:  SSE4.1 SSE4.2 AVX AVX2 FMA\n",
      "To enable them in other operations, rebuild TensorFlow with the appropriate compiler flags.\n"
     ]
    },
    {
     "name": "stdout",
     "output_type": "stream",
     "text": [
      "Model: \"model\"\n",
      "_________________________________________________________________\n",
      " Layer (type)                Output Shape              Param #   \n",
      "=================================================================\n",
      " inputs (InputLayer)         [(None, 10000)]           0         \n",
      "                                                                 \n",
      " embedding (Embedding)       (None, 10000, 50)         250000    \n",
      "                                                                 \n",
      " lstm (LSTM)                 (None, 64)                29440     \n",
      "                                                                 \n",
      " FC1 (Dense)                 (None, 256)               16640     \n",
      "                                                                 \n",
      " activation (Activation)     (None, 256)               0         \n",
      "                                                                 \n",
      " dropout (Dropout)           (None, 256)               0         \n",
      "                                                                 \n",
      " out_layer (Dense)           (None, 1)                 257       \n",
      "                                                                 \n",
      " activation_1 (Activation)   (None, 1)                 0         \n",
      "                                                                 \n",
      "=================================================================\n",
      "Total params: 296,337\n",
      "Trainable params: 296,337\n",
      "Non-trainable params: 0\n",
      "_________________________________________________________________\n"
     ]
    }
   ],
   "source": [
    "model = RNN()\n",
    "model.summary()\n",
    "model.compile(loss='binary_crossentropy',optimizer=RMSprop(),metrics=['accuracy'])"
   ]
  },
  {
   "cell_type": "markdown",
   "id": "33b2b82e",
   "metadata": {},
   "source": [
    "Fit on the training data."
   ]
  },
  {
   "cell_type": "code",
   "execution_count": 21,
   "id": "be609fc8",
   "metadata": {
    "scrolled": true
   },
   "outputs": [
    {
     "name": "stdout",
     "output_type": "stream",
     "text": [
      "Epoch 1/10\n",
      "4/4 [==============================] - 84s 21s/step - loss: 0.0640 - accuracy: 1.0000 - val_loss: 0.3044 - val_accuracy: 0.9304\n",
      "Epoch 2/10\n",
      "4/4 [==============================] - 83s 21s/step - loss: 0.1256 - accuracy: 0.9956 - val_loss: 0.0787 - val_accuracy: 1.0000\n"
     ]
    },
    {
     "data": {
      "text/plain": [
       "<keras.callbacks.History at 0x7f8b2c183370>"
      ]
     },
     "execution_count": 21,
     "metadata": {},
     "output_type": "execute_result"
    }
   ],
   "source": [
    "#model.fit(sequences_matrix,Y_train,batch_size=128,epochs=10,\n",
    "#          validation_split=0.2,callbacks=[EarlyStopping(monitor='val_loss',min_delta=0.0001)])\n",
    "model.fit(sequences_matrix,Y_train,batch_size=128,epochs=10,\n",
    "          validation_split=0.2,callbacks=[EarlyStopping(monitor='val_loss')])"
   ]
  },
  {
   "cell_type": "code",
   "execution_count": 22,
   "id": "5576d54d",
   "metadata": {},
   "outputs": [],
   "source": [
    "test_sequences = tok.texts_to_sequences(X_test)\n",
    "test_sequences_matrix = sequence.pad_sequences(test_sequences,maxlen=max_len)"
   ]
  },
  {
   "cell_type": "code",
   "execution_count": 23,
   "id": "7f1d9e54",
   "metadata": {},
   "outputs": [
    {
     "name": "stdout",
     "output_type": "stream",
     "text": [
      "4/4 [==============================] - 3s 665ms/step - loss: 0.0574 - accuracy: 1.0000\n"
     ]
    }
   ],
   "source": [
    "accr = model.evaluate(test_sequences_matrix,Y_test)"
   ]
  },
  {
   "cell_type": "code",
   "execution_count": 24,
   "id": "6d0506bc",
   "metadata": {},
   "outputs": [
    {
     "name": "stdout",
     "output_type": "stream",
     "text": [
      "Test set\n",
      "  Loss: 0.057\n",
      "  Accuracy: 1.000\n"
     ]
    }
   ],
   "source": [
    "print('Test set\\n  Loss: {:0.3f}\\n  Accuracy: {:0.3f}'.format(accr[0],accr[1]))"
   ]
  },
  {
   "cell_type": "markdown",
   "id": "43ccfc0a",
   "metadata": {},
   "source": [
    "Test sets\n",
    "\n",
    "|Time|Loss|Accuracy|\n",
    "|-|-|-|\n",
    "|2022-08-09|0.462|0.822|"
   ]
  }
 ],
 "metadata": {
  "kernelspec": {
   "display_name": "Python 3 (ipykernel)",
   "language": "python",
   "name": "python3"
  },
  "language_info": {
   "codemirror_mode": {
    "name": "ipython",
    "version": 3
   },
   "file_extension": ".py",
   "mimetype": "text/x-python",
   "name": "python",
   "nbconvert_exporter": "python",
   "pygments_lexer": "ipython3",
   "version": "3.10.5"
  }
 },
 "nbformat": 4,
 "nbformat_minor": 5
}
