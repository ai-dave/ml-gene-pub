{
 "cells": [
  {
   "cell_type": "markdown",
   "id": "9f588bae",
   "metadata": {},
   "source": []
  },
  {
   "cell_type": "code",
   "execution_count": 56,
   "id": "6b2e9804",
   "metadata": {},
   "outputs": [],
   "source": [
    "import random, string, textwrap\n",
    "\n",
    "def rand_seq(N):\n",
    "    return ''.join(random.choices(\"AGCT\", k=N))\n",
    "\n",
    "#s=rand_seq(1500, 80)\n",
    "\n",
    "def rand_fasta_file(filename, seq_length, width, size):\n",
    "    f = open(filename, \"w\")\n",
    "    i = 0\n",
    "    while i < size:\n",
    "        s = rand_seq(seq_length)\n",
    "        f.write('>S' + format(i, '05d') + ' randomized    test data\\n')\n",
    "        #f.write('>' +'\\n')\n",
    "        f.write('\\n'.join(textwrap.wrap(s, width)))\n",
    "        f.write('\\n')\n",
    "        i += 1\n",
    "    f.close()\n",
    "    \n",
    "rand_fasta_file(\"random-1.fa\", 1500, 80, 10000)\n",
    "rand_fasta_file(\"random-2.fa\", 1500, 80, 10000)"
   ]
  },
  {
   "cell_type": "code",
   "execution_count": 1,
   "id": "9835cf21",
   "metadata": {},
   "outputs": [],
   "source": [
    "from bioinformatics import na_read\n",
    "from bioinformatics import KmerVectors as kvec\n",
    "from bioinformatics import NCBIDataset as nds\n",
    "from bioinformatics import FASTADataset as fads\n",
    "import pandas as pd"
   ]
  },
  {
   "cell_type": "code",
   "execution_count": 2,
   "id": "13403239",
   "metadata": {},
   "outputs": [],
   "source": [
    "#PATH = \"../data/bioinformatics/\"\n",
    "#!ls -al $PATH\n",
    "TAX_PATH=\"../data/bioinformatics/ncbi/genome/taxonomy/\"\n",
    "#!ls -al $TAX_PATH\n",
    "RDP_PATH=\"../data/bioinformatics/rdp/202208/\"\n",
    "#!ls -al $RDP_PATH"
   ]
  },
  {
   "cell_type": "code",
   "execution_count": 3,
   "id": "29a8c830",
   "metadata": {},
   "outputs": [],
   "source": [
    "#TAX_VIRUS_PATH=\"../../../../data/ncbi/genome/taxonomy/Viruses_10239/\"\n",
    "TAX_VIRUS_PATH= TAX_PATH + \"Viruses_10239/\"\n",
    "\n",
    "adnaviria_dir    = TAX_VIRUS_PATH + \"Adnaviria_2840022/\"\n",
    "bamfordvirae_dir = TAX_VIRUS_PATH + \"Bamfordvirae_2732005/Nucleocytoviricota_2732007/Pokkesviricetes_2732525/Chitovirales_2732527/Poxviridae_10240/Orthopoxvirus_10242/\"\n",
    "riboviria_dir    = TAX_VIRUS_PATH + \"Riboviria_2559587/Orthornavirae_2732396/Pisuviricota_2732408/Pisoniviricetes_2732506/Nidovirales_76804/Cornidovirineae_2499399/Coronaviridae_11118/Orthocoronavirinae_2501931/\"\n",
    "#\"Riboviria_2559587/\"\n",
    "\n",
    "adnaviria_dataset    = adnaviria_dir     + \"ncbi_dataset.zip\"   #\n",
    "bamfordvirae_dataset = bamfordvirae_dir  + \"ncbi_dataset.zip\"   # pox\n",
    "riboviria_dataset    = riboviria_dir     + \"ncbi_dataset.zip\"   # sars-cov2"
   ]
  },
  {
   "cell_type": "code",
   "execution_count": 4,
   "id": "afebe023",
   "metadata": {},
   "outputs": [],
   "source": [
    "adnaviria_nds = nds.NCBIDataset('adnaviria', adnaviria_dataset)\n",
    "#adnaviria_nds.dataset_summary()\n",
    "\n",
    "bamfordvirae_nds = nds.NCBIDataset('bamfordvirae', bamfordvirae_dataset)\n",
    "#bamfordvirae_nds.dataset_summary()\n",
    "\n",
    "riboviria_nds = nds.NCBIDataset('riboviria', riboviria_dataset)\n",
    "#riboviria_nds.dataset_summary()"
   ]
  },
  {
   "cell_type": "code",
   "execution_count": 5,
   "id": "ebb7107b",
   "metadata": {},
   "outputs": [],
   "source": [
    "#adnaviria_nds.ncbi_dataset"
   ]
  },
  {
   "cell_type": "code",
   "execution_count": 6,
   "id": "7445319d",
   "metadata": {},
   "outputs": [
    {
     "name": "stdout",
     "output_type": "stream",
     "text": [
      "KmerVectors Object -\n",
      "alphabet [['A', 'G', 'C', 'T']]\n",
      "dict: [['AAAAAA', 'AAAAAG', 'AAAAAC', 'AAAAAT']]...[['TTTTTA', 'TTTTTG', 'TTTTTC', 'TTTTTT']]\n",
      "Labels: [{'bamfordvirae': 1, 'riboviria': 2}]\n",
      "[bamfordvirae]\n",
      "[../data/bioinformatics/ncbi/genome/taxonomy/Viruses_10239/Bamfordvirae_2732005/Nucleocytoviricota_2732007/Pokkesviricetes_2732525/Chitovirales_2732527/Poxviridae_10240/Orthopoxvirus_10242/ncbi_dataset.zip]\n",
      "dataset name: [bamfordvirae]\n",
      "   fna/fna2 files Total:  [810]\n",
      "   fna cds_from_genomic files: [324]\n",
      "   fna2 genomic files :  [486]\n",
      "   gff files:  [324]\n",
      "   faa files:  [324]\n",
      "class labels: [{'bamfordvirae': 1, 'riboviria': 2}]\n",
      "[riboviria]\n",
      "[../data/bioinformatics/ncbi/genome/taxonomy/Viruses_10239/Riboviria_2559587/Orthornavirae_2732396/Pisuviricota_2732408/Pisoniviricetes_2732506/Nidovirales_76804/Cornidovirineae_2499399/Coronaviridae_11118/Orthocoronavirinae_2501931/ncbi_dataset.zip]\n",
      "dataset name: [riboviria]\n",
      "   fna/fna2 files Total:  [496]\n",
      "   fna cds_from_genomic files: [227]\n",
      "   fna2 genomic files :  [269]\n",
      "   gff files:  [227]\n",
      "   faa files:  [227]\n",
      "class labels: [{'bamfordvirae': 1, 'riboviria': 2}]\n",
      "{'bamfordvirae': 1, 'riboviria': 2}\n"
     ]
    }
   ],
   "source": [
    "kv_ncbi = kvec.KmerVectors(['A','G','C','T'], 6, ncbidatasets=[bamfordvirae_nds, riboviria_nds])\n",
    "print(kv_ncbi.labels)"
   ]
  },
  {
   "cell_type": "code",
   "execution_count": 7,
   "id": "5b68d4cd",
   "metadata": {},
   "outputs": [
    {
     "name": "stdout",
     "output_type": "stream",
     "text": [
      "NCBI Dataset\n",
      "ncbi dataset: [bamfordvirae]\n",
      "102030405060708090100110120130140150160170180190200210220230240250260270280290300310320330340capped at [300]\n",
      "-\n",
      "Total:                [348]\n",
      "Using :               [301]\n",
      "skip_count_seqtype: [0]\n",
      "skip_count_minlength: [48]\n",
      "skip_count_alphabet: [0]\n",
      "ncbi dataset: [riboviria]\n",
      "102030405060708090100110120130140150160170180190200210220230240250260-\n",
      "Total:                [269]\n",
      "Using :               [251]\n",
      "skip_count_seqtype: [0]\n",
      "skip_count_minlength: [17]\n",
      "skip_count_alphabet: [1]\n"
     ]
    }
   ],
   "source": [
    "d_ncbi = kv_ncbi.seq2KmerSentences(seq_type='fna2', base_count_max=4, length_min=10000, dataset_limit=300)"
   ]
  },
  {
   "cell_type": "code",
   "execution_count": 8,
   "id": "d1715f4d",
   "metadata": {},
   "outputs": [
    {
     "data": {
      "text/html": [
       "<div>\n",
       "<style scoped>\n",
       "    .dataframe tbody tr th:only-of-type {\n",
       "        vertical-align: middle;\n",
       "    }\n",
       "\n",
       "    .dataframe tbody tr th {\n",
       "        vertical-align: top;\n",
       "    }\n",
       "\n",
       "    .dataframe thead th {\n",
       "        text-align: right;\n",
       "    }\n",
       "</style>\n",
       "<table border=\"1\" class=\"dataframe\">\n",
       "  <thead>\n",
       "    <tr style=\"text-align: right;\">\n",
       "      <th></th>\n",
       "      <th>v1</th>\n",
       "      <th>v2</th>\n",
       "    </tr>\n",
       "  </thead>\n",
       "  <tbody>\n",
       "    <tr>\n",
       "      <th>0</th>\n",
       "      <td>bamfordvirae</td>\n",
       "      <td>TAGTAA AGTAAA GTAAAA TAAAAT AAAATT AAATTA AATT...</td>\n",
       "    </tr>\n",
       "    <tr>\n",
       "      <th>1</th>\n",
       "      <td>bamfordvirae</td>\n",
       "      <td>CACGAC ACGACT CGACTG GACTGT ACTGTA CTGTAG TGTA...</td>\n",
       "    </tr>\n",
       "    <tr>\n",
       "      <th>2</th>\n",
       "      <td>bamfordvirae</td>\n",
       "      <td>AAGCAC AGCACT GCACTC CACTCA ACTCAT CTCATT TCAT...</td>\n",
       "    </tr>\n",
       "    <tr>\n",
       "      <th>3</th>\n",
       "      <td>bamfordvirae</td>\n",
       "      <td>AAGCAC AGCACT GCACTC CACTCA ACTCAT CTCATT TCAT...</td>\n",
       "    </tr>\n",
       "    <tr>\n",
       "      <th>4</th>\n",
       "      <td>bamfordvirae</td>\n",
       "      <td>GACTCC ACTCCA CTCCAT TCCATC CCATCA CATCAG ATCA...</td>\n",
       "    </tr>\n",
       "    <tr>\n",
       "      <th>...</th>\n",
       "      <td>...</td>\n",
       "      <td>...</td>\n",
       "    </tr>\n",
       "    <tr>\n",
       "      <th>546</th>\n",
       "      <td>riboviria</td>\n",
       "      <td>GACAAA ACAAAG CAAAGC AAAGCT AAGCTG AGCTGA GCTG...</td>\n",
       "    </tr>\n",
       "    <tr>\n",
       "      <th>547</th>\n",
       "      <td>riboviria</td>\n",
       "      <td>AGTAAA GTAAAG TAAAGT AAAGTG AAGTGA AGTGAG GTGA...</td>\n",
       "    </tr>\n",
       "    <tr>\n",
       "      <th>548</th>\n",
       "      <td>riboviria</td>\n",
       "      <td>CGGGTT GGGTTT GGTTTT GTTTTT TTTTTT TTTTTG TTTT...</td>\n",
       "    </tr>\n",
       "    <tr>\n",
       "      <th>549</th>\n",
       "      <td>riboviria</td>\n",
       "      <td>ACTTTT CTTTTA TTTTAA TTTAAA TTAAAG TAAAGT AAAG...</td>\n",
       "    </tr>\n",
       "    <tr>\n",
       "      <th>550</th>\n",
       "      <td>riboviria</td>\n",
       "      <td>GGCTCG GCTCGT CTCGTC TCGTCT CGTCTT GTCTTC TCTT...</td>\n",
       "    </tr>\n",
       "  </tbody>\n",
       "</table>\n",
       "<p>551 rows × 2 columns</p>\n",
       "</div>"
      ],
      "text/plain": [
       "               v1                                                 v2\n",
       "0    bamfordvirae  TAGTAA AGTAAA GTAAAA TAAAAT AAAATT AAATTA AATT...\n",
       "1    bamfordvirae  CACGAC ACGACT CGACTG GACTGT ACTGTA CTGTAG TGTA...\n",
       "2    bamfordvirae  AAGCAC AGCACT GCACTC CACTCA ACTCAT CTCATT TCAT...\n",
       "3    bamfordvirae  AAGCAC AGCACT GCACTC CACTCA ACTCAT CTCATT TCAT...\n",
       "4    bamfordvirae  GACTCC ACTCCA CTCCAT TCCATC CCATCA CATCAG ATCA...\n",
       "..            ...                                                ...\n",
       "546     riboviria  GACAAA ACAAAG CAAAGC AAAGCT AAGCTG AGCTGA GCTG...\n",
       "547     riboviria  AGTAAA GTAAAG TAAAGT AAAGTG AAGTGA AGTGAG GTGA...\n",
       "548     riboviria  CGGGTT GGGTTT GGTTTT GTTTTT TTTTTT TTTTTG TTTT...\n",
       "549     riboviria  ACTTTT CTTTTA TTTTAA TTTAAA TTAAAG TAAAGT AAAG...\n",
       "550     riboviria  GGCTCG GCTCGT CTCGTC TCGTCT CGTCTT GTCTTC TCTT...\n",
       "\n",
       "[551 rows x 2 columns]"
      ]
     },
     "execution_count": 8,
     "metadata": {},
     "output_type": "execute_result"
    }
   ],
   "source": [
    "df_ncbi=pd.DataFrame(data=d_ncbi)\n",
    "df_ncbi"
   ]
  },
  {
   "cell_type": "code",
   "execution_count": 9,
   "id": "76acb1b8",
   "metadata": {},
   "outputs": [],
   "source": [
    "#!ls -al $RDP_PATH\n",
    "archaea_file = RDP_PATH + \"current_Archaea_unaligned.fa\"\n",
    "bacteria_file = RDP_PATH + \"current_Bacteria_unaligned.fa\"\n",
    "fungi_file = RDP_PATH + \"current_Fungi_unaligned.fa\"\n",
    "#!ls -al $archaea_file"
   ]
  },
  {
   "cell_type": "code",
   "execution_count": 10,
   "id": "2f1e1e4e",
   "metadata": {},
   "outputs": [
    {
     "name": "stdout",
     "output_type": "stream",
     "text": [
      "archaea: [160767]\n",
      "fungi: [125525]\n"
     ]
    }
   ],
   "source": [
    "#archaea = na_read.read_fasta(archaea_file)\n",
    "archaea_fads = fads.FASTADataset('archaea', archaea_file)\n",
    "print(f'archaea: [{len(archaea_fads.fasta_dataset)}]')\n",
    "#archaea.fasta_dataset\n",
    "#bacteria_fads = fads.FASTADataset('bacteria', bacteria_file)\n",
    "#print(f'bacteria: [{len(bacteria_fads.fasta_dataset)}]')\n",
    "fungi_fads = fads.FASTADataset('fungi', fungi_file)\n",
    "print(f'fungi: [{len(fungi_fads.fasta_dataset)}]')"
   ]
  },
  {
   "cell_type": "code",
   "execution_count": 11,
   "id": "16bacb29",
   "metadata": {},
   "outputs": [],
   "source": [
    "#archaea.fasta_dataset[\"S000444351\"]"
   ]
  },
  {
   "cell_type": "code",
   "execution_count": 12,
   "id": "b2141104",
   "metadata": {},
   "outputs": [],
   "source": [
    "#archaea.fasta_dataset[\"S000444352\"]"
   ]
  },
  {
   "cell_type": "code",
   "execution_count": 13,
   "id": "a3c47764",
   "metadata": {},
   "outputs": [
    {
     "name": "stdout",
     "output_type": "stream",
     "text": [
      "KmerVectors Object -\n",
      "alphabet [['A', 'G', 'C', 'T']]\n",
      "dict: [['AAAAAA', 'AAAAAG', 'AAAAAC', 'AAAAAT']]...[['TTTTTA', 'TTTTTG', 'TTTTTC', 'TTTTTT']]\n",
      "Labels: [{'archaea': 1, 'fungi': 2}]\n",
      "[archaea]\n",
      "[../data/bioinformatics/rdp/202208/current_Archaea_unaligned.fa]\n",
      "[fungi]\n",
      "[../data/bioinformatics/rdp/202208/current_Fungi_unaligned.fa]\n",
      "{'archaea': 1, 'fungi': 2}\n"
     ]
    }
   ],
   "source": [
    "kv_fasta = kvec.KmerVectors(['A','G','C','T'], 6, fastadatasets=[archaea_fads, fungi_fads])\n",
    "print(kv_fasta.labels)"
   ]
  },
  {
   "cell_type": "code",
   "execution_count": 14,
   "id": "b9a55865",
   "metadata": {},
   "outputs": [
    {
     "name": "stdout",
     "output_type": "stream",
     "text": [
      "FASTA Dataset\n",
      "fasta dataset: [archaea]\n",
      "1000capped at [500]\n",
      "-\n",
      "Total:                [1416]\n",
      "Using :               [501]\n",
      "skip_count_minlength: [163]\n",
      "skip_count_alphabet: [753]\n",
      "fasta dataset: [fungi]\n",
      "1000capped at [500]\n",
      "-\n",
      "Total:                [1685]\n",
      "Using :               [501]\n",
      "skip_count_minlength: [235]\n",
      "skip_count_alphabet: [950]\n"
     ]
    }
   ],
   "source": [
    "d_fasta = kv_fasta.seq2KmerSentences(base_count_max=4, length_min=1000, dataset_limit=500)"
   ]
  },
  {
   "cell_type": "code",
   "execution_count": 15,
   "id": "fd284b42",
   "metadata": {},
   "outputs": [
    {
     "data": {
      "text/html": [
       "<div>\n",
       "<style scoped>\n",
       "    .dataframe tbody tr th:only-of-type {\n",
       "        vertical-align: middle;\n",
       "    }\n",
       "\n",
       "    .dataframe tbody tr th {\n",
       "        vertical-align: top;\n",
       "    }\n",
       "\n",
       "    .dataframe thead th {\n",
       "        text-align: right;\n",
       "    }\n",
       "</style>\n",
       "<table border=\"1\" class=\"dataframe\">\n",
       "  <thead>\n",
       "    <tr style=\"text-align: right;\">\n",
       "      <th></th>\n",
       "      <th>v1</th>\n",
       "      <th>v2</th>\n",
       "    </tr>\n",
       "  </thead>\n",
       "  <tbody>\n",
       "    <tr>\n",
       "      <th>0</th>\n",
       "      <td>archaea</td>\n",
       "      <td>ACTCCG CTCCGG TCCGGT CCGGTT CGGTTG GGTTGA GTTG...</td>\n",
       "    </tr>\n",
       "    <tr>\n",
       "      <th>1</th>\n",
       "      <td>archaea</td>\n",
       "      <td>GCTAAC CTAACC TAACCT AACCTG ACCTGC CCTGCC CTGC...</td>\n",
       "    </tr>\n",
       "    <tr>\n",
       "      <th>2</th>\n",
       "      <td>archaea</td>\n",
       "      <td>CGCCCC GCCCCG CCCCGC CCCGCC CCGCCG CGCCGC GCCG...</td>\n",
       "    </tr>\n",
       "    <tr>\n",
       "      <th>3</th>\n",
       "      <td>archaea</td>\n",
       "      <td>CTGGGT TGGGTC GGGTCC GGTCCG GTCCGC TCCGCC CCGC...</td>\n",
       "    </tr>\n",
       "    <tr>\n",
       "      <th>4</th>\n",
       "      <td>archaea</td>\n",
       "      <td>CCCGAC CCGACT CGACTG GACTGC ACTGCT CTGCTA TGCT...</td>\n",
       "    </tr>\n",
       "    <tr>\n",
       "      <th>...</th>\n",
       "      <td>...</td>\n",
       "      <td>...</td>\n",
       "    </tr>\n",
       "    <tr>\n",
       "      <th>995</th>\n",
       "      <td>fungi</td>\n",
       "      <td>TGTACC GTACCC TACCCG ACCCGC CCCGCT CCGCTG CGCT...</td>\n",
       "    </tr>\n",
       "    <tr>\n",
       "      <th>996</th>\n",
       "      <td>fungi</td>\n",
       "      <td>TTGATC TGATCT GATCTC ATCTCA TCTCAA CTCAAA TCAA...</td>\n",
       "    </tr>\n",
       "    <tr>\n",
       "      <th>997</th>\n",
       "      <td>fungi</td>\n",
       "      <td>CCTCAG CTCAGA TCAGAT CAGATC AGATCA GATCAG ATCA...</td>\n",
       "    </tr>\n",
       "    <tr>\n",
       "      <th>998</th>\n",
       "      <td>fungi</td>\n",
       "      <td>TGTACC GTACCC TACCCG ACCCGC CCCGCT CCGCTG CGCT...</td>\n",
       "    </tr>\n",
       "    <tr>\n",
       "      <th>999</th>\n",
       "      <td>fungi</td>\n",
       "      <td>CATAGG ATAGGG TAGGGG AGGGGA GGGGAG GGGAGG GGAG...</td>\n",
       "    </tr>\n",
       "  </tbody>\n",
       "</table>\n",
       "<p>1000 rows × 2 columns</p>\n",
       "</div>"
      ],
      "text/plain": [
       "          v1                                                 v2\n",
       "0    archaea  ACTCCG CTCCGG TCCGGT CCGGTT CGGTTG GGTTGA GTTG...\n",
       "1    archaea  GCTAAC CTAACC TAACCT AACCTG ACCTGC CCTGCC CTGC...\n",
       "2    archaea  CGCCCC GCCCCG CCCCGC CCCGCC CCGCCG CGCCGC GCCG...\n",
       "3    archaea  CTGGGT TGGGTC GGGTCC GGTCCG GTCCGC TCCGCC CCGC...\n",
       "4    archaea  CCCGAC CCGACT CGACTG GACTGC ACTGCT CTGCTA TGCT...\n",
       "..       ...                                                ...\n",
       "995    fungi  TGTACC GTACCC TACCCG ACCCGC CCCGCT CCGCTG CGCT...\n",
       "996    fungi  TTGATC TGATCT GATCTC ATCTCA TCTCAA CTCAAA TCAA...\n",
       "997    fungi  CCTCAG CTCAGA TCAGAT CAGATC AGATCA GATCAG ATCA...\n",
       "998    fungi  TGTACC GTACCC TACCCG ACCCGC CCCGCT CCGCTG CGCT...\n",
       "999    fungi  CATAGG ATAGGG TAGGGG AGGGGA GGGGAG GGGAGG GGAG...\n",
       "\n",
       "[1000 rows x 2 columns]"
      ]
     },
     "execution_count": 15,
     "metadata": {},
     "output_type": "execute_result"
    }
   ],
   "source": [
    "df_fasta=pd.DataFrame(data=d_fasta)\n",
    "df_fasta"
   ]
  }
 ],
 "metadata": {
  "kernelspec": {
   "display_name": "Python 3 (ipykernel)",
   "language": "python",
   "name": "python3"
  },
  "language_info": {
   "codemirror_mode": {
    "name": "ipython",
    "version": 3
   },
   "file_extension": ".py",
   "mimetype": "text/x-python",
   "name": "python",
   "nbconvert_exporter": "python",
   "pygments_lexer": "ipython3",
   "version": "3.10.5"
  }
 },
 "nbformat": 4,
 "nbformat_minor": 5
}
