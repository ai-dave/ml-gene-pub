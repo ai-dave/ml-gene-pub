{
 "cells": [
  {
   "cell_type": "markdown",
   "id": "3d49f554",
   "metadata": {},
   "source": [
    "# Gene family\n",
    "## human - chimpanzee - dog\n",
    "\n",
    "* https://www.kaggle.com/code/nageshsingh/demystify-dna-sequencing-with-machine-learning/notebook\n"
   ]
  },
  {
   "cell_type": "markdown",
   "id": "374e0db8",
   "metadata": {},
   "source": [
    "|Gene family                |Number |Class Label|\n",
    "|---------------------------|------:|----------:|\n",
    "|G protein coupled receptors|    531|          0|\n",
    "|Tyrosine kinase            |    534|          1|\n",
    "|Tyrosine phospotase        |    349|          2|\n",
    "|Synthetase                 |    632|          3|\n",
    "|Synthase                   |    711|          4|\n",
    "|Ion channel                |    240|          5|\n",
    "|Transcription factor       |   1341|          6|"
   ]
  },
  {
   "cell_type": "markdown",
   "id": "f88a153a",
   "metadata": {},
   "source": [
    "```\n",
    "% cd human/\n",
    "% awk '{ if ($2 == 0) { print } }' human.txt > human_0.txt\n",
    "% awk '{ if ($2 == 1) { print } }' human.txt > human_1.txt\n",
    "% awk '{ if ($2 == 2) { print } }' human.txt > human_2.txt\n",
    "% awk '{ if ($2 == 3) { print } }' human.txt > human_3.txt\n",
    "% awk '{ if ($2 == 4) { print } }' human.txt > human_4.txt\n",
    "% awk '{ if ($2 == 5) { print } }' human.txt > human_5.txt\n",
    "% awk '{ if ($2 == 6) { print } }' human.txt > human_6.txt\n",
    "\n",
    "% nl human_0.txt > human_0.txt.nl\n",
    "% nl human_1.txt > human_1.txt.nl\n",
    "% nl human_2.txt > human_2.txt.nl\n",
    "% nl human_3.txt > human_3.txt.nl\n",
    "% nl human_4.txt > human_4.txt.nl\n",
    "% nl human_5.txt > human_5.txt.nl\n",
    "% nl human_6.txt > human_6.txt.nl\n",
    "% \n",
    "% perl -p -e 's/^\\s+(\\d+)\\s+(\\S+).+$/>SEQUENCE-$1: G protein coupled receptors % - $1\\n$2/g' human_0.txt.nl > human_G-protein-coupled-receptors.fa\n",
    "% perl -p -e 's/^\\s+(\\d+)\\s+(\\S+).+$/>SEQUENCE-$1: Tyrosine kinase - $1\\n$2/g' human_1.txt.nl > human_Tyrosine-kinase.fa\n",
    "% perl -p -e 's/^\\s+(\\d+)\\s+(\\S+).+$/>SEQUENCE-$1: Tyrosine phospotase - $1\\n$2/g' human_2.txt.nl > human_Tyrosine-phospotase.fa\n",
    "% perl -p -e 's/^\\s+(\\d+)\\s+(\\S+).+$/>SEQUENCE-$1: Synthetase - $1\\n$2/g' human_3.txt.nl > human_Synthetase.fa\n",
    "% perl -p -e 's/^\\s+(\\d+)\\s+(\\S+).+$/>SEQUENCE-$1: Synthase - $1\\n$2/g' human_4.txt.nl > human_Synthase.fa\n",
    "% perl -p -e 's/^\\s+(\\d+)\\s+(\\S+).+$/>SEQUENCE-$1: Ion channel - $1\\n$2/g' human_5.txt.nl > human_Ion-channel.fa\n",
    "% perl -p -e 's/^\\s+(\\d+)\\s+(\\S+).+$/>SEQUENCE-$1: Transcription factor - $1\\n$2/g' human_6.txt.nl > human_Transcription-factor.fa\n",
    "```"
   ]
  },
  {
   "cell_type": "markdown",
   "id": "b26f16ea",
   "metadata": {},
   "source": [
    "```\n",
    "cd chimpanzee/\n",
    "awk '{ if ($2 == 0) { print } }' chimpanzee.txt > chimpanzee_0.txt\n",
    "awk '{ if ($2 == 1) { print } }' chimpanzee.txt > chimpanzee_1.txt\n",
    "awk '{ if ($2 == 2) { print } }' chimpanzee.txt > chimpanzee_2.txt\n",
    "awk '{ if ($2 == 3) { print } }' chimpanzee.txt > chimpanzee_3.txt\n",
    "awk '{ if ($2 == 4) { print } }' chimpanzee.txt > chimpanzee_4.txt\n",
    "awk '{ if ($2 == 5) { print } }' chimpanzee.txt > chimpanzee_5.txt\n",
    "awk '{ if ($2 == 6) { print } }' chimpanzee.txt > chimpanzee_6.txt\n",
    "\n",
    "nl chimpanzee_0.txt > chimpanzee_0.txt.nl\n",
    "nl chimpanzee_1.txt > chimpanzee_1.txt.nl\n",
    "nl chimpanzee_2.txt > chimpanzee_2.txt.nl\n",
    "nl chimpanzee_3.txt > chimpanzee_3.txt.nl\n",
    "nl chimpanzee_4.txt > chimpanzee_4.txt.nl\n",
    "nl chimpanzee_5.txt > chimpanzee_5.txt.nl\n",
    "nl chimpanzee_6.txt > chimpanzee_6.txt.nl\n",
    "\n",
    "perl -p -e 's/^\\s+(\\d+)\\s+(\\S+).+$/>SEQUENCE-$1: G protein coupled receptors - $1\\n$2/g' chimpanzee_0.txt.nl > chimpanzee_G-protein-coupled-receptors.fa\n",
    "perl -p -e 's/^\\s+(\\d+)\\s+(\\S+).+$/>SEQUENCE-$1: Tyrosine kinase - $1\\n$2/g' chimpanzee_1.txt.nl > chimpanzee_Tyrosine-kinase.fa\n",
    "perl -p -e 's/^\\s+(\\d+)\\s+(\\S+).+$/>SEQUENCE-$1: Tyrosine phospotase - $1\\n$2/g' chimpanzee_2.txt.nl > chimpanzee_Tyrosine-phospotase.fa\n",
    "perl -p -e 's/^\\s+(\\d+)\\s+(\\S+).+$/>SEQUENCE-$1: Synthetase - $1\\n$2/g' chimpanzee_3.txt.nl > chimpanzee_Synthetase.fa\n",
    "perl -p -e 's/^\\s+(\\d+)\\s+(\\S+).+$/>SEQUENCE-$1: Synthase - $1\\n$2/g' chimpanzee_4.txt.nl > chimpanzee_Synthase.fa\n",
    "perl -p -e 's/^\\s+(\\d+)\\s+(\\S+).+$/>SEQUENCE-$1: Ion channel - $1\\n$2/g' chimpanzee_5.txt.nl > chimpanzee_Ion-channel.fa\n",
    "perl -p -e 's/^\\s+(\\d+)\\s+(\\S+).+$/>SEQUENCE-$1: Transcription factor - $1\\n$2/g' chimpanzee_6.txt.nl > chimpanzee_Transcription-factor.fa\n",
    "```"
   ]
  },
  {
   "cell_type": "markdown",
   "id": "b8002294",
   "metadata": {},
   "source": [
    "```\n",
    "cd dog/\n",
    "awk '{ if ($2 == 0) { print } }' dog.txt > dog_0.txt\n",
    "awk '{ if ($2 == 1) { print } }' dog.txt > dog_1.txt\n",
    "awk '{ if ($2 == 2) { print } }' dog.txt > dog_2.txt\n",
    "awk '{ if ($2 == 3) { print } }' dog.txt > dog_3.txt\n",
    "awk '{ if ($2 == 4) { print } }' dog.txt > dog_4.txt\n",
    "awk '{ if ($2 == 5) { print } }' dog.txt > dog_5.txt\n",
    "awk '{ if ($2 == 6) { print } }' dog.txt > dog_6.txt\n",
    "\n",
    "nl dog_0.txt > dog_0.txt.nl\n",
    "nl dog_1.txt > dog_1.txt.nl\n",
    "nl dog_2.txt > dog_2.txt.nl\n",
    "nl dog_3.txt > dog_3.txt.nl\n",
    "nl dog_4.txt > dog_4.txt.nl\n",
    "nl dog_5.txt > dog_5.txt.nl\n",
    "nl dog_6.txt > dog_6.txt.nl\n",
    "\n",
    "perl -p -e 's/^\\s+(\\d+)\\s+(\\S+).+$/>SEQUENCE-$1: G protein coupled receptors - $1\\n$2/g' dog_0.txt.nl > dog_G-protein-coupled-receptors.fa\n",
    "perl -p -e 's/^\\s+(\\d+)\\s+(\\S+).+$/>SEQUENCE-$1: Tyrosine kinase - $1\\n$2/g' dog_1.txt.nl > dog_Tyrosine-kinase.fa\n",
    "perl -p -e 's/^\\s+(\\d+)\\s+(\\S+).+$/>SEQUENCE-$1: Tyrosine phospotase - $1\\n$2/g' dog_2.txt.nl > dog_Tyrosine-phospotase.fa\n",
    "perl -p -e 's/^\\s+(\\d+)\\s+(\\S+).+$/>SEQUENCE-$1: Synthetase - $1\\n$2/g' dog_3.txt.nl > dog_Synthetase.fa\n",
    "perl -p -e 's/^\\s+(\\d+)\\s+(\\S+).+$/>SEQUENCE-$1: Synthase - $1\\n$2/g' dog_4.txt.nl > dog_Synthase.fa\n",
    "perl -p -e 's/^\\s+(\\d+)\\s+(\\S+).+$/>SEQUENCE-$1: Ion channel - $1\\n$2/g' dog_5.txt.nl > dog_Ion-channel.fa\n",
    "perl -p -e 's/^\\s+(\\d+)\\s+(\\S+).+$/>SEQUENCE-$1: Transcription factor - $1\\n$2/g' dog_6.txt.nl > dog_Transcription-factor.fa\n",
    "```"
   ]
  },
  {
   "cell_type": "markdown",
   "id": "5acf42cd",
   "metadata": {},
   "source": [
    "## Iris test"
   ]
  },
  {
   "cell_type": "code",
   "execution_count": 1,
   "id": "35b10f32",
   "metadata": {},
   "outputs": [
    {
     "name": "stdout",
     "output_type": "stream",
     "text": [
      "Number of mislabeled points out of a total 75 points : 4\n"
     ]
    }
   ],
   "source": [
    "from sklearn.datasets import load_iris\n",
    "from sklearn.model_selection import train_test_split\n",
    "from sklearn.naive_bayes import GaussianNB\n",
    "\n",
    "X, y = load_iris(return_X_y=True)\n",
    "X_train, X_test, y_train, y_test = train_test_split(X, y, test_size=0.5, random_state=0)\n",
    "gnb = GaussianNB()\n",
    "y_pred = gnb.fit(X_train, y_train).predict(X_test)\n",
    "print(\"Number of mislabeled points out of a total %d points : %d\"\n",
    "      % (X_test.shape[0], (y_test != y_pred).sum()))\n"
   ]
  },
  {
   "cell_type": "markdown",
   "id": "d9eaa334",
   "metadata": {},
   "source": [
    "## human, chimpanzee, dog Gene Classes"
   ]
  },
  {
   "cell_type": "code",
   "execution_count": 2,
   "id": "74b52d8c",
   "metadata": {},
   "outputs": [],
   "source": [
    "from bioinformatics import na_read\n",
    "from bioinformatics import KmerVectors as kvec\n",
    "from bioinformatics import FASTADataset as fads"
   ]
  },
  {
   "cell_type": "code",
   "execution_count": 3,
   "id": "44d0b396",
   "metadata": {},
   "outputs": [],
   "source": [
    "import pandas as pd\n",
    "from sklearn.metrics import accuracy_score, f1_score, precision_score, recall_score\n",
    "from sklearn.model_selection import train_test_split\n",
    "from sklearn.feature_extraction.text import CountVectorizer\n",
    "from sklearn.naive_bayes import MultinomialNB\n",
    "from sklearn.naive_bayes import GaussianNB\n",
    "import matplotlib.pyplot as plt\n",
    "import seaborn as sns\n"
   ]
  },
  {
   "cell_type": "code",
   "execution_count": 4,
   "id": "709955a9",
   "metadata": {},
   "outputs": [
    {
     "name": "stdout",
     "output_type": "stream",
     "text": [
      "total 24\r\n",
      "drwxrwxr-x 5 dave dave 4096 Sep  4 19:30 \u001b[0m\u001b[38;5;5m.\u001b[0m/\r\n",
      "drwxrwxr-x 3 dave dave 4096 Sep  4 19:48 \u001b[38;5;5m..\u001b[0m/\r\n",
      "drwxrwxr-x 2 dave dave 4096 Sep  4 17:41 \u001b[38;5;5mchimpanzee\u001b[0m/\r\n",
      "drwxrwxr-x 2 dave dave 4096 Sep  4 17:46 \u001b[38;5;5mdog\u001b[0m/\r\n",
      "drwxrwxr-x 2 dave dave 4096 Sep  4 19:58 \u001b[38;5;5mhuman\u001b[0m/\r\n",
      "-rw-rw-r-- 1 dave dave  451 Sep  4 17:00 notes\r\n"
     ]
    }
   ],
   "source": [
    "PATH = \"../data/bioinformatics/kaggle/human-chimpanzee-dog/fa/\"\n",
    "%ls -al $PATH\n",
    "human_files = PATH + \"human/\"\n",
    "chimpanzee_files = PATH + \"chimpanzee/\"\n",
    "dog_files = PATH + \"dog/\"\n",
    "\n",
    "human_0 = human_files + \"human_G-protein-coupled-receptors.fa\"\n",
    "human_1 = human_files + \"human_Tyrosine-kinase.fa\"\n",
    "human_2 = human_files + \"human_Tyrosine-phospotase.fa\"\n",
    "human_3 = human_files + \"human_Synthetase.fa\"\n",
    "human_4 = human_files + \"human_Synthase.fa\"\n",
    "human_5 = human_files + \"human_Ion-channel.fa\"\n",
    "human_6 = human_files + \"human_Transcription-factor.fa\"\n",
    "\n",
    "chimp_0 = chimpanzee_files + \"chimpanzee_G-protein-coupled-receptors.fa\"\n",
    "chimp_1 = chimpanzee_files + \"chimpanzee_Tyrosine-kinase.fa\"\n",
    "chimp_2 = chimpanzee_files + \"chimpanzee_Tyrosine-phospotase.fa\"\n",
    "chimp_3 = chimpanzee_files + \"chimpanzee_Synthetase.fa\"\n",
    "chimp_4 = chimpanzee_files + \"chimpanzee_Synthase.fa\"\n",
    "chimp_5 = chimpanzee_files + \"chimpanzee_Ion-channel.fa\"\n",
    "chimp_6 = chimpanzee_files + \"chimpanzee_Transcription-factor.fa\"\n",
    "\n",
    "dog_0 = dog_files + \"dog_G-protein-coupled-receptors.fa\"\n",
    "dog_1 = dog_files + \"dog_Tyrosine-kinase.fa\"\n",
    "dog_2 = dog_files + \"dog_Tyrosine-phospotase.fa\"\n",
    "dog_3 = dog_files + \"dog_Synthetase.fa\"\n",
    "dog_4 = dog_files + \"dog_Synthase.fa\"\n",
    "dog_5 = dog_files + \"dog_Ion-channel.fa\"\n",
    "dog_6 = dog_files + \"dog_Transcription-factor.fa\"\n"
   ]
  },
  {
   "cell_type": "code",
   "execution_count": 5,
   "id": "9990f48d",
   "metadata": {},
   "outputs": [
    {
     "name": "stdout",
     "output_type": "stream",
     "text": [
      "../data/bioinformatics/kaggle/human-chimpanzee-dog/fa/human/human_G-protein-coupled-receptors.fa\n",
      "human-0: [531]\n",
      "human-1: [534]\n",
      "human-2: [349]\n",
      "human-3: [672]\n",
      "human-4: [711]\n",
      "human-5: [240]\n",
      "human-6: [1343]\n"
     ]
    }
   ],
   "source": [
    "print(human_0)\n",
    "human_0_fads = fads.FASTADataset('human-0', human_0, limit=0, lowercase=True)\n",
    "print(f'human-0: [{len(human_0_fads.fasta_dataset)}]')\n",
    "#print(f'human-0: [{human_0_fads.fasta_dataset}]')\n",
    "human_1_fads = fads.FASTADataset('human-1', human_1, limit=0, lowercase=True)\n",
    "print(f'human-1: [{len(human_1_fads.fasta_dataset)}]')\n",
    "#print(f'human-1: [{len(human_1_fads.fasta_dataset)}]')\n",
    "human_2_fads = fads.FASTADataset('human-2', human_2, limit=0, lowercase=True)\n",
    "print(f'human-2: [{len(human_2_fads.fasta_dataset)}]')\n",
    "#print(f'human-2: [{len(human_2_fads.fasta_dataset)}]')\n",
    "human_3_fads = fads.FASTADataset('human-3', human_3, limit=0, lowercase=True)\n",
    "print(f'human-3: [{len(human_3_fads.fasta_dataset)}]')\n",
    "#print(f'human-3: [{len(human_3_fads.fasta_dataset)}]')\n",
    "human_4_fads = fads.FASTADataset('human-4', human_4, limit=0, lowercase=True)\n",
    "print(f'human-4: [{len(human_4_fads.fasta_dataset)}]')\n",
    "#print(f'human-4: [{len(human_4_fads.fasta_dataset)}]')\n",
    "human_5_fads = fads.FASTADataset('human-5', human_5, limit=0, lowercase=True)\n",
    "print(f'human-5: [{len(human_5_fads.fasta_dataset)}]')\n",
    "#print(f'human-5: [{len(human_5_fads.fasta_dataset)}]')\n",
    "human_6_fads = fads.FASTADataset('human-6', human_6, limit=0, lowercase=True)\n",
    "print(f'human-6: [{len(human_6_fads.fasta_dataset)}]')\n",
    "#print(f'human-6: [{len(human_6_fads.fasta_dataset)}]')"
   ]
  },
  {
   "cell_type": "code",
   "execution_count": 6,
   "id": "78aa6891",
   "metadata": {},
   "outputs": [
    {
     "name": "stdout",
     "output_type": "stream",
     "text": [
      "../data/bioinformatics/kaggle/human-chimpanzee-dog/fa/chimpanzee/chimpanzee_G-protein-coupled-receptors.fa\n",
      "chimp-0: [234]\n",
      "chimp-1: [185]\n",
      "chimp-2: [144]\n",
      "chimp-3: [228]\n",
      "chimp-4: [261]\n",
      "chimp-5: [109]\n",
      "chimp-6: [521]\n"
     ]
    }
   ],
   "source": [
    "print(chimp_0)\n",
    "chimp_0_fads = fads.FASTADataset('chimp-0', chimp_0, limit=0, lowercase=True)\n",
    "print(f'chimp-0: [{len(chimp_0_fads.fasta_dataset)}]')\n",
    "#print(f'chimp-0: [{chimp_0_fads.fasta_dataset}]')\n",
    "chimp_1_fads = fads.FASTADataset('chimp-1', chimp_1, limit=0, lowercase=True)\n",
    "print(f'chimp-1: [{len(chimp_1_fads.fasta_dataset)}]')\n",
    "#print(f'chimp-1: [{len(chimp_1_fads.fasta_dataset)}]')\n",
    "chimp_2_fads = fads.FASTADataset('chimp-2', chimp_2, limit=0, lowercase=True)\n",
    "print(f'chimp-2: [{len(chimp_2_fads.fasta_dataset)}]')\n",
    "#print(f'chimp-2: [{len(chimp_2_fads.fasta_dataset)}]')\n",
    "chimp_3_fads = fads.FASTADataset('chimp-3', chimp_3, limit=0, lowercase=True)\n",
    "print(f'chimp-3: [{len(chimp_3_fads.fasta_dataset)}]')\n",
    "#print(f'chimp-3: [{len(chimp_3_fads.fasta_dataset)}]')\n",
    "chimp_4_fads = fads.FASTADataset('chimp-4', chimp_4, limit=0, lowercase=True)\n",
    "print(f'chimp-4: [{len(chimp_4_fads.fasta_dataset)}]')\n",
    "#print(f'chimp-4: [{len(chimp_4_fads.fasta_dataset)}]')\n",
    "chimp_5_fads = fads.FASTADataset('chimp-5', chimp_5, limit=0, lowercase=True)\n",
    "print(f'chimp-5: [{len(chimp_5_fads.fasta_dataset)}]')\n",
    "#print(f'chimp-5: [{len(chimp_5_fads.fasta_dataset)}]')\n",
    "chimp_6_fads = fads.FASTADataset('chimp-6', chimp_6, limit=0, lowercase=True)\n",
    "print(f'chimp-6: [{len(chimp_6_fads.fasta_dataset)}]')\n",
    "#print(f'chimp-6: [{len(chimp_6_fads.fasta_dataset)}]')"
   ]
  },
  {
   "cell_type": "code",
   "execution_count": 7,
   "id": "a77850e0",
   "metadata": {},
   "outputs": [
    {
     "name": "stdout",
     "output_type": "stream",
     "text": [
      "../data/bioinformatics/kaggle/human-chimpanzee-dog/fa/dog/dog_G-protein-coupled-receptors.fa\n",
      "dog-0: [131]\n",
      "dog-1: [75]\n",
      "dog-2: [64]\n",
      "dog-3: [95]\n",
      "dog-4: [135]\n",
      "dog-5: [60]\n",
      "dog-6: [260]\n"
     ]
    }
   ],
   "source": [
    "print(dog_0)\n",
    "dog_0_fads = fads.FASTADataset('dog-0', dog_0, limit=0, lowercase=True)\n",
    "print(f'dog-0: [{len(dog_0_fads.fasta_dataset)}]')\n",
    "#print(f'dog-0: [{dog_0_fads.fasta_dataset}]')\n",
    "dog_1_fads = fads.FASTADataset('dog-1', dog_1, limit=0, lowercase=True)\n",
    "print(f'dog-1: [{len(dog_1_fads.fasta_dataset)}]')\n",
    "#print(f'dog-1: [{len(dog_1_fads.fasta_dataset)}]')\n",
    "dog_2_fads = fads.FASTADataset('dog-2', dog_2, limit=0, lowercase=True)\n",
    "print(f'dog-2: [{len(dog_2_fads.fasta_dataset)}]')\n",
    "#print(f'dog-2: [{len(dog_2_fads.fasta_dataset)}]')\n",
    "dog_3_fads = fads.FASTADataset('dog-3', dog_3, limit=0, lowercase=True)\n",
    "print(f'dog-3: [{len(dog_3_fads.fasta_dataset)}]')\n",
    "#print(f'dog-3: [{len(dog_3_fads.fasta_dataset)}]')\n",
    "dog_4_fads = fads.FASTADataset('dog-4', dog_4, limit=0, lowercase=True)\n",
    "print(f'dog-4: [{len(dog_4_fads.fasta_dataset)}]')\n",
    "#print(f'dog-4: [{len(dog_4_fads.fasta_dataset)}]')\n",
    "dog_5_fads = fads.FASTADataset('dog-5', dog_5, limit=0, lowercase=True)\n",
    "print(f'dog-5: [{len(dog_5_fads.fasta_dataset)}]')\n",
    "#print(f'dog-5: [{len(dog_5_fads.fasta_dataset)}]')\n",
    "dog_6_fads = fads.FASTADataset('dog-6', dog_6, limit=0, lowercase=True)\n",
    "print(f'dog-6: [{len(dog_6_fads.fasta_dataset)}]')\n",
    "#print(f'dog-6: [{len(dog_6_fads.fasta_dataset)}]')"
   ]
  },
  {
   "cell_type": "markdown",
   "id": "6e571978",
   "metadata": {},
   "source": [
    "## Multinomial Naive Bayes - 6 classes"
   ]
  },
  {
   "cell_type": "code",
   "execution_count": 8,
   "id": "b6f26d05",
   "metadata": {
    "scrolled": true
   },
   "outputs": [
    {
     "name": "stdout",
     "output_type": "stream",
     "text": [
      "{'human-0': 0, 'human-1': 1, 'human-2': 2, 'human-3': 3, 'human-4': 4, 'human-5': 5, 'human-6': 6}\n"
     ]
    }
   ],
   "source": [
    "kv_human = kvec.KmerVectors(['a','g','c','t'], 6, fastadatasets=[human_0_fads,human_1_fads,human_2_fads,human_3_fads,human_4_fads,human_5_fads,human_6_fads])\n",
    "print(kv_human.labels)"
   ]
  },
  {
   "cell_type": "code",
   "execution_count": 9,
   "id": "4db8d044",
   "metadata": {},
   "outputs": [],
   "source": [
    "#for dataset in kv.fastadatasets:\n",
    "#    print(dataset.dataset_name)\n",
    "#    \n",
    "#print(kv.fastadatasets[0].fasta_dataset)"
   ]
  },
  {
   "cell_type": "code",
   "execution_count": 10,
   "id": "ab8ab77c",
   "metadata": {
    "scrolled": true
   },
   "outputs": [
    {
     "name": "stdout",
     "output_type": "stream",
     "text": [
      "fasta dataset: [human-0]\n",
      "fasta dataset: [human-1]\n",
      "fasta dataset: [human-2]\n",
      "fasta dataset: [human-3]\n",
      "fasta dataset: [human-4]\n",
      "fasta dataset: [human-5]\n",
      "fasta dataset: [human-6]\n"
     ]
    }
   ],
   "source": [
    "d_human = kv_human.seq2KmerSentencesFASTA(base_count_max=4, length_min=0, dataset_limit=10000)"
   ]
  },
  {
   "cell_type": "code",
   "execution_count": 11,
   "id": "45e6e63c",
   "metadata": {},
   "outputs": [],
   "source": [
    "df_human=pd.DataFrame(data=d_human)\n",
    "df_human = df_human.replace({\"v1\": kv_human.labels})\n",
    "#df_human"
   ]
  },
  {
   "cell_type": "code",
   "execution_count": 12,
   "id": "55980200",
   "metadata": {},
   "outputs": [
    {
     "data": {
      "text/html": [
       "<div>\n",
       "<style scoped>\n",
       "    .dataframe tbody tr th:only-of-type {\n",
       "        vertical-align: middle;\n",
       "    }\n",
       "\n",
       "    .dataframe tbody tr th {\n",
       "        vertical-align: top;\n",
       "    }\n",
       "\n",
       "    .dataframe thead th {\n",
       "        text-align: right;\n",
       "    }\n",
       "</style>\n",
       "<table border=\"1\" class=\"dataframe\">\n",
       "  <thead>\n",
       "    <tr style=\"text-align: right;\">\n",
       "      <th></th>\n",
       "      <th>v2</th>\n",
       "    </tr>\n",
       "    <tr>\n",
       "      <th>v1</th>\n",
       "      <th></th>\n",
       "    </tr>\n",
       "  </thead>\n",
       "  <tbody>\n",
       "    <tr>\n",
       "      <th>0</th>\n",
       "      <td>498</td>\n",
       "    </tr>\n",
       "    <tr>\n",
       "      <th>1</th>\n",
       "      <td>499</td>\n",
       "    </tr>\n",
       "    <tr>\n",
       "      <th>2</th>\n",
       "      <td>320</td>\n",
       "    </tr>\n",
       "    <tr>\n",
       "      <th>3</th>\n",
       "      <td>611</td>\n",
       "    </tr>\n",
       "    <tr>\n",
       "      <th>4</th>\n",
       "      <td>636</td>\n",
       "    </tr>\n",
       "    <tr>\n",
       "      <th>5</th>\n",
       "      <td>218</td>\n",
       "    </tr>\n",
       "    <tr>\n",
       "      <th>6</th>\n",
       "      <td>1238</td>\n",
       "    </tr>\n",
       "  </tbody>\n",
       "</table>\n",
       "</div>"
      ],
      "text/plain": [
       "      v2\n",
       "v1      \n",
       "0    498\n",
       "1    499\n",
       "2    320\n",
       "3    611\n",
       "4    636\n",
       "5    218\n",
       "6   1238"
      ]
     },
     "execution_count": 12,
     "metadata": {},
     "output_type": "execute_result"
    }
   ],
   "source": [
    "df_human.groupby('v1').count()"
   ]
  },
  {
   "cell_type": "code",
   "execution_count": 13,
   "id": "292711c7",
   "metadata": {},
   "outputs": [
    {
     "name": "stdout",
     "output_type": "stream",
     "text": [
      "fasta dataset: [chimp-0]\n",
      "fasta dataset: [chimp-1]\n",
      "fasta dataset: [chimp-2]\n",
      "fasta dataset: [chimp-3]\n",
      "fasta dataset: [chimp-4]\n",
      "fasta dataset: [chimp-5]\n",
      "fasta dataset: [chimp-6]\n"
     ]
    },
    {
     "data": {
      "text/html": [
       "<div>\n",
       "<style scoped>\n",
       "    .dataframe tbody tr th:only-of-type {\n",
       "        vertical-align: middle;\n",
       "    }\n",
       "\n",
       "    .dataframe tbody tr th {\n",
       "        vertical-align: top;\n",
       "    }\n",
       "\n",
       "    .dataframe thead th {\n",
       "        text-align: right;\n",
       "    }\n",
       "</style>\n",
       "<table border=\"1\" class=\"dataframe\">\n",
       "  <thead>\n",
       "    <tr style=\"text-align: right;\">\n",
       "      <th></th>\n",
       "      <th>v2</th>\n",
       "    </tr>\n",
       "    <tr>\n",
       "      <th>v1</th>\n",
       "      <th></th>\n",
       "    </tr>\n",
       "  </thead>\n",
       "  <tbody>\n",
       "    <tr>\n",
       "      <th>0</th>\n",
       "      <td>233</td>\n",
       "    </tr>\n",
       "    <tr>\n",
       "      <th>1</th>\n",
       "      <td>185</td>\n",
       "    </tr>\n",
       "    <tr>\n",
       "      <th>2</th>\n",
       "      <td>144</td>\n",
       "    </tr>\n",
       "    <tr>\n",
       "      <th>3</th>\n",
       "      <td>227</td>\n",
       "    </tr>\n",
       "    <tr>\n",
       "      <th>4</th>\n",
       "      <td>261</td>\n",
       "    </tr>\n",
       "    <tr>\n",
       "      <th>5</th>\n",
       "      <td>109</td>\n",
       "    </tr>\n",
       "    <tr>\n",
       "      <th>6</th>\n",
       "      <td>521</td>\n",
       "    </tr>\n",
       "  </tbody>\n",
       "</table>\n",
       "</div>"
      ],
      "text/plain": [
       "     v2\n",
       "v1     \n",
       "0   233\n",
       "1   185\n",
       "2   144\n",
       "3   227\n",
       "4   261\n",
       "5   109\n",
       "6   521"
      ]
     },
     "execution_count": 13,
     "metadata": {},
     "output_type": "execute_result"
    }
   ],
   "source": [
    "kv_chimpanzee = kvec.KmerVectors(['a','g','c','t'], 6, fastadatasets=[chimp_0_fads,chimp_1_fads,chimp_2_fads,chimp_3_fads,chimp_4_fads,chimp_5_fads,chimp_6_fads])\n",
    "d_chimp = kv_chimpanzee.seq2KmerSentencesFASTA(base_count_max=4, length_min=0, dataset_limit=10000)\n",
    "df_chimp=pd.DataFrame(data=d_chimp)\n",
    "df_chimp = df_chimp.replace({\"v1\": kv_chimpanzee.labels})\n",
    "df_chimp.groupby('v1').count()"
   ]
  },
  {
   "cell_type": "code",
   "execution_count": 14,
   "id": "e966b3c9",
   "metadata": {},
   "outputs": [
    {
     "name": "stdout",
     "output_type": "stream",
     "text": [
      "fasta dataset: [dog-0]\n",
      "fasta dataset: [dog-1]\n",
      "fasta dataset: [dog-2]\n",
      "fasta dataset: [dog-3]\n",
      "fasta dataset: [dog-4]\n",
      "fasta dataset: [dog-5]\n",
      "fasta dataset: [dog-6]\n"
     ]
    },
    {
     "data": {
      "text/html": [
       "<div>\n",
       "<style scoped>\n",
       "    .dataframe tbody tr th:only-of-type {\n",
       "        vertical-align: middle;\n",
       "    }\n",
       "\n",
       "    .dataframe tbody tr th {\n",
       "        vertical-align: top;\n",
       "    }\n",
       "\n",
       "    .dataframe thead th {\n",
       "        text-align: right;\n",
       "    }\n",
       "</style>\n",
       "<table border=\"1\" class=\"dataframe\">\n",
       "  <thead>\n",
       "    <tr style=\"text-align: right;\">\n",
       "      <th></th>\n",
       "      <th>v2</th>\n",
       "    </tr>\n",
       "    <tr>\n",
       "      <th>v1</th>\n",
       "      <th></th>\n",
       "    </tr>\n",
       "  </thead>\n",
       "  <tbody>\n",
       "    <tr>\n",
       "      <th>0</th>\n",
       "      <td>127</td>\n",
       "    </tr>\n",
       "    <tr>\n",
       "      <th>1</th>\n",
       "      <td>74</td>\n",
       "    </tr>\n",
       "    <tr>\n",
       "      <th>2</th>\n",
       "      <td>62</td>\n",
       "    </tr>\n",
       "    <tr>\n",
       "      <th>3</th>\n",
       "      <td>95</td>\n",
       "    </tr>\n",
       "    <tr>\n",
       "      <th>4</th>\n",
       "      <td>131</td>\n",
       "    </tr>\n",
       "    <tr>\n",
       "      <th>5</th>\n",
       "      <td>60</td>\n",
       "    </tr>\n",
       "    <tr>\n",
       "      <th>6</th>\n",
       "      <td>254</td>\n",
       "    </tr>\n",
       "  </tbody>\n",
       "</table>\n",
       "</div>"
      ],
      "text/plain": [
       "     v2\n",
       "v1     \n",
       "0   127\n",
       "1    74\n",
       "2    62\n",
       "3    95\n",
       "4   131\n",
       "5    60\n",
       "6   254"
      ]
     },
     "execution_count": 14,
     "metadata": {},
     "output_type": "execute_result"
    }
   ],
   "source": [
    "kv_dog = kvec.KmerVectors(['a','g','c','t'], 6, fastadatasets=[dog_0_fads,dog_1_fads,dog_2_fads,dog_3_fads,dog_4_fads,dog_5_fads,dog_6_fads])\n",
    "d_dog = kv_dog.seq2KmerSentencesFASTA(base_count_max=4, length_min=0, dataset_limit=10000)\n",
    "df_dog=pd.DataFrame(data=d_dog)\n",
    "df_dog = df_dog.replace({\"v1\": kv_dog.labels})\n",
    "df_dog.groupby('v1').count()"
   ]
  },
  {
   "cell_type": "code",
   "execution_count": 15,
   "id": "8ad3e711",
   "metadata": {},
   "outputs": [
    {
     "name": "stderr",
     "output_type": "stream",
     "text": [
      "/home/dave/anaconda3/envs/capstone/lib/python3.10/site-packages/seaborn/_decorators.py:36: FutureWarning: Pass the following variable as a keyword arg: x. From version 0.12, the only valid positional argument will be `data`, and passing other arguments without an explicit keyword will result in an error or misinterpretation.\n",
      "  warnings.warn(\n"
     ]
    },
    {
     "data": {
      "text/plain": [
       "Text(0.5, 1.0, 'Class distribution of Human DNA')"
      ]
     },
     "execution_count": 15,
     "metadata": {},
     "output_type": "execute_result"
    },
    {
     "data": {
      "image/png": "[encoded data removed]",
      "text/plain": [
       "<Figure size 432x288 with 1 Axes>"
      ]
     },
     "metadata": {
      "needs_background": "light"
     },
     "output_type": "display_data"
    }
   ],
   "source": [
    "sns.countplot(df_human.v1)\n",
    "plt.xlabel('Class Label')\n",
    "plt.title('Class distribution of Human DNA')"
   ]
  },
  {
   "cell_type": "code",
   "execution_count": 16,
   "id": "90170c0a",
   "metadata": {},
   "outputs": [
    {
     "name": "stderr",
     "output_type": "stream",
     "text": [
      "/home/dave/anaconda3/envs/capstone/lib/python3.10/site-packages/seaborn/_decorators.py:36: FutureWarning: Pass the following variable as a keyword arg: x. From version 0.12, the only valid positional argument will be `data`, and passing other arguments without an explicit keyword will result in an error or misinterpretation.\n",
      "  warnings.warn(\n"
     ]
    },
    {
     "data": {
      "text/plain": [
       "Text(0.5, 1.0, 'Class distribution of Chimpanzee DNA')"
      ]
     },
     "execution_count": 16,
     "metadata": {},
     "output_type": "execute_result"
    },
    {
     "data": {
      "image/png": "[encoded data removed]",
      "text/plain": [
       "<Figure size 432x288 with 1 Axes>"
      ]
     },
     "metadata": {
      "needs_background": "light"
     },
     "output_type": "display_data"
    }
   ],
   "source": [
    "sns.countplot(df_chimp.v1)\n",
    "plt.xlabel('Class Label')\n",
    "plt.title('Class distribution of Chimpanzee DNA')"
   ]
  },
  {
   "cell_type": "code",
   "execution_count": 17,
   "id": "bb9c21bc",
   "metadata": {},
   "outputs": [
    {
     "name": "stderr",
     "output_type": "stream",
     "text": [
      "/home/dave/anaconda3/envs/capstone/lib/python3.10/site-packages/seaborn/_decorators.py:36: FutureWarning: Pass the following variable as a keyword arg: x. From version 0.12, the only valid positional argument will be `data`, and passing other arguments without an explicit keyword will result in an error or misinterpretation.\n",
      "  warnings.warn(\n"
     ]
    },
    {
     "data": {
      "text/plain": [
       "Text(0.5, 1.0, 'Class distribution of Dog DNA')"
      ]
     },
     "execution_count": 17,
     "metadata": {},
     "output_type": "execute_result"
    },
    {
     "data": {
      "image/png": "[encoded data removed]",
      "text/plain": [
       "<Figure size 432x288 with 1 Axes>"
      ]
     },
     "metadata": {
      "needs_background": "light"
     },
     "output_type": "display_data"
    }
   ],
   "source": [
    "sns.countplot(df_dog.v1)\n",
    "plt.xlabel('Class Label')\n",
    "plt.title('Class distribution of Dog DNA')"
   ]
  },
  {
   "cell_type": "code",
   "execution_count": 18,
   "id": "27672f0d",
   "metadata": {
    "scrolled": false
   },
   "outputs": [],
   "source": [
    "human_texts=df_human['v2']\n",
    "#print(human_texts[0])\n",
    "chimp_texts=df_chimp['v2']\n",
    "dog_texts=df_dog['v2']"
   ]
  },
  {
   "cell_type": "code",
   "execution_count": 19,
   "id": "59d7980b",
   "metadata": {},
   "outputs": [],
   "source": [
    "y_human=df_human['v1'].values\n",
    "y_chimp=df_chimp['v1']\n",
    "y_dog=df_dog['v1']"
   ]
  },
  {
   "cell_type": "code",
   "execution_count": 20,
   "id": "164868ee",
   "metadata": {},
   "outputs": [],
   "source": [
    "#y_human"
   ]
  },
  {
   "cell_type": "markdown",
   "id": "e8d7efb5",
   "metadata": {},
   "source": [
    "**Creating the Bag of Words model:**"
   ]
  },
  {
   "cell_type": "code",
   "execution_count": 21,
   "id": "fb860b2d",
   "metadata": {},
   "outputs": [],
   "source": [
    "#Creating the Bag of Words model:\n",
    "cv = CountVectorizer(ngram_range=(4,4), lowercase=False) #The n-gram size of 4 is previously determined by testing\n",
    "X = cv.fit_transform(human_texts)\n",
    "X_chimp = cv.transform(chimp_texts)\n",
    "X_dog = cv.transform(dog_texts)"
   ]
  },
  {
   "cell_type": "code",
   "execution_count": 22,
   "id": "db4653f5",
   "metadata": {},
   "outputs": [
    {
     "name": "stdout",
     "output_type": "stream",
     "text": [
      "(4020, 231536)\n",
      "(1680, 231536)\n",
      "(803, 231536)\n",
      "(4020,)\n",
      "(1680,)\n",
      "(803,)\n"
     ]
    }
   ],
   "source": [
    "print(X.shape)\n",
    "print(X_chimp.shape)\n",
    "print(X_dog.shape)\n",
    "\n",
    "print(y_human.shape)\n",
    "print(y_chimp.shape)\n",
    "print(y_dog.shape)"
   ]
  },
  {
   "cell_type": "code",
   "execution_count": 23,
   "id": "7d1fcf3b",
   "metadata": {},
   "outputs": [],
   "source": [
    "#y_human"
   ]
  },
  {
   "cell_type": "code",
   "execution_count": 24,
   "id": "44eb7ad5",
   "metadata": {},
   "outputs": [],
   "source": [
    "X_train, X_test, y_train, y_test = train_test_split(X, y_human, test_size=0.2, random_state=42)"
   ]
  },
  {
   "cell_type": "code",
   "execution_count": 25,
   "id": "1116df92",
   "metadata": {},
   "outputs": [],
   "source": [
    "#print(f'X_train len: [{X_train}]')\n",
    "#print(f'y_train len: [{len(y_train)}]')\n",
    "#print(f'y_train: [{y_train}]')\n",
    "\n",
    "#print(f'X_test len: [{len(X_test)}]')\n",
    "#print(f'y_test len: [{len(y_test)}]')\n",
    "#print(f'y_test: [{y_test}]')\n",
    "#print(f'y_test.shape: [{y_test.shape}]')"
   ]
  },
  {
   "cell_type": "code",
   "execution_count": 26,
   "id": "70fabaa6",
   "metadata": {},
   "outputs": [
    {
     "data": {
      "text/html": [
       "<style>#sk-container-id-1 {color: black;background-color: white;}#sk-container-id-1 pre{padding: 0;}#sk-container-id-1 div.sk-toggleable {background-color: white;}#sk-container-id-1 label.sk-toggleable__label {cursor: pointer;display: block;width: 100%;margin-bottom: 0;padding: 0.3em;box-sizing: border-box;text-align: center;}#sk-container-id-1 label.sk-toggleable__label-arrow:before {content: \"▸\";float: left;margin-right: 0.25em;color: #696969;}#sk-container-id-1 label.sk-toggleable__label-arrow:hover:before {color: black;}#sk-container-id-1 div.sk-estimator:hover label.sk-toggleable__label-arrow:before {color: black;}#sk-container-id-1 div.sk-toggleable__content {max-height: 0;max-width: 0;overflow: hidden;text-align: left;background-color: #f0f8ff;}#sk-container-id-1 div.sk-toggleable__content pre {margin: 0.2em;color: black;border-radius: 0.25em;background-color: #f0f8ff;}#sk-container-id-1 input.sk-toggleable__control:checked~div.sk-toggleable__content {max-height: 200px;max-width: 100%;overflow: auto;}#sk-container-id-1 input.sk-toggleable__control:checked~label.sk-toggleable__label-arrow:before {content: \"▾\";}#sk-container-id-1 div.sk-estimator input.sk-toggleable__control:checked~label.sk-toggleable__label {background-color: #d4ebff;}#sk-container-id-1 div.sk-label input.sk-toggleable__control:checked~label.sk-toggleable__label {background-color: #d4ebff;}#sk-container-id-1 input.sk-hidden--visually {border: 0;clip: rect(1px 1px 1px 1px);clip: rect(1px, 1px, 1px, 1px);height: 1px;margin: -1px;overflow: hidden;padding: 0;position: absolute;width: 1px;}#sk-container-id-1 div.sk-estimator {font-family: monospace;background-color: #f0f8ff;border: 1px dotted black;border-radius: 0.25em;box-sizing: border-box;margin-bottom: 0.5em;}#sk-container-id-1 div.sk-estimator:hover {background-color: #d4ebff;}#sk-container-id-1 div.sk-parallel-item::after {content: \"\";width: 100%;border-bottom: 1px solid gray;flex-grow: 1;}#sk-container-id-1 div.sk-label:hover label.sk-toggleable__label {background-color: #d4ebff;}#sk-container-id-1 div.sk-serial::before {content: \"\";position: absolute;border-left: 1px solid gray;box-sizing: border-box;top: 0;bottom: 0;left: 50%;z-index: 0;}#sk-container-id-1 div.sk-serial {display: flex;flex-direction: column;align-items: center;background-color: white;padding-right: 0.2em;padding-left: 0.2em;position: relative;}#sk-container-id-1 div.sk-item {position: relative;z-index: 1;}#sk-container-id-1 div.sk-parallel {display: flex;align-items: stretch;justify-content: center;background-color: white;position: relative;}#sk-container-id-1 div.sk-item::before, #sk-container-id-1 div.sk-parallel-item::before {content: \"\";position: absolute;border-left: 1px solid gray;box-sizing: border-box;top: 0;bottom: 0;left: 50%;z-index: -1;}#sk-container-id-1 div.sk-parallel-item {display: flex;flex-direction: column;z-index: 1;position: relative;background-color: white;}#sk-container-id-1 div.sk-parallel-item:first-child::after {align-self: flex-end;width: 50%;}#sk-container-id-1 div.sk-parallel-item:last-child::after {align-self: flex-start;width: 50%;}#sk-container-id-1 div.sk-parallel-item:only-child::after {width: 0;}#sk-container-id-1 div.sk-dashed-wrapped {border: 1px dashed gray;margin: 0 0.4em 0.5em 0.4em;box-sizing: border-box;padding-bottom: 0.4em;background-color: white;}#sk-container-id-1 div.sk-label label {font-family: monospace;font-weight: bold;display: inline-block;line-height: 1.2em;}#sk-container-id-1 div.sk-label-container {text-align: center;}#sk-container-id-1 div.sk-container {/* jupyter's `normalize.less` sets `[hidden] { display: none; }` but bootstrap.min.css set `[hidden] { display: none !important; }` so we also need the `!important` here to be able to override the default hidden behavior on the sphinx rendered scikit-learn.org. See: https://github.com/scikit-learn/scikit-learn/issues/21755 */display: inline-block !important;position: relative;}#sk-container-id-1 div.sk-text-repr-fallback {display: none;}</style><div id=\"sk-container-id-1\" class=\"sk-top-container\"><div class=\"sk-text-repr-fallback\"><pre>MultinomialNB(alpha=0.1)</pre><b>In a Jupyter environment, please rerun this cell to show the HTML representation or trust the notebook. <br />On GitHub, the HTML representation is unable to render, please try loading this page with nbviewer.org.</b></div><div class=\"sk-container\" hidden><div class=\"sk-item\"><div class=\"sk-estimator sk-toggleable\"><input class=\"sk-toggleable__control sk-hidden--visually\" id=\"sk-estimator-id-1\" type=\"checkbox\" checked><label for=\"sk-estimator-id-1\" class=\"sk-toggleable__label sk-toggleable__label-arrow\">MultinomialNB</label><div class=\"sk-toggleable__content\"><pre>MultinomialNB(alpha=0.1)</pre></div></div></div></div></div>"
      ],
      "text/plain": [
       "MultinomialNB(alpha=0.1)"
      ]
     },
     "execution_count": 26,
     "metadata": {},
     "output_type": "execute_result"
    }
   ],
   "source": [
    "classifier = MultinomialNB(alpha=0.1)\n",
    "classifier.fit(X_train, y_train)"
   ]
  },
  {
   "cell_type": "code",
   "execution_count": 27,
   "id": "c38428a4",
   "metadata": {},
   "outputs": [],
   "source": [
    "#y_test"
   ]
  },
  {
   "cell_type": "code",
   "execution_count": 28,
   "id": "4f8f0afc",
   "metadata": {},
   "outputs": [],
   "source": [
    "def get_metrics(y_test, y_predicted):\n",
    "    accuracy = accuracy_score(y_test, y_predicted)\n",
    "    precision = precision_score(y_test, y_predicted, average='weighted')\n",
    "    recall = recall_score(y_test, y_predicted, average='weighted')\n",
    "    f1 = f1_score(y_test, y_predicted, average='weighted')\n",
    "    return accuracy, precision, recall, f1"
   ]
  },
  {
   "cell_type": "code",
   "execution_count": 29,
   "id": "a04d19ec",
   "metadata": {},
   "outputs": [],
   "source": [
    "y_pred = classifier.predict(X_test)"
   ]
  },
  {
   "cell_type": "code",
   "execution_count": 30,
   "id": "806dc8fb",
   "metadata": {},
   "outputs": [
    {
     "name": "stdout",
     "output_type": "stream",
     "text": [
      "Confusion matrix for predictions on human test DNA sequence\n",
      "\n",
      "Predicted    0   1   2    3    4   5    6\n",
      "Actual                                   \n",
      "0          113   0   0    0    1   0   10\n",
      "1            0  82   0    0    0   0    3\n",
      "2            0   0  65    0    0   0    4\n",
      "3            0   0   0  125    2   0    1\n",
      "4            3   0   0    0  121   0    0\n",
      "5            1   0   0    0    0  38    0\n",
      "6            1   0   0    0    1   0  233\n",
      "accuracy = 0.966 \n",
      "precision = 0.968 \n",
      "recall = 0.966 \n",
      "f1 = 0.966\n"
     ]
    }
   ],
   "source": [
    "print(\"Confusion matrix for predictions on human test DNA sequence\\n\")\n",
    "print(pd.crosstab(pd.Series(y_test, name='Actual'), pd.Series(y_pred, name='Predicted')))\n",
    "\n",
    "accuracy, precision, recall, f1 = get_metrics(y_test, y_pred)\n",
    "print(\"accuracy = %.3f \\nprecision = %.3f \\nrecall = %.3f \\nf1 = %.3f\" % (accuracy, precision, recall, f1))\n"
   ]
  },
  {
   "cell_type": "code",
   "execution_count": 31,
   "id": "e5594db4",
   "metadata": {},
   "outputs": [],
   "source": [
    "#y_test"
   ]
  },
  {
   "cell_type": "markdown",
   "id": "1e4bb638",
   "metadata": {},
   "source": [
    "### Predicting the chimp, dog sequences"
   ]
  },
  {
   "cell_type": "code",
   "execution_count": 32,
   "id": "8b186306",
   "metadata": {},
   "outputs": [
    {
     "name": "stdout",
     "output_type": "stream",
     "text": [
      "Confusion matrix for predictions on Chimpanzee test DNA sequence\n",
      "\n",
      "Predicted    0    1    2    3    4    5    6\n",
      "Actual                                      \n",
      "0          224    0    0    0    3    0    6\n",
      "1            0  182    0    0    0    0    3\n",
      "2            0    0  137    0    0    0    7\n",
      "3            0    0    0  222    3    0    2\n",
      "4            2    0    0    0  259    0    0\n",
      "5            1    0    0    0    0  108    0\n",
      "6            0    0    0    0    0    0  521\n",
      "accuracy = 0.984 \n",
      "precision = 0.984 \n",
      "recall = 0.984 \n",
      "f1 = 0.984\n"
     ]
    }
   ],
   "source": [
    "# Predicting the chimp sequences\n",
    "y_pred_chimp = classifier.predict(X_chimp)\n",
    "\n",
    "# performance on chimpanzee genes\n",
    "print(\"Confusion matrix for predictions on Chimpanzee test DNA sequence\\n\")\n",
    "print(pd.crosstab(pd.Series(y_chimp, name='Actual'), pd.Series(y_pred_chimp, name='Predicted')))\n",
    "accuracy, precision, recall, f1 = get_metrics(y_chimp, y_pred_chimp)\n",
    "print(\"accuracy = %.3f \\nprecision = %.3f \\nrecall = %.3f \\nf1 = %.3f\" % (accuracy, precision, recall, f1))"
   ]
  },
  {
   "cell_type": "code",
   "execution_count": 33,
   "id": "34aa9390",
   "metadata": {},
   "outputs": [
    {
     "name": "stdout",
     "output_type": "stream",
     "text": [
      "Confusion matrix for predictions on Dog test DNA sequence\n",
      "\n",
      "Predicted    0   1   2   3    4   5    6\n",
      "Actual                                  \n",
      "0          119   0   0   0    1   0    7\n",
      "1            0  60   0   0    0   0   14\n",
      "2            0   0  45   0    1   0   16\n",
      "3            0   0   0  77    2   0   16\n",
      "4            6   0   0   1  117   0    7\n",
      "5            3   0   0   0    1  51    5\n",
      "6            0   0   0   0    0   0  254\n",
      "accuracy = 0.900 \n",
      "precision = 0.916 \n",
      "recall = 0.900 \n",
      "f1 = 0.900\n"
     ]
    }
   ],
   "source": [
    "# Predicting the dog sequences\n",
    "y_pred_dog = classifier.predict(X_dog)\n",
    "\n",
    "# performance on dog genes\n",
    "print(\"Confusion matrix for predictions on Dog test DNA sequence\\n\")\n",
    "print(pd.crosstab(pd.Series(y_dog, name='Actual'), pd.Series(y_pred_dog, name='Predicted')))\n",
    "accuracy, precision, recall, f1 = get_metrics(y_dog, y_pred_dog)\n",
    "print(\"accuracy = %.3f \\nprecision = %.3f \\nrecall = %.3f \\nf1 = %.3f\" % (accuracy, precision, recall, f1))"
   ]
  },
  {
   "cell_type": "markdown",
   "id": "83a4488f",
   "metadata": {},
   "source": [
    "## Gaussian Naive Bayes - classes"
   ]
  },
  {
   "cell_type": "code",
   "execution_count": 34,
   "id": "fd4eabb9",
   "metadata": {},
   "outputs": [
    {
     "name": "stdout",
     "output_type": "stream",
     "text": [
      "{'human-0': 0, 'human-1': 1}\n"
     ]
    }
   ],
   "source": [
    "kv = kvec.KmerVectors(['a','g','c','t'], 6, fastadatasets=[human_0_fads,human_1_fads])\n",
    "print(kv.labels)"
   ]
  },
  {
   "cell_type": "code",
   "execution_count": 35,
   "id": "f8ee97a5",
   "metadata": {},
   "outputs": [
    {
     "name": "stdout",
     "output_type": "stream",
     "text": [
      "fasta dataset: [human-0]\n",
      "fasta dataset: [human-1]\n"
     ]
    }
   ],
   "source": [
    "e = kv.seq2KmerSentencesFASTA(base_count_max=4, length_min=0, dataset_limit=10000)"
   ]
  },
  {
   "cell_type": "code",
   "execution_count": 36,
   "id": "57fadb8a",
   "metadata": {},
   "outputs": [],
   "source": [
    "human_texts=e['v2']\n",
    "#print(human_texts[0])\n",
    "#y_human=e['v1']"
   ]
  },
  {
   "cell_type": "code",
   "execution_count": 43,
   "id": "2ba0db9a",
   "metadata": {},
   "outputs": [
    {
     "data": {
      "text/html": [
       "<div>\n",
       "<style scoped>\n",
       "    .dataframe tbody tr th:only-of-type {\n",
       "        vertical-align: middle;\n",
       "    }\n",
       "\n",
       "    .dataframe tbody tr th {\n",
       "        vertical-align: top;\n",
       "    }\n",
       "\n",
       "    .dataframe thead th {\n",
       "        text-align: right;\n",
       "    }\n",
       "</style>\n",
       "<table border=\"1\" class=\"dataframe\">\n",
       "  <thead>\n",
       "    <tr style=\"text-align: right;\">\n",
       "      <th></th>\n",
       "      <th>v1</th>\n",
       "      <th>v2</th>\n",
       "    </tr>\n",
       "  </thead>\n",
       "  <tbody>\n",
       "    <tr>\n",
       "      <th>0</th>\n",
       "      <td>0</td>\n",
       "      <td>atgagg tgaggc gaggcc aggccc ggcccg gcccga cccg...</td>\n",
       "    </tr>\n",
       "    <tr>\n",
       "      <th>1</th>\n",
       "      <td>0</td>\n",
       "      <td>atgagg tgaggc gaggcc aggccc ggcccg gcccga cccg...</td>\n",
       "    </tr>\n",
       "    <tr>\n",
       "      <th>2</th>\n",
       "      <td>0</td>\n",
       "      <td>atgctc tgctcc gctcca ctccag tccagt ccagtt cagt...</td>\n",
       "    </tr>\n",
       "    <tr>\n",
       "      <th>3</th>\n",
       "      <td>0</td>\n",
       "      <td>atgctc tgctcc gctcca ctccag tccagt ccagtt cagt...</td>\n",
       "    </tr>\n",
       "    <tr>\n",
       "      <th>4</th>\n",
       "      <td>0</td>\n",
       "      <td>atgctc tgctcc gctcca ctccag tccagt ccagtt cagt...</td>\n",
       "    </tr>\n",
       "    <tr>\n",
       "      <th>...</th>\n",
       "      <td>...</td>\n",
       "      <td>...</td>\n",
       "    </tr>\n",
       "    <tr>\n",
       "      <th>992</th>\n",
       "      <td>1</td>\n",
       "      <td>ctcaga tcagaa cagaac agaact gaacta aactat acta...</td>\n",
       "    </tr>\n",
       "    <tr>\n",
       "      <th>993</th>\n",
       "      <td>1</td>\n",
       "      <td>atgctt tgcttc gcttcc cttcct ttcctg tcctga cctg...</td>\n",
       "    </tr>\n",
       "    <tr>\n",
       "      <th>994</th>\n",
       "      <td>1</td>\n",
       "      <td>atgctt tgcttc gcttcc cttcct ttcctg tcctga cctg...</td>\n",
       "    </tr>\n",
       "    <tr>\n",
       "      <th>995</th>\n",
       "      <td>1</td>\n",
       "      <td>atgctt tgcttc gcttcc cttcct ttcctg tcctga cctg...</td>\n",
       "    </tr>\n",
       "    <tr>\n",
       "      <th>996</th>\n",
       "      <td>1</td>\n",
       "      <td>acaccc caccca acccag cccagg ccagga caggaa agga...</td>\n",
       "    </tr>\n",
       "  </tbody>\n",
       "</table>\n",
       "<p>997 rows × 2 columns</p>\n",
       "</div>"
      ],
      "text/plain": [
       "     v1                                                 v2\n",
       "0     0  atgagg tgaggc gaggcc aggccc ggcccg gcccga cccg...\n",
       "1     0  atgagg tgaggc gaggcc aggccc ggcccg gcccga cccg...\n",
       "2     0  atgctc tgctcc gctcca ctccag tccagt ccagtt cagt...\n",
       "3     0  atgctc tgctcc gctcca ctccag tccagt ccagtt cagt...\n",
       "4     0  atgctc tgctcc gctcca ctccag tccagt ccagtt cagt...\n",
       "..   ..                                                ...\n",
       "992   1  ctcaga tcagaa cagaac agaact gaacta aactat acta...\n",
       "993   1  atgctt tgcttc gcttcc cttcct ttcctg tcctga cctg...\n",
       "994   1  atgctt tgcttc gcttcc cttcct ttcctg tcctga cctg...\n",
       "995   1  atgctt tgcttc gcttcc cttcct ttcctg tcctga cctg...\n",
       "996   1  acaccc caccca acccag cccagg ccagga caggaa agga...\n",
       "\n",
       "[997 rows x 2 columns]"
      ]
     },
     "execution_count": 43,
     "metadata": {},
     "output_type": "execute_result"
    }
   ],
   "source": [
    "df=pd.DataFrame(data=e)\n",
    "df = df.replace({\"v1\": kv_human.labels})\n",
    "\n",
    "df"
   ]
  },
  {
   "cell_type": "code",
   "execution_count": 44,
   "id": "dcfd2481",
   "metadata": {},
   "outputs": [
    {
     "data": {
      "text/html": [
       "<div>\n",
       "<style scoped>\n",
       "    .dataframe tbody tr th:only-of-type {\n",
       "        vertical-align: middle;\n",
       "    }\n",
       "\n",
       "    .dataframe tbody tr th {\n",
       "        vertical-align: top;\n",
       "    }\n",
       "\n",
       "    .dataframe thead th {\n",
       "        text-align: right;\n",
       "    }\n",
       "</style>\n",
       "<table border=\"1\" class=\"dataframe\">\n",
       "  <thead>\n",
       "    <tr style=\"text-align: right;\">\n",
       "      <th></th>\n",
       "      <th>v2</th>\n",
       "    </tr>\n",
       "    <tr>\n",
       "      <th>v1</th>\n",
       "      <th></th>\n",
       "    </tr>\n",
       "  </thead>\n",
       "  <tbody>\n",
       "    <tr>\n",
       "      <th>0</th>\n",
       "      <td>498</td>\n",
       "    </tr>\n",
       "    <tr>\n",
       "      <th>1</th>\n",
       "      <td>499</td>\n",
       "    </tr>\n",
       "  </tbody>\n",
       "</table>\n",
       "</div>"
      ],
      "text/plain": [
       "     v2\n",
       "v1     \n",
       "0   498\n",
       "1   499"
      ]
     },
     "execution_count": 44,
     "metadata": {},
     "output_type": "execute_result"
    }
   ],
   "source": [
    "df.groupby('v1').count()"
   ]
  },
  {
   "cell_type": "code",
   "execution_count": 51,
   "id": "0c376f09",
   "metadata": {},
   "outputs": [
    {
     "data": {
      "text/plain": [
       "array([0, 0, 0, 0, 0, 0, 0, 0, 0, 0, 0, 0, 0, 0, 0, 0, 0, 0, 0, 0, 0, 0,\n",
       "       0, 0, 0, 0, 0, 0, 0, 0, 0, 0, 0, 0, 0, 0, 0, 0, 0, 0, 0, 0, 0, 0,\n",
       "       0, 0, 0, 0, 0, 0, 0, 0, 0, 0, 0, 0, 0, 0, 0, 0, 0, 0, 0, 0, 0, 0,\n",
       "       0, 0, 0, 0, 0, 0, 0, 0, 0, 0, 0, 0, 0, 0, 0, 0, 0, 0, 0, 0, 0, 0,\n",
       "       0, 0, 0, 0, 0, 0, 0, 0, 0, 0, 0, 0, 0, 0, 0, 0, 0, 0, 0, 0, 0, 0,\n",
       "       0, 0, 0, 0, 0, 0, 0, 0, 0, 0, 0, 0, 0, 0, 0, 0, 0, 0, 0, 0, 0, 0,\n",
       "       0, 0, 0, 0, 0, 0, 0, 0, 0, 0, 0, 0, 0, 0, 0, 0, 0, 0, 0, 0, 0, 0,\n",
       "       0, 0, 0, 0, 0, 0, 0, 0, 0, 0, 0, 0, 0, 0, 0, 0, 0, 0, 0, 0, 0, 0,\n",
       "       0, 0, 0, 0, 0, 0, 0, 0, 0, 0, 0, 0, 0, 0, 0, 0, 0, 0, 0, 0, 0, 0,\n",
       "       0, 0, 0, 0, 0, 0, 0, 0, 0, 0, 0, 0, 0, 0, 0, 0, 0, 0, 0, 0, 0, 0,\n",
       "       0, 0, 0, 0, 0, 0, 0, 0, 0, 0, 0, 0, 0, 0, 0, 0, 0, 0, 0, 0, 0, 0,\n",
       "       0, 0, 0, 0, 0, 0, 0, 0, 0, 0, 0, 0, 0, 0, 0, 0, 0, 0, 0, 0, 0, 0,\n",
       "       0, 0, 0, 0, 0, 0, 0, 0, 0, 0, 0, 0, 0, 0, 0, 0, 0, 0, 0, 0, 0, 0,\n",
       "       0, 0, 0, 0, 0, 0, 0, 0, 0, 0, 0, 0, 0, 0, 0, 0, 0, 0, 0, 0, 0, 0,\n",
       "       0, 0, 0, 0, 0, 0, 0, 0, 0, 0, 0, 0, 0, 0, 0, 0, 0, 0, 0, 0, 0, 0,\n",
       "       0, 0, 0, 0, 0, 0, 0, 0, 0, 0, 0, 0, 0, 0, 0, 0, 0, 0, 0, 0, 0, 0,\n",
       "       0, 0, 0, 0, 0, 0, 0, 0, 0, 0, 0, 0, 0, 0, 0, 0, 0, 0, 0, 0, 0, 0,\n",
       "       0, 0, 0, 0, 0, 0, 0, 0, 0, 0, 0, 0, 0, 0, 0, 0, 0, 0, 0, 0, 0, 0,\n",
       "       0, 0, 0, 0, 0, 0, 0, 0, 0, 0, 0, 0, 0, 0, 0, 0, 0, 0, 0, 0, 0, 0,\n",
       "       0, 0, 0, 0, 0, 0, 0, 0, 0, 0, 0, 0, 0, 0, 0, 0, 0, 0, 0, 0, 0, 0,\n",
       "       0, 0, 0, 0, 0, 0, 0, 0, 0, 0, 0, 0, 0, 0, 0, 0, 0, 0, 0, 0, 0, 0,\n",
       "       0, 0, 0, 0, 0, 0, 0, 0, 0, 0, 0, 0, 0, 0, 0, 0, 0, 0, 0, 0, 0, 0,\n",
       "       0, 0, 0, 0, 0, 0, 0, 0, 0, 0, 0, 0, 0, 0, 1, 1, 1, 1, 1, 1, 1, 1,\n",
       "       1, 1, 1, 1, 1, 1, 1, 1, 1, 1, 1, 1, 1, 1, 1, 1, 1, 1, 1, 1, 1, 1,\n",
       "       1, 1, 1, 1, 1, 1, 1, 1, 1, 1, 1, 1, 1, 1, 1, 1, 1, 1, 1, 1, 1, 1,\n",
       "       1, 1, 1, 1, 1, 1, 1, 1, 1, 1, 1, 1, 1, 1, 1, 1, 1, 1, 1, 1, 1, 1,\n",
       "       1, 1, 1, 1, 1, 1, 1, 1, 1, 1, 1, 1, 1, 1, 1, 1, 1, 1, 1, 1, 1, 1,\n",
       "       1, 1, 1, 1, 1, 1, 1, 1, 1, 1, 1, 1, 1, 1, 1, 1, 1, 1, 1, 1, 1, 1,\n",
       "       1, 1, 1, 1, 1, 1, 1, 1, 1, 1, 1, 1, 1, 1, 1, 1, 1, 1, 1, 1, 1, 1,\n",
       "       1, 1, 1, 1, 1, 1, 1, 1, 1, 1, 1, 1, 1, 1, 1, 1, 1, 1, 1, 1, 1, 1,\n",
       "       1, 1, 1, 1, 1, 1, 1, 1, 1, 1, 1, 1, 1, 1, 1, 1, 1, 1, 1, 1, 1, 1,\n",
       "       1, 1, 1, 1, 1, 1, 1, 1, 1, 1, 1, 1, 1, 1, 1, 1, 1, 1, 1, 1, 1, 1,\n",
       "       1, 1, 1, 1, 1, 1, 1, 1, 1, 1, 1, 1, 1, 1, 1, 1, 1, 1, 1, 1, 1, 1,\n",
       "       1, 1, 1, 1, 1, 1, 1, 1, 1, 1, 1, 1, 1, 1, 1, 1, 1, 1, 1, 1, 1, 1,\n",
       "       1, 1, 1, 1, 1, 1, 1, 1, 1, 1, 1, 1, 1, 1, 1, 1, 1, 1, 1, 1, 1, 1,\n",
       "       1, 1, 1, 1, 1, 1, 1, 1, 1, 1, 1, 1, 1, 1, 1, 1, 1, 1, 1, 1, 1, 1,\n",
       "       1, 1, 1, 1, 1, 1, 1, 1, 1, 1, 1, 1, 1, 1, 1, 1, 1, 1, 1, 1, 1, 1,\n",
       "       1, 1, 1, 1, 1, 1, 1, 1, 1, 1, 1, 1, 1, 1, 1, 1, 1, 1, 1, 1, 1, 1,\n",
       "       1, 1, 1, 1, 1, 1, 1, 1, 1, 1, 1, 1, 1, 1, 1, 1, 1, 1, 1, 1, 1, 1,\n",
       "       1, 1, 1, 1, 1, 1, 1, 1, 1, 1, 1, 1, 1, 1, 1, 1, 1, 1, 1, 1, 1, 1,\n",
       "       1, 1, 1, 1, 1, 1, 1, 1, 1, 1, 1, 1, 1, 1, 1, 1, 1, 1, 1, 1, 1, 1,\n",
       "       1, 1, 1, 1, 1, 1, 1, 1, 1, 1, 1, 1, 1, 1, 1, 1, 1, 1, 1, 1, 1, 1,\n",
       "       1, 1, 1, 1, 1, 1, 1, 1, 1, 1, 1, 1, 1, 1, 1, 1, 1, 1, 1, 1, 1, 1,\n",
       "       1, 1, 1, 1, 1, 1, 1, 1, 1, 1, 1, 1, 1, 1, 1, 1, 1, 1, 1, 1, 1, 1,\n",
       "       1, 1, 1, 1, 1, 1, 1, 1, 1, 1, 1, 1, 1, 1, 1, 1, 1, 1, 1, 1, 1, 1,\n",
       "       1, 1, 1, 1, 1, 1, 1])"
      ]
     },
     "execution_count": 51,
     "metadata": {},
     "output_type": "execute_result"
    }
   ],
   "source": [
    "y_human=df['v1'].values\n",
    "y"
   ]
  },
  {
   "cell_type": "code",
   "execution_count": 52,
   "id": "c1eb24ca",
   "metadata": {},
   "outputs": [
    {
     "name": "stderr",
     "output_type": "stream",
     "text": [
      "/home/dave/anaconda3/envs/capstone/lib/python3.10/site-packages/seaborn/_decorators.py:36: FutureWarning: Pass the following variable as a keyword arg: x. From version 0.12, the only valid positional argument will be `data`, and passing other arguments without an explicit keyword will result in an error or misinterpretation.\n",
      "  warnings.warn(\n"
     ]
    },
    {
     "data": {
      "text/plain": [
       "Text(0.5, 1.0, 'Class distribution of Human DNA')"
      ]
     },
     "execution_count": 52,
     "metadata": {},
     "output_type": "execute_result"
    },
    {
     "data": {
      "image/png": "[encoded data removed]",
      "text/plain": [
       "<Figure size 432x288 with 1 Axes>"
      ]
     },
     "metadata": {
      "needs_background": "light"
     },
     "output_type": "display_data"
    }
   ],
   "source": [
    "sns.countplot(df.v1)\n",
    "plt.xlabel('Class Label')\n",
    "plt.title('Class distribution of Human DNA')"
   ]
  },
  {
   "cell_type": "markdown",
   "id": "3b3a466b",
   "metadata": {},
   "source": [
    "**Creating the Bag of Words model:**"
   ]
  },
  {
   "cell_type": "code",
   "execution_count": 53,
   "id": "fb472e9f",
   "metadata": {},
   "outputs": [],
   "source": [
    "# Creating the Bag of Words model:\n",
    "cv = CountVectorizer(ngram_range=(4,4), lowercase=False) #The n-gram size of 4 is previously determined by testing\n",
    "X = cv.fit_transform(human_texts)"
   ]
  },
  {
   "cell_type": "code",
   "execution_count": 54,
   "id": "8a189315",
   "metadata": {},
   "outputs": [],
   "source": [
    "X_train, X_test, y_train, y_test = train_test_split(X, y_human, test_size=0.333, random_state=42)"
   ]
  },
  {
   "cell_type": "code",
   "execution_count": 55,
   "id": "4d701eb1",
   "metadata": {},
   "outputs": [
    {
     "name": "stdout",
     "output_type": "stream",
     "text": [
      "X_train.shape: [(664, 163584)]\n",
      "len(y_train): [664]\n",
      "X_test.shape: [(333, 163584)]\n",
      "Confusion matrix for predictions on human test DNA sequence\n",
      "\n",
      "Predicted    0    1\n",
      "Actual             \n",
      "0          168    1\n",
      "1            5  159\n",
      "Number of mislabeled points out of a total 333 points : 6\n",
      "accuracy = 0.982 \n",
      "precision = 0.982 \n",
      "recall = 0.982 \n",
      "f1 = 0.982\n"
     ]
    }
   ],
   "source": [
    "from sklearn.naive_bayes import GaussianNB\n",
    "\n",
    "print(f'X_train.shape: [{X_train.shape}]')\n",
    "print(f'len(y_train): [{len(y_train)}]')\n",
    "print(f'X_test.shape: [{X_test.shape}]')\n",
    "gnb = GaussianNB()\n",
    "gnb.fit(X_train.toarray(), y_train)\n",
    "y_pred = gnb.predict(X_test.toarray())\n",
    "\n",
    "print(\"Confusion matrix for predictions on human test DNA sequence\\n\")\n",
    "print(pd.crosstab(pd.Series(y_test, name='Actual'), pd.Series(y_pred, name='Predicted')))\n",
    "\n",
    "print(\"Number of mislabeled points out of a total %d points : %d\"\n",
    "      % (X_test.shape[0], (y_test != y_pred).sum()))\n",
    "accuracy, precision, recall, f1 = get_metrics(y_test, y_pred)\n",
    "print(\"accuracy = %.3f \\nprecision = %.3f \\nrecall = %.3f \\nf1 = %.3f\" % (accuracy, precision, recall, f1))\n"
   ]
  }
 ],
 "metadata": {
  "kernelspec": {
   "display_name": "Python 3 (ipykernel)",
   "language": "python",
   "name": "python3"
  },
  "language_info": {
   "codemirror_mode": {
    "name": "ipython",
    "version": 3
   },
   "file_extension": ".py",
   "mimetype": "text/x-python",
   "name": "python",
   "nbconvert_exporter": "python",
   "pygments_lexer": "ipython3",
   "version": "3.10.5"
  }
 },
 "nbformat": 4,
 "nbformat_minor": 5
}
