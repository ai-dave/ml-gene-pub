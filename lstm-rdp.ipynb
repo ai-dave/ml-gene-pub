{
 "cells": [
  {
   "cell_type": "markdown",
   "id": "9471058b",
   "metadata": {},
   "source": []
  },
  {
   "cell_type": "code",
   "execution_count": 1,
   "id": "a0d3443e",
   "metadata": {},
   "outputs": [],
   "source": [
    "from collections import Counter\n",
    "import json\n",
    "import numpy as np\n",
    "import pandas as pd\n",
    "import matplotlib.pyplot as plt\n",
    "import seaborn as sns\n",
    "from sklearn.model_selection import train_test_split\n",
    "from sklearn.preprocessing import LabelEncoder\n",
    "from tensorflow.keras.models import Model\n",
    "from tensorflow.keras.layers import LSTM, Activation, Dense, Dropout, Input, Embedding\n",
    "from tensorflow.keras.optimizers import RMSprop\n",
    "from tensorflow.keras.preprocessing.text import Tokenizer\n",
    "from tensorflow.keras.preprocessing import sequence\n",
    "from tensorflow.keras.utils import to_categorical\n",
    "from tensorflow.keras.callbacks import EarlyStopping\n",
    "%matplotlib inline"
   ]
  },
  {
   "cell_type": "code",
   "execution_count": 2,
   "id": "a631329d",
   "metadata": {},
   "outputs": [],
   "source": [
    "from bioinformatics import na_read\n",
    "from bioinformatics import KmerVectors as kvec\n",
    "from bioinformatics import NCBIDataset as nds\n",
    "from bioinformatics import FASTADataset as fads"
   ]
  },
  {
   "cell_type": "code",
   "execution_count": 3,
   "id": "9a36ecdd",
   "metadata": {},
   "outputs": [],
   "source": [
    "RDP_PATH=\"../data/bioinformatics/rdp/202208/\"\n",
    "#!ls -al $RDP_PATH\n",
    "#RAND_PATH=\"../data/bioinformatics/\""
   ]
  },
  {
   "cell_type": "code",
   "execution_count": 4,
   "id": "badcc073",
   "metadata": {},
   "outputs": [],
   "source": [
    "#!ls -al $RDP_PATH\n",
    "archaea_file = RDP_PATH + \"current_Archaea_unaligned.fa\"\n",
    "bacteria_file = RDP_PATH + \"current_Bacteria_unaligned.fa\"\n",
    "fungi_file = RDP_PATH + \"current_Fungi_unaligned.fa\"\n",
    "#!ls -al $archaea_file\n",
    "\n",
    "#random1_file = RAND_PATH + \"random-1.fa\"\n",
    "#random2_file = RAND_PATH + \"random-2.fa\""
   ]
  },
  {
   "cell_type": "code",
   "execution_count": 5,
   "id": "330ab94b",
   "metadata": {},
   "outputs": [
    {
     "name": "stdout",
     "output_type": "stream",
     "text": [
      "archaea: [160767]\n",
      "bacteria: [3196041]\n"
     ]
    }
   ],
   "source": [
    "archaea_fads = fads.FASTADataset('archaea', archaea_file)\n",
    "print(f'archaea: [{len(archaea_fads.fasta_dataset)}]')\n",
    "#archaea.fasta_dataset\n",
    "bacteria_fads = fads.FASTADataset('bacteria', bacteria_file)\n",
    "print(f'bacteria: [{len(bacteria_fads.fasta_dataset)}]')\n",
    "#fungi_fads = fads.FASTADataset('fungi', fungi_file)\n",
    "#print(f'fungi: [{len(fungi_fads.fasta_dataset)}]')\n",
    "#random1_fads = fads.FASTADataset('random-1', random1_file)\n",
    "#random2_fads = fads.FASTADataset('random-2', random2_file)"
   ]
  },
  {
   "cell_type": "code",
   "execution_count": 6,
   "id": "0745e8de",
   "metadata": {
    "scrolled": true
   },
   "outputs": [
    {
     "name": "stdout",
     "output_type": "stream",
     "text": [
      "KmerVectors Object -\n",
      "alphabet [['A', 'G', 'C', 'T']]\n",
      "dict: [['AAAAAAAA', 'AAAAAAAG', 'AAAAAAAC', 'AAAAAAAT']]...[['TTTTTTTA', 'TTTTTTTG', 'TTTTTTTC', 'TTTTTTTT']]\n",
      "Labels: [{'archaea': 1, 'bacteria': 2}]\n",
      "[archaea]\n",
      "[../data/bioinformatics/rdp/202208/current_Archaea_unaligned.fa]\n",
      "[bacteria]\n",
      "[../data/bioinformatics/rdp/202208/current_Bacteria_unaligned.fa]\n",
      "{'archaea': 1, 'bacteria': 2}\n"
     ]
    }
   ],
   "source": [
    "#kv = kvec.KmerVectors(['A','G','C','T'], 8, fastadatasets=[archaea_fads, fungi_fads])\n",
    "kv = kvec.KmerVectors(['A','G','C','T'], 8, fastadatasets=[archaea_fads, bacteria_fads])\n",
    "#kv = kvec.KmerVectors(['A','G','C','T'], 8, fastadatasets=[random1_fads, random2_fads])\n",
    "print(kv.labels)"
   ]
  },
  {
   "cell_type": "code",
   "execution_count": 7,
   "id": "a0e1041d",
   "metadata": {},
   "outputs": [
    {
     "name": "stdout",
     "output_type": "stream",
     "text": [
      "FASTA Dataset\n",
      "fasta dataset: [archaea]\n",
      "100020003000400050006000700080009000100001100012000130001400015000160001700018000190002000021000220002300024000250002600027000280002900030000310003200033000340003500036000370003800039000400004100042000430004400045000460004700048000490005000051000520005300054000550005600057000580005900060000610006200063000640006500066000670006800069000700007100072000730007400075000760007700078000790008000081000820008300084000850008600087000880008900090000910009200093000940009500096000970009800099000100000101000102000103000104000105000106000107000108000109000110000111000112000113000114000115000116000117000118000119000120000121000122000123000124000125000126000127000128000129000130000131000132000133000134000135000136000137000138000139000140000141000142000143000144000145000146000147000148000149000150000151000152000153000154000155000156000157000158000capped at [10000]\n",
      "-\n",
      "Total:                [158350]\n",
      "Using :               [10001]\n",
      "skip_count_minlength: [11986]\n",
      "skip_count_alphabet: [136364]\n",
      "fasta dataset: [bacteria]\n",
      "100020003000400050006000700080009000100001100012000130001400015000160001700018000190002000021000220002300024000250002600027000280002900030000310003200033000340003500036000370003800039000400004100042000430004400045000460004700048000490005000051000520005300054000550005600057000580005900060000610006200063000640006500066000670006800069000700007100072000730007400075000760007700078000790008000081000820008300084000850008600087000880008900090000910009200093000940009500096000970009800099000100000101000102000103000104000105000106000107000108000109000110000111000112000113000114000115000capped at [10000]\n",
      "-\n",
      "Total:                [115143]\n",
      "Using :               [10001]\n",
      "skip_count_minlength: [7046]\n",
      "skip_count_alphabet: [98097]\n"
     ]
    }
   ],
   "source": [
    "d = kv.seq2KmerSentences(base_count_max=4, length_min=1400, dataset_limit=10000)"
   ]
  },
  {
   "cell_type": "code",
   "execution_count": 8,
   "id": "c19ee199",
   "metadata": {},
   "outputs": [
    {
     "data": {
      "text/html": [
       "<div>\n",
       "<style scoped>\n",
       "    .dataframe tbody tr th:only-of-type {\n",
       "        vertical-align: middle;\n",
       "    }\n",
       "\n",
       "    .dataframe tbody tr th {\n",
       "        vertical-align: top;\n",
       "    }\n",
       "\n",
       "    .dataframe thead th {\n",
       "        text-align: right;\n",
       "    }\n",
       "</style>\n",
       "<table border=\"1\" class=\"dataframe\">\n",
       "  <thead>\n",
       "    <tr style=\"text-align: right;\">\n",
       "      <th></th>\n",
       "      <th>v1</th>\n",
       "      <th>v2</th>\n",
       "    </tr>\n",
       "  </thead>\n",
       "  <tbody>\n",
       "    <tr>\n",
       "      <th>0</th>\n",
       "      <td>archaea</td>\n",
       "      <td>ACTCCGGT CTCCGGTT TCCGGTTG CCGGTTGA CGGTTGAT G...</td>\n",
       "    </tr>\n",
       "    <tr>\n",
       "      <th>1</th>\n",
       "      <td>archaea</td>\n",
       "      <td>CCCGACTG CCGACTGC CGACTGCT GACTGCTA ACTGCTAT C...</td>\n",
       "    </tr>\n",
       "    <tr>\n",
       "      <th>2</th>\n",
       "      <td>archaea</td>\n",
       "      <td>ACTCCGGT CTCCGGTT TCCGGTTG CCGGTTGA CGGTTGAT G...</td>\n",
       "    </tr>\n",
       "    <tr>\n",
       "      <th>3</th>\n",
       "      <td>archaea</td>\n",
       "      <td>GGACCTGA GACCTGAC ACCTGACT CCTGACTG CTGACTGC T...</td>\n",
       "    </tr>\n",
       "    <tr>\n",
       "      <th>4</th>\n",
       "      <td>archaea</td>\n",
       "      <td>ACTCCGGT CTCCGGTT TCCGGTTG CCGGTTGA CGGTTGAT G...</td>\n",
       "    </tr>\n",
       "    <tr>\n",
       "      <th>...</th>\n",
       "      <td>...</td>\n",
       "      <td>...</td>\n",
       "    </tr>\n",
       "    <tr>\n",
       "      <th>19995</th>\n",
       "      <td>bacteria</td>\n",
       "      <td>TACCAGTC ACCAGTCC CCAGTCCT CAGTCCTT AGTCCTTA G...</td>\n",
       "    </tr>\n",
       "    <tr>\n",
       "      <th>19996</th>\n",
       "      <td>bacteria</td>\n",
       "      <td>CTGACCTC TGACCTCA GACCTCAA ACCTCAAT CCTCAATA C...</td>\n",
       "    </tr>\n",
       "    <tr>\n",
       "      <th>19997</th>\n",
       "      <td>bacteria</td>\n",
       "      <td>GACGAACG ACGAACGC CGAACGCT GAACGCTG AACGCTGG A...</td>\n",
       "    </tr>\n",
       "    <tr>\n",
       "      <th>19998</th>\n",
       "      <td>bacteria</td>\n",
       "      <td>AGAGTTTG GAGTTTGA AGTTTGAT GTTTGATC TTTGATCC T...</td>\n",
       "    </tr>\n",
       "    <tr>\n",
       "      <th>19999</th>\n",
       "      <td>bacteria</td>\n",
       "      <td>ATTAGAGT TTAGAGTT TAGAGTTT AGAGTTTG GAGTTTGA A...</td>\n",
       "    </tr>\n",
       "  </tbody>\n",
       "</table>\n",
       "<p>20000 rows × 2 columns</p>\n",
       "</div>"
      ],
      "text/plain": [
       "             v1                                                 v2\n",
       "0       archaea  ACTCCGGT CTCCGGTT TCCGGTTG CCGGTTGA CGGTTGAT G...\n",
       "1       archaea  CCCGACTG CCGACTGC CGACTGCT GACTGCTA ACTGCTAT C...\n",
       "2       archaea  ACTCCGGT CTCCGGTT TCCGGTTG CCGGTTGA CGGTTGAT G...\n",
       "3       archaea  GGACCTGA GACCTGAC ACCTGACT CCTGACTG CTGACTGC T...\n",
       "4       archaea  ACTCCGGT CTCCGGTT TCCGGTTG CCGGTTGA CGGTTGAT G...\n",
       "...         ...                                                ...\n",
       "19995  bacteria  TACCAGTC ACCAGTCC CCAGTCCT CAGTCCTT AGTCCTTA G...\n",
       "19996  bacteria  CTGACCTC TGACCTCA GACCTCAA ACCTCAAT CCTCAATA C...\n",
       "19997  bacteria  GACGAACG ACGAACGC CGAACGCT GAACGCTG AACGCTGG A...\n",
       "19998  bacteria  AGAGTTTG GAGTTTGA AGTTTGAT GTTTGATC TTTGATCC T...\n",
       "19999  bacteria  ATTAGAGT TTAGAGTT TAGAGTTT AGAGTTTG GAGTTTGA A...\n",
       "\n",
       "[20000 rows x 2 columns]"
      ]
     },
     "execution_count": 8,
     "metadata": {},
     "output_type": "execute_result"
    }
   ],
   "source": [
    "df=pd.DataFrame(data=d)\n",
    "df"
   ]
  },
  {
   "cell_type": "code",
   "execution_count": 9,
   "id": "487aa129",
   "metadata": {},
   "outputs": [
    {
     "data": {
      "text/html": [
       "<div>\n",
       "<style scoped>\n",
       "    .dataframe tbody tr th:only-of-type {\n",
       "        vertical-align: middle;\n",
       "    }\n",
       "\n",
       "    .dataframe tbody tr th {\n",
       "        vertical-align: top;\n",
       "    }\n",
       "\n",
       "    .dataframe thead th {\n",
       "        text-align: right;\n",
       "    }\n",
       "</style>\n",
       "<table border=\"1\" class=\"dataframe\">\n",
       "  <thead>\n",
       "    <tr style=\"text-align: right;\">\n",
       "      <th></th>\n",
       "      <th>v2</th>\n",
       "    </tr>\n",
       "    <tr>\n",
       "      <th>v1</th>\n",
       "      <th></th>\n",
       "    </tr>\n",
       "  </thead>\n",
       "  <tbody>\n",
       "    <tr>\n",
       "      <th>archaea</th>\n",
       "      <td>10000</td>\n",
       "    </tr>\n",
       "    <tr>\n",
       "      <th>bacteria</th>\n",
       "      <td>10000</td>\n",
       "    </tr>\n",
       "  </tbody>\n",
       "</table>\n",
       "</div>"
      ],
      "text/plain": [
       "             v2\n",
       "v1             \n",
       "archaea   10000\n",
       "bacteria  10000"
      ]
     },
     "execution_count": 9,
     "metadata": {},
     "output_type": "execute_result"
    }
   ],
   "source": [
    "df.groupby('v1').count()"
   ]
  },
  {
   "cell_type": "code",
   "execution_count": 10,
   "id": "298ef26f",
   "metadata": {},
   "outputs": [
    {
     "data": {
      "text/html": [
       "<div>\n",
       "<style scoped>\n",
       "    .dataframe tbody tr th:only-of-type {\n",
       "        vertical-align: middle;\n",
       "    }\n",
       "\n",
       "    .dataframe tbody tr th {\n",
       "        vertical-align: top;\n",
       "    }\n",
       "\n",
       "    .dataframe thead th {\n",
       "        text-align: right;\n",
       "    }\n",
       "</style>\n",
       "<table border=\"1\" class=\"dataframe\">\n",
       "  <thead>\n",
       "    <tr style=\"text-align: right;\">\n",
       "      <th></th>\n",
       "      <th>v1</th>\n",
       "      <th>v2</th>\n",
       "    </tr>\n",
       "  </thead>\n",
       "  <tbody>\n",
       "    <tr>\n",
       "      <th>0</th>\n",
       "      <td>bacteria</td>\n",
       "      <td>GAGTTTGA AGTTTGAT GTTTGATC TTTGATCA TTGATCAT T...</td>\n",
       "    </tr>\n",
       "    <tr>\n",
       "      <th>1</th>\n",
       "      <td>archaea</td>\n",
       "      <td>TTCCGGTT TCCGGTTG CCGGTTGA CGGTTGAT GGTTGATC G...</td>\n",
       "    </tr>\n",
       "    <tr>\n",
       "      <th>2</th>\n",
       "      <td>bacteria</td>\n",
       "      <td>TTTTTTGT TTTTTGTG TTTTGTGG TTTGTGGA TTGTGGAG T...</td>\n",
       "    </tr>\n",
       "    <tr>\n",
       "      <th>3</th>\n",
       "      <td>bacteria</td>\n",
       "      <td>GAGTTTGA AGTTTGAT GTTTGATC TTTGATCC TTGATCCT T...</td>\n",
       "    </tr>\n",
       "    <tr>\n",
       "      <th>4</th>\n",
       "      <td>archaea</td>\n",
       "      <td>ACCTGACT CCTGACTG CTGACTGC TGACTGCT GACTGCTA A...</td>\n",
       "    </tr>\n",
       "    <tr>\n",
       "      <th>...</th>\n",
       "      <td>...</td>\n",
       "      <td>...</td>\n",
       "    </tr>\n",
       "    <tr>\n",
       "      <th>19995</th>\n",
       "      <td>bacteria</td>\n",
       "      <td>AGAGTTTG GAGTTTGA AGTTTGAT GTTTGATC TTTGATCC T...</td>\n",
       "    </tr>\n",
       "    <tr>\n",
       "      <th>19996</th>\n",
       "      <td>archaea</td>\n",
       "      <td>CCTTACTG CTTACTGC TTACTGCT TACTGCTA ACTGCTAT C...</td>\n",
       "    </tr>\n",
       "    <tr>\n",
       "      <th>19997</th>\n",
       "      <td>bacteria</td>\n",
       "      <td>GACGAACG ACGAACGC CGAACGCT GAACGCTG AACGCTGG A...</td>\n",
       "    </tr>\n",
       "    <tr>\n",
       "      <th>19998</th>\n",
       "      <td>bacteria</td>\n",
       "      <td>GAGTTTGA AGTTTGAT GTTTGATC TTTGATCA TTGATCAT T...</td>\n",
       "    </tr>\n",
       "    <tr>\n",
       "      <th>19999</th>\n",
       "      <td>bacteria</td>\n",
       "      <td>TTTTGTTT TTTGTTTG TTGTTTGG TGTTTGGA GTTTGGAG T...</td>\n",
       "    </tr>\n",
       "  </tbody>\n",
       "</table>\n",
       "<p>20000 rows × 2 columns</p>\n",
       "</div>"
      ],
      "text/plain": [
       "             v1                                                 v2\n",
       "0      bacteria  GAGTTTGA AGTTTGAT GTTTGATC TTTGATCA TTGATCAT T...\n",
       "1       archaea  TTCCGGTT TCCGGTTG CCGGTTGA CGGTTGAT GGTTGATC G...\n",
       "2      bacteria  TTTTTTGT TTTTTGTG TTTTGTGG TTTGTGGA TTGTGGAG T...\n",
       "3      bacteria  GAGTTTGA AGTTTGAT GTTTGATC TTTGATCC TTGATCCT T...\n",
       "4       archaea  ACCTGACT CCTGACTG CTGACTGC TGACTGCT GACTGCTA A...\n",
       "...         ...                                                ...\n",
       "19995  bacteria  AGAGTTTG GAGTTTGA AGTTTGAT GTTTGATC TTTGATCC T...\n",
       "19996   archaea  CCTTACTG CTTACTGC TTACTGCT TACTGCTA ACTGCTAT C...\n",
       "19997  bacteria  GACGAACG ACGAACGC CGAACGCT GAACGCTG AACGCTGG A...\n",
       "19998  bacteria  GAGTTTGA AGTTTGAT GTTTGATC TTTGATCA TTGATCAT T...\n",
       "19999  bacteria  TTTTGTTT TTTGTTTG TTGTTTGG TGTTTGGA GTTTGGAG T...\n",
       "\n",
       "[20000 rows x 2 columns]"
      ]
     },
     "execution_count": 10,
     "metadata": {},
     "output_type": "execute_result"
    }
   ],
   "source": [
    "df = df.sample(frac=1).reset_index(drop=True)\n",
    "df"
   ]
  },
  {
   "cell_type": "code",
   "execution_count": 11,
   "id": "cd58c174",
   "metadata": {},
   "outputs": [
    {
     "data": {
      "text/html": [
       "<div>\n",
       "<style scoped>\n",
       "    .dataframe tbody tr th:only-of-type {\n",
       "        vertical-align: middle;\n",
       "    }\n",
       "\n",
       "    .dataframe tbody tr th {\n",
       "        vertical-align: top;\n",
       "    }\n",
       "\n",
       "    .dataframe thead th {\n",
       "        text-align: right;\n",
       "    }\n",
       "</style>\n",
       "<table border=\"1\" class=\"dataframe\">\n",
       "  <thead>\n",
       "    <tr style=\"text-align: right;\">\n",
       "      <th></th>\n",
       "      <th>v2</th>\n",
       "    </tr>\n",
       "    <tr>\n",
       "      <th>v1</th>\n",
       "      <th></th>\n",
       "    </tr>\n",
       "  </thead>\n",
       "  <tbody>\n",
       "    <tr>\n",
       "      <th>archaea</th>\n",
       "      <td>10000</td>\n",
       "    </tr>\n",
       "    <tr>\n",
       "      <th>bacteria</th>\n",
       "      <td>10000</td>\n",
       "    </tr>\n",
       "  </tbody>\n",
       "</table>\n",
       "</div>"
      ],
      "text/plain": [
       "             v2\n",
       "v1             \n",
       "archaea   10000\n",
       "bacteria  10000"
      ]
     },
     "execution_count": 11,
     "metadata": {},
     "output_type": "execute_result"
    }
   ],
   "source": [
    "df.groupby('v1').count()"
   ]
  },
  {
   "cell_type": "code",
   "execution_count": 12,
   "id": "28b5f851",
   "metadata": {},
   "outputs": [
    {
     "name": "stderr",
     "output_type": "stream",
     "text": [
      "/home/dave/anaconda3/envs/capstone/lib/python3.10/site-packages/seaborn/_decorators.py:36: FutureWarning: Pass the following variable as a keyword arg: x. From version 0.12, the only valid positional argument will be `data`, and passing other arguments without an explicit keyword will result in an error or misinterpretation.\n",
      "  warnings.warn(\n"
     ]
    },
    {
     "data": {
      "text/plain": [
       "Text(0.5, 1.0, 'Number of Samples by Label')"
      ]
     },
     "execution_count": 12,
     "metadata": {},
     "output_type": "execute_result"
    },
    {
     "data": {
      "image/png": "[encoded data removed]",
      "text/plain": [
       "<Figure size 432x288 with 1 Axes>"
      ]
     },
     "metadata": {
      "needs_background": "light"
     },
     "output_type": "display_data"
    }
   ],
   "source": [
    "sns.countplot(df.v1)\n",
    "plt.xlabel('Label')\n",
    "plt.title('Number of Samples by Label')"
   ]
  },
  {
   "cell_type": "markdown",
   "id": "d204c0c1",
   "metadata": {},
   "source": [
    "* Create input and output vectors.\n",
    "* Process the labels."
   ]
  },
  {
   "cell_type": "code",
   "execution_count": 13,
   "id": "589dbfa8",
   "metadata": {},
   "outputs": [],
   "source": [
    "X = df.v2\n",
    "Y = df.v1\n",
    "le = LabelEncoder()\n",
    "Y = le.fit_transform(Y)\n",
    "Y = Y.reshape(-1,1)"
   ]
  },
  {
   "cell_type": "markdown",
   "id": "6cdff24a",
   "metadata": {},
   "source": [
    "Split into training and test data."
   ]
  },
  {
   "cell_type": "code",
   "execution_count": 14,
   "id": "b9454026",
   "metadata": {},
   "outputs": [],
   "source": [
    "X_train,X_test,Y_train,Y_test = train_test_split(X,Y,test_size=0.85)"
   ]
  },
  {
   "cell_type": "code",
   "execution_count": 15,
   "id": "1d5053ae",
   "metadata": {},
   "outputs": [
    {
     "data": {
      "text/plain": [
       "array([[0],\n",
       "       [1],\n",
       "       [0],\n",
       "       ...,\n",
       "       [0],\n",
       "       [1],\n",
       "       [1]])"
      ]
     },
     "execution_count": 15,
     "metadata": {},
     "output_type": "execute_result"
    }
   ],
   "source": [
    "Y_test"
   ]
  },
  {
   "cell_type": "markdown",
   "id": "73605ebb",
   "metadata": {},
   "source": [
    "### Process the data\n",
    "* Tokenize the data and convert the text to sequences.\n",
    "* Add padding to ensure that all the sequences have the same shape.\n",
    "* There are many ways of taking the max_len and here an arbitrary length of 150 is chosen."
   ]
  },
  {
   "cell_type": "code",
   "execution_count": 16,
   "id": "9d831f98",
   "metadata": {},
   "outputs": [],
   "source": [
    "max_words = 100\n",
    "#max_words = 1000\n",
    "max_len = 1000\n",
    "#max_len = 1000\n",
    "tok = Tokenizer(num_words=max_words)\n",
    "tok.fit_on_texts(X_train)\n",
    "sequences = tok.texts_to_sequences(X_train)\n",
    "sequences_matrix = sequence.pad_sequences(sequences,maxlen=max_len)"
   ]
  },
  {
   "cell_type": "code",
   "execution_count": 17,
   "id": "e0223192",
   "metadata": {},
   "outputs": [],
   "source": [
    "#sequences_matrix[1]"
   ]
  },
  {
   "cell_type": "markdown",
   "id": "2dffef81",
   "metadata": {},
   "source": [
    "### RNN\n",
    "Define the RNN structure."
   ]
  },
  {
   "cell_type": "code",
   "execution_count": 18,
   "id": "db902e60",
   "metadata": {},
   "outputs": [],
   "source": [
    "#tf.keras.layers.Embedding(\n",
    "#    input_dim,\n",
    "#    output_dim,\n",
    "#    embeddings_initializer=\"uniform\",\n",
    "#    embeddings_regularizer=None,\n",
    "#    activity_regularizer=None,\n",
    "#    embeddings_constraint=None,\n",
    "#    mask_zero=False,\n",
    "#    input_length=None,\n",
    "#    **kwargs\n",
    "#)\n",
    "def RNN():\n",
    "    inputs = Input(name='inputs',shape=[max_len])\n",
    "#    layer = Embedding(max_words,5000,input_length=max_len)(inputs)\n",
    "    layer = Embedding(max_words,50,input_length=max_len)(inputs)\n",
    "    layer = LSTM(64)(layer)\n",
    "    layer = Dense(256,name='FC1')(layer)\n",
    "    layer = Activation('relu')(layer)\n",
    "    layer = Dropout(0.5)(layer)\n",
    "    layer = Dense(1,name='out_layer')(layer)\n",
    "    layer = Activation('sigmoid')(layer)\n",
    "    model = Model(inputs=inputs,outputs=layer)\n",
    "    return model"
   ]
  },
  {
   "cell_type": "markdown",
   "id": "185ada5b",
   "metadata": {},
   "source": [
    "Call the function and compile the model."
   ]
  },
  {
   "cell_type": "code",
   "execution_count": 19,
   "id": "44b26b9f",
   "metadata": {},
   "outputs": [
    {
     "name": "stderr",
     "output_type": "stream",
     "text": [
      "2022-08-22 14:58:21.576504: I tensorflow/core/platform/cpu_feature_guard.cc:151] This TensorFlow binary is optimized with oneAPI Deep Neural Network Library (oneDNN) to use the following CPU instructions in performance-critical operations:  SSE4.1 SSE4.2 AVX AVX2 FMA\n",
      "To enable them in other operations, rebuild TensorFlow with the appropriate compiler flags.\n"
     ]
    },
    {
     "name": "stdout",
     "output_type": "stream",
     "text": [
      "Model: \"model\"\n",
      "_________________________________________________________________\n",
      " Layer (type)                Output Shape              Param #   \n",
      "=================================================================\n",
      " inputs (InputLayer)         [(None, 1000)]            0         \n",
      "                                                                 \n",
      " embedding (Embedding)       (None, 1000, 50)          5000      \n",
      "                                                                 \n",
      " lstm (LSTM)                 (None, 64)                29440     \n",
      "                                                                 \n",
      " FC1 (Dense)                 (None, 256)               16640     \n",
      "                                                                 \n",
      " activation (Activation)     (None, 256)               0         \n",
      "                                                                 \n",
      " dropout (Dropout)           (None, 256)               0         \n",
      "                                                                 \n",
      " out_layer (Dense)           (None, 1)                 257       \n",
      "                                                                 \n",
      " activation_1 (Activation)   (None, 1)                 0         \n",
      "                                                                 \n",
      "=================================================================\n",
      "Total params: 51,337\n",
      "Trainable params: 51,337\n",
      "Non-trainable params: 0\n",
      "_________________________________________________________________\n"
     ]
    }
   ],
   "source": [
    "model = RNN()\n",
    "model.summary()\n",
    "model.compile(loss='binary_crossentropy',optimizer=\"Adam\",metrics=['accuracy'])"
   ]
  },
  {
   "cell_type": "code",
   "execution_count": 20,
   "id": "25466810",
   "metadata": {},
   "outputs": [
    {
     "name": "stdout",
     "output_type": "stream",
     "text": [
      "Epoch 1/10\n",
      "15/15 [==============================] - 15s 822ms/step - loss: 0.6832 - accuracy: 0.5667 - val_loss: 0.6244 - val_accuracy: 0.8583\n",
      "Epoch 2/10\n",
      "15/15 [==============================] - 13s 869ms/step - loss: 0.3783 - accuracy: 0.9083 - val_loss: 0.1172 - val_accuracy: 0.9708\n"
     ]
    }
   ],
   "source": [
    "#history = model.fit(sequences_matrix,Y_train,batch_size=128,epochs=10,\n",
    "#          validation_split=0.2,callbacks=[EarlyStopping(monitor='val_loss',min_delta=0.0001)])\n",
    "#history = model.fit(sequences_matrix,Y_train,batch_size=128,epochs=10,\n",
    "#          validation_split=0.2,callbacks=[EarlyStopping(monitor='val_loss')])\n",
    "history = model.fit(sequences_matrix,Y_train,batch_size=128,epochs=10,\n",
    "          validation_split=0.4,callbacks=[EarlyStopping(monitor='val_loss',min_delta=0.0001)])\n",
    "#history = model.fit(sequences_matrix,Y_train,batch_size=128,epochs=10,\n",
    "#          validation_split=0.2,callbacks=[])"
   ]
  },
  {
   "cell_type": "code",
   "execution_count": 21,
   "id": "f99ce247",
   "metadata": {},
   "outputs": [
    {
     "data": {
      "image/png": "[encoded data removed]",
      "text/plain": [
       "<Figure size 432x288 with 1 Axes>"
      ]
     },
     "metadata": {
      "needs_background": "light"
     },
     "output_type": "display_data"
    }
   ],
   "source": [
    "# summarize history for accuracy\n",
    "plt.plot(history.history['accuracy'])\n",
    "plt.plot(history.history['val_accuracy'])\n",
    "plt.title('model accuracy')\n",
    "plt.ylabel('accuracy')\n",
    "plt.xlabel('epoch')\n",
    "plt.legend(['train', 'test'], loc='upper left')\n",
    "plt.show()"
   ]
  },
  {
   "cell_type": "code",
   "execution_count": 22,
   "id": "269de7b6",
   "metadata": {},
   "outputs": [
    {
     "data": {
      "image/png": "[encoded data removed]",
      "text/plain": [
       "<Figure size 432x288 with 1 Axes>"
      ]
     },
     "metadata": {
      "needs_background": "light"
     },
     "output_type": "display_data"
    }
   ],
   "source": [
    "# summarize history for loss\n",
    "plt.plot(history.history['loss'])\n",
    "plt.plot(history.history['val_loss'])\n",
    "plt.title('model loss')\n",
    "plt.ylabel('loss')\n",
    "plt.xlabel('epoch')\n",
    "plt.legend(['train', 'test'], loc='upper left')\n",
    "plt.show()"
   ]
  },
  {
   "cell_type": "code",
   "execution_count": 23,
   "id": "0daca660",
   "metadata": {},
   "outputs": [],
   "source": [
    "test_sequences = tok.texts_to_sequences(X_test)\n",
    "test_sequences_matrix = sequence.pad_sequences(test_sequences,maxlen=max_len)"
   ]
  },
  {
   "cell_type": "code",
   "execution_count": 24,
   "id": "70aedfd9",
   "metadata": {},
   "outputs": [
    {
     "name": "stdout",
     "output_type": "stream",
     "text": [
      "532/532 [==============================] - 46s 87ms/step - loss: 0.1197 - accuracy: 0.9667\n"
     ]
    }
   ],
   "source": [
    "accr = model.evaluate(test_sequences_matrix,Y_test)"
   ]
  },
  {
   "cell_type": "code",
   "execution_count": 25,
   "id": "05d0da13",
   "metadata": {},
   "outputs": [
    {
     "name": "stdout",
     "output_type": "stream",
     "text": [
      "Test set\n",
      "  Loss: 0.120\n",
      "  Accuracy: 0.967\n"
     ]
    }
   ],
   "source": [
    "print('Test set\\n  Loss: {:0.3f}\\n  Accuracy: {:0.3f}'.format(accr[0],accr[1]))"
   ]
  },
  {
   "cell_type": "code",
   "execution_count": 26,
   "id": "dc514145",
   "metadata": {},
   "outputs": [
    {
     "data": {
      "text/plain": [
       "[0.11968215554952621, 0.966705858707428]"
      ]
     },
     "execution_count": 26,
     "metadata": {},
     "output_type": "execute_result"
    }
   ],
   "source": [
    "accr"
   ]
  },
  {
   "cell_type": "code",
   "execution_count": 27,
   "id": "fb088435",
   "metadata": {},
   "outputs": [
    {
     "name": "stdout",
     "output_type": "stream",
     "text": [
      "train size: [3000]\n",
      "test size:  [17000]\n"
     ]
    }
   ],
   "source": [
    "print(f'train size: [{len(X_train)}]')\n",
    "print(f'test size:  [{len(X_test)}]')"
   ]
  }
 ],
 "metadata": {
  "kernelspec": {
   "display_name": "Python 3 (ipykernel)",
   "language": "python",
   "name": "python3"
  },
  "language_info": {
   "codemirror_mode": {
    "name": "ipython",
    "version": 3
   },
   "file_extension": ".py",
   "mimetype": "text/x-python",
   "name": "python",
   "nbconvert_exporter": "python",
   "pygments_lexer": "ipython3",
   "version": "3.10.5"
  }
 },
 "nbformat": 4,
 "nbformat_minor": 5
}
