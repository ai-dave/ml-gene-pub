{
 "cells": [
  {
   "cell_type": "markdown",
   "id": "9471058b",
   "metadata": {},
   "source": []
  },
  {
   "cell_type": "code",
   "execution_count": 1,
   "id": "a0d3443e",
   "metadata": {},
   "outputs": [],
   "source": [
    "from collections import Counter\n",
    "import json\n",
    "import numpy as np\n",
    "import pandas as pd\n",
    "import matplotlib.pyplot as plt\n",
    "import seaborn as sns\n",
    "from sklearn.model_selection import train_test_split\n",
    "from sklearn.preprocessing import LabelEncoder\n",
    "from tensorflow.keras.models import Model\n",
    "from tensorflow.keras.layers import LSTM, Activation, Dense, Dropout, Input, Embedding\n",
    "from tensorflow.keras.optimizers import RMSprop\n",
    "from tensorflow.keras.preprocessing.text import Tokenizer\n",
    "from tensorflow.keras.preprocessing import sequence\n",
    "from tensorflow.keras.utils import to_categorical\n",
    "from tensorflow.keras.callbacks import EarlyStopping\n",
    "%matplotlib inline"
   ]
  },
  {
   "cell_type": "code",
   "execution_count": 2,
   "id": "a631329d",
   "metadata": {},
   "outputs": [],
   "source": [
    "from bioinformatics import na_read\n",
    "from bioinformatics import KmerVectors as kvec\n",
    "from bioinformatics import NCBIDataset as nds\n",
    "from bioinformatics import FASTADataset as fads"
   ]
  },
  {
   "cell_type": "code",
   "execution_count": 3,
   "id": "9a36ecdd",
   "metadata": {},
   "outputs": [],
   "source": [
    "#RDP_PATH=\"../data/bioinformatics/rdp/202208/\"\n",
    "#!ls -al $RDP_PATH\n",
    "RAND_PATH=\"../data/bioinformatics/\""
   ]
  },
  {
   "cell_type": "code",
   "execution_count": 4,
   "id": "badcc073",
   "metadata": {},
   "outputs": [],
   "source": [
    "#!ls -al $RDP_PATH\n",
    "#archaea_file = RDP_PATH + \"current_Archaea_unaligned.fa\"\n",
    "#bacteria_file = RDP_PATH + \"current_Bacteria_unaligned.fa\"\n",
    "#fungi_file = RDP_PATH + \"current_Fungi_unaligned.fa\"\n",
    "#!ls -al $archaea_file\n",
    "\n",
    "random1_file = RAND_PATH + \"random-1.fa\"\n",
    "random2_file = RAND_PATH + \"random-2.fa\""
   ]
  },
  {
   "cell_type": "code",
   "execution_count": 5,
   "id": "330ab94b",
   "metadata": {},
   "outputs": [],
   "source": [
    "#archaea_fads = fads.FASTADataset('archaea', archaea_file)\n",
    "#print(f'archaea: [{len(archaea_fads.fasta_dataset)}]')\n",
    "#archaea.fasta_dataset\n",
    "#bacteria_fads = fads.FASTADataset('bacteria', bacteria_file)\n",
    "#print(f'bacteria: [{len(bacteria_fads.fasta_dataset)}]')\n",
    "#fungi_fads = fads.FASTADataset('fungi', fungi_file)\n",
    "#print(f'fungi: [{len(fungi_fads.fasta_dataset)}]')\n",
    "random1_fads = fads.FASTADataset('random-1', random1_file)\n",
    "random2_fads = fads.FASTADataset('random-2', random2_file)"
   ]
  },
  {
   "cell_type": "code",
   "execution_count": 6,
   "id": "0745e8de",
   "metadata": {
    "scrolled": true
   },
   "outputs": [
    {
     "name": "stdout",
     "output_type": "stream",
     "text": [
      "KmerVectors Object -\n",
      "alphabet [['A', 'G', 'C', 'T']]\n",
      "dict: [['AAAAAAAA', 'AAAAAAAG', 'AAAAAAAC', 'AAAAAAAT']]...[['TTTTTTTA', 'TTTTTTTG', 'TTTTTTTC', 'TTTTTTTT']]\n",
      "Labels: [{'random-1': 1, 'random-2': 2}]\n",
      "[random-1]\n",
      "[../data/bioinformatics/random-1.fa]\n",
      "[random-2]\n",
      "[../data/bioinformatics/random-2.fa]\n",
      "{'random-1': 1, 'random-2': 2}\n"
     ]
    }
   ],
   "source": [
    "#kv = kvec.KmerVectors(['A','G','C','T'], 8, fastadatasets=[archaea_fads, fungi_fads])\n",
    "#kv = kvec.KmerVectors(['A','G','C','T'], 8, fastadatasets=[archaea_fads, bacteria_fads])\n",
    "kv = kvec.KmerVectors(['A','G','C','T'], 8, fastadatasets=[random1_fads, random2_fads])\n",
    "print(kv.labels)"
   ]
  },
  {
   "cell_type": "code",
   "execution_count": 7,
   "id": "a0e1041d",
   "metadata": {},
   "outputs": [
    {
     "name": "stdout",
     "output_type": "stream",
     "text": [
      "FASTA Dataset\n",
      "fasta dataset: [random-1]\n",
      "10002000300040005000600070008000900010000-\n",
      "Total:                [10000]\n",
      "Using :               [10000]\n",
      "skip_count_minlength: [0]\n",
      "skip_count_alphabet: [0]\n",
      "fasta dataset: [random-2]\n",
      "10002000300040005000600070008000900010000-\n",
      "Total:                [10000]\n",
      "Using :               [10000]\n",
      "skip_count_minlength: [0]\n",
      "skip_count_alphabet: [0]\n"
     ]
    }
   ],
   "source": [
    "d = kv.seq2KmerSentences(base_count_max=4, length_min=1400, dataset_limit=10000)"
   ]
  },
  {
   "cell_type": "code",
   "execution_count": 8,
   "id": "c19ee199",
   "metadata": {},
   "outputs": [
    {
     "data": {
      "text/html": [
       "<div>\n",
       "<style scoped>\n",
       "    .dataframe tbody tr th:only-of-type {\n",
       "        vertical-align: middle;\n",
       "    }\n",
       "\n",
       "    .dataframe tbody tr th {\n",
       "        vertical-align: top;\n",
       "    }\n",
       "\n",
       "    .dataframe thead th {\n",
       "        text-align: right;\n",
       "    }\n",
       "</style>\n",
       "<table border=\"1\" class=\"dataframe\">\n",
       "  <thead>\n",
       "    <tr style=\"text-align: right;\">\n",
       "      <th></th>\n",
       "      <th>v1</th>\n",
       "      <th>v2</th>\n",
       "    </tr>\n",
       "  </thead>\n",
       "  <tbody>\n",
       "    <tr>\n",
       "      <th>0</th>\n",
       "      <td>random-1</td>\n",
       "      <td>GCGCTTCA CGCTTCAC GCTTCACA CTTCACAC TTCACACC T...</td>\n",
       "    </tr>\n",
       "    <tr>\n",
       "      <th>1</th>\n",
       "      <td>random-1</td>\n",
       "      <td>TTTCCCTG TTCCCTGC TCCCTGCG CCCTGCGG CCTGCGGG C...</td>\n",
       "    </tr>\n",
       "    <tr>\n",
       "      <th>2</th>\n",
       "      <td>random-1</td>\n",
       "      <td>ACACACAC CACACACC ACACACCG CACACCGA ACACCGAG C...</td>\n",
       "    </tr>\n",
       "    <tr>\n",
       "      <th>3</th>\n",
       "      <td>random-1</td>\n",
       "      <td>TCTTATGT CTTATGTC TTATGTCT TATGTCTC ATGTCTCT T...</td>\n",
       "    </tr>\n",
       "    <tr>\n",
       "      <th>4</th>\n",
       "      <td>random-1</td>\n",
       "      <td>CTTACAGA TTACAGAT TACAGATA ACAGATAG CAGATAGT A...</td>\n",
       "    </tr>\n",
       "    <tr>\n",
       "      <th>...</th>\n",
       "      <td>...</td>\n",
       "      <td>...</td>\n",
       "    </tr>\n",
       "    <tr>\n",
       "      <th>19995</th>\n",
       "      <td>random-2</td>\n",
       "      <td>TAGTCAAA AGTCAAAA GTCAAAAT TCAAAATA CAAAATAG A...</td>\n",
       "    </tr>\n",
       "    <tr>\n",
       "      <th>19996</th>\n",
       "      <td>random-2</td>\n",
       "      <td>GAGACGCT AGACGCTT GACGCTTT ACGCTTTA CGCTTTAG G...</td>\n",
       "    </tr>\n",
       "    <tr>\n",
       "      <th>19997</th>\n",
       "      <td>random-2</td>\n",
       "      <td>AAAGTGGC AAGTGGCA AGTGGCAT GTGGCATC TGGCATCG G...</td>\n",
       "    </tr>\n",
       "    <tr>\n",
       "      <th>19998</th>\n",
       "      <td>random-2</td>\n",
       "      <td>ACAATACC CAATACCC AATACCCT ATACCCTA TACCCTAC A...</td>\n",
       "    </tr>\n",
       "    <tr>\n",
       "      <th>19999</th>\n",
       "      <td>random-2</td>\n",
       "      <td>GAACAGAC AACAGACC ACAGACCA CAGACCAT AGACCATT G...</td>\n",
       "    </tr>\n",
       "  </tbody>\n",
       "</table>\n",
       "<p>20000 rows × 2 columns</p>\n",
       "</div>"
      ],
      "text/plain": [
       "             v1                                                 v2\n",
       "0      random-1  GCGCTTCA CGCTTCAC GCTTCACA CTTCACAC TTCACACC T...\n",
       "1      random-1  TTTCCCTG TTCCCTGC TCCCTGCG CCCTGCGG CCTGCGGG C...\n",
       "2      random-1  ACACACAC CACACACC ACACACCG CACACCGA ACACCGAG C...\n",
       "3      random-1  TCTTATGT CTTATGTC TTATGTCT TATGTCTC ATGTCTCT T...\n",
       "4      random-1  CTTACAGA TTACAGAT TACAGATA ACAGATAG CAGATAGT A...\n",
       "...         ...                                                ...\n",
       "19995  random-2  TAGTCAAA AGTCAAAA GTCAAAAT TCAAAATA CAAAATAG A...\n",
       "19996  random-2  GAGACGCT AGACGCTT GACGCTTT ACGCTTTA CGCTTTAG G...\n",
       "19997  random-2  AAAGTGGC AAGTGGCA AGTGGCAT GTGGCATC TGGCATCG G...\n",
       "19998  random-2  ACAATACC CAATACCC AATACCCT ATACCCTA TACCCTAC A...\n",
       "19999  random-2  GAACAGAC AACAGACC ACAGACCA CAGACCAT AGACCATT G...\n",
       "\n",
       "[20000 rows x 2 columns]"
      ]
     },
     "execution_count": 8,
     "metadata": {},
     "output_type": "execute_result"
    }
   ],
   "source": [
    "df=pd.DataFrame(data=d)\n",
    "df"
   ]
  },
  {
   "cell_type": "code",
   "execution_count": 9,
   "id": "487aa129",
   "metadata": {},
   "outputs": [
    {
     "data": {
      "text/html": [
       "<div>\n",
       "<style scoped>\n",
       "    .dataframe tbody tr th:only-of-type {\n",
       "        vertical-align: middle;\n",
       "    }\n",
       "\n",
       "    .dataframe tbody tr th {\n",
       "        vertical-align: top;\n",
       "    }\n",
       "\n",
       "    .dataframe thead th {\n",
       "        text-align: right;\n",
       "    }\n",
       "</style>\n",
       "<table border=\"1\" class=\"dataframe\">\n",
       "  <thead>\n",
       "    <tr style=\"text-align: right;\">\n",
       "      <th></th>\n",
       "      <th>v2</th>\n",
       "    </tr>\n",
       "    <tr>\n",
       "      <th>v1</th>\n",
       "      <th></th>\n",
       "    </tr>\n",
       "  </thead>\n",
       "  <tbody>\n",
       "    <tr>\n",
       "      <th>random-1</th>\n",
       "      <td>10000</td>\n",
       "    </tr>\n",
       "    <tr>\n",
       "      <th>random-2</th>\n",
       "      <td>10000</td>\n",
       "    </tr>\n",
       "  </tbody>\n",
       "</table>\n",
       "</div>"
      ],
      "text/plain": [
       "             v2\n",
       "v1             \n",
       "random-1  10000\n",
       "random-2  10000"
      ]
     },
     "execution_count": 9,
     "metadata": {},
     "output_type": "execute_result"
    }
   ],
   "source": [
    "df.groupby('v1').count()"
   ]
  },
  {
   "cell_type": "code",
   "execution_count": 10,
   "id": "298ef26f",
   "metadata": {},
   "outputs": [
    {
     "data": {
      "text/html": [
       "<div>\n",
       "<style scoped>\n",
       "    .dataframe tbody tr th:only-of-type {\n",
       "        vertical-align: middle;\n",
       "    }\n",
       "\n",
       "    .dataframe tbody tr th {\n",
       "        vertical-align: top;\n",
       "    }\n",
       "\n",
       "    .dataframe thead th {\n",
       "        text-align: right;\n",
       "    }\n",
       "</style>\n",
       "<table border=\"1\" class=\"dataframe\">\n",
       "  <thead>\n",
       "    <tr style=\"text-align: right;\">\n",
       "      <th></th>\n",
       "      <th>v1</th>\n",
       "      <th>v2</th>\n",
       "    </tr>\n",
       "  </thead>\n",
       "  <tbody>\n",
       "    <tr>\n",
       "      <th>0</th>\n",
       "      <td>random-1</td>\n",
       "      <td>TGGGCGTT GGGCGTTC GGCGTTCA GCGTTCAA CGTTCAAC G...</td>\n",
       "    </tr>\n",
       "    <tr>\n",
       "      <th>1</th>\n",
       "      <td>random-2</td>\n",
       "      <td>CGCAACCC GCAACCCT CAACCCTA AACCCTAG ACCCTAGT C...</td>\n",
       "    </tr>\n",
       "    <tr>\n",
       "      <th>2</th>\n",
       "      <td>random-1</td>\n",
       "      <td>TGTCGCCT GTCGCCTA TCGCCTAC CGCCTACG GCCTACGT C...</td>\n",
       "    </tr>\n",
       "    <tr>\n",
       "      <th>3</th>\n",
       "      <td>random-2</td>\n",
       "      <td>TTGGAGCT TGGAGCTC GGAGCTCT GAGCTCTC AGCTCTCA G...</td>\n",
       "    </tr>\n",
       "    <tr>\n",
       "      <th>4</th>\n",
       "      <td>random-2</td>\n",
       "      <td>CTCTTGCT TCTTGCTG CTTGCTGC TTGCTGCC TGCTGCCG G...</td>\n",
       "    </tr>\n",
       "    <tr>\n",
       "      <th>...</th>\n",
       "      <td>...</td>\n",
       "      <td>...</td>\n",
       "    </tr>\n",
       "    <tr>\n",
       "      <th>19995</th>\n",
       "      <td>random-2</td>\n",
       "      <td>GTGCGTCG TGCGTCGC GCGTCGCC CGTCGCCG GTCGCCGT T...</td>\n",
       "    </tr>\n",
       "    <tr>\n",
       "      <th>19996</th>\n",
       "      <td>random-2</td>\n",
       "      <td>AAGGCTTT AGGCTTTG GGCTTTGA GCTTTGAG CTTTGAGG T...</td>\n",
       "    </tr>\n",
       "    <tr>\n",
       "      <th>19997</th>\n",
       "      <td>random-1</td>\n",
       "      <td>CGATATTA GATATTAC ATATTACA TATTACAT ATTACATA T...</td>\n",
       "    </tr>\n",
       "    <tr>\n",
       "      <th>19998</th>\n",
       "      <td>random-1</td>\n",
       "      <td>TGTACTCA GTACTCAA TACTCAAC ACTCAACA CTCAACAG T...</td>\n",
       "    </tr>\n",
       "    <tr>\n",
       "      <th>19999</th>\n",
       "      <td>random-2</td>\n",
       "      <td>GTCAATGG TCAATGGT CAATGGTA AATGGTAC ATGGTACA T...</td>\n",
       "    </tr>\n",
       "  </tbody>\n",
       "</table>\n",
       "<p>20000 rows × 2 columns</p>\n",
       "</div>"
      ],
      "text/plain": [
       "             v1                                                 v2\n",
       "0      random-1  TGGGCGTT GGGCGTTC GGCGTTCA GCGTTCAA CGTTCAAC G...\n",
       "1      random-2  CGCAACCC GCAACCCT CAACCCTA AACCCTAG ACCCTAGT C...\n",
       "2      random-1  TGTCGCCT GTCGCCTA TCGCCTAC CGCCTACG GCCTACGT C...\n",
       "3      random-2  TTGGAGCT TGGAGCTC GGAGCTCT GAGCTCTC AGCTCTCA G...\n",
       "4      random-2  CTCTTGCT TCTTGCTG CTTGCTGC TTGCTGCC TGCTGCCG G...\n",
       "...         ...                                                ...\n",
       "19995  random-2  GTGCGTCG TGCGTCGC GCGTCGCC CGTCGCCG GTCGCCGT T...\n",
       "19996  random-2  AAGGCTTT AGGCTTTG GGCTTTGA GCTTTGAG CTTTGAGG T...\n",
       "19997  random-1  CGATATTA GATATTAC ATATTACA TATTACAT ATTACATA T...\n",
       "19998  random-1  TGTACTCA GTACTCAA TACTCAAC ACTCAACA CTCAACAG T...\n",
       "19999  random-2  GTCAATGG TCAATGGT CAATGGTA AATGGTAC ATGGTACA T...\n",
       "\n",
       "[20000 rows x 2 columns]"
      ]
     },
     "execution_count": 10,
     "metadata": {},
     "output_type": "execute_result"
    }
   ],
   "source": [
    "df = df.sample(frac=1).reset_index(drop=True)\n",
    "df"
   ]
  },
  {
   "cell_type": "code",
   "execution_count": 11,
   "id": "cd58c174",
   "metadata": {},
   "outputs": [
    {
     "data": {
      "text/html": [
       "<div>\n",
       "<style scoped>\n",
       "    .dataframe tbody tr th:only-of-type {\n",
       "        vertical-align: middle;\n",
       "    }\n",
       "\n",
       "    .dataframe tbody tr th {\n",
       "        vertical-align: top;\n",
       "    }\n",
       "\n",
       "    .dataframe thead th {\n",
       "        text-align: right;\n",
       "    }\n",
       "</style>\n",
       "<table border=\"1\" class=\"dataframe\">\n",
       "  <thead>\n",
       "    <tr style=\"text-align: right;\">\n",
       "      <th></th>\n",
       "      <th>v2</th>\n",
       "    </tr>\n",
       "    <tr>\n",
       "      <th>v1</th>\n",
       "      <th></th>\n",
       "    </tr>\n",
       "  </thead>\n",
       "  <tbody>\n",
       "    <tr>\n",
       "      <th>random-1</th>\n",
       "      <td>10000</td>\n",
       "    </tr>\n",
       "    <tr>\n",
       "      <th>random-2</th>\n",
       "      <td>10000</td>\n",
       "    </tr>\n",
       "  </tbody>\n",
       "</table>\n",
       "</div>"
      ],
      "text/plain": [
       "             v2\n",
       "v1             \n",
       "random-1  10000\n",
       "random-2  10000"
      ]
     },
     "execution_count": 11,
     "metadata": {},
     "output_type": "execute_result"
    }
   ],
   "source": [
    "df.groupby('v1').count()"
   ]
  },
  {
   "cell_type": "code",
   "execution_count": 12,
   "id": "28b5f851",
   "metadata": {},
   "outputs": [
    {
     "name": "stderr",
     "output_type": "stream",
     "text": [
      "/home/dave/anaconda3/envs/capstone/lib/python3.10/site-packages/seaborn/_decorators.py:36: FutureWarning: Pass the following variable as a keyword arg: x. From version 0.12, the only valid positional argument will be `data`, and passing other arguments without an explicit keyword will result in an error or misinterpretation.\n",
      "  warnings.warn(\n"
     ]
    },
    {
     "data": {
      "text/plain": [
       "Text(0.5, 1.0, 'Number of Samples by Label')"
      ]
     },
     "execution_count": 12,
     "metadata": {},
     "output_type": "execute_result"
    },
    {
     "data": {
      "image/png": "[encoded data removed]",
      "text/plain": [
       "<Figure size 432x288 with 1 Axes>"
      ]
     },
     "metadata": {
      "needs_background": "light"
     },
     "output_type": "display_data"
    }
   ],
   "source": [
    "sns.countplot(df.v1)\n",
    "plt.xlabel('Label')\n",
    "plt.title('Number of Samples by Label')"
   ]
  },
  {
   "cell_type": "markdown",
   "id": "d204c0c1",
   "metadata": {},
   "source": [
    "* Create input and output vectors.\n",
    "* Process the labels."
   ]
  },
  {
   "cell_type": "code",
   "execution_count": 13,
   "id": "589dbfa8",
   "metadata": {},
   "outputs": [],
   "source": [
    "X = df.v2\n",
    "Y = df.v1\n",
    "le = LabelEncoder()\n",
    "Y = le.fit_transform(Y)\n",
    "Y = Y.reshape(-1,1)"
   ]
  },
  {
   "cell_type": "markdown",
   "id": "6cdff24a",
   "metadata": {},
   "source": [
    "Split into training and test data."
   ]
  },
  {
   "cell_type": "code",
   "execution_count": 14,
   "id": "b9454026",
   "metadata": {},
   "outputs": [],
   "source": [
    "X_train,X_test,Y_train,Y_test = train_test_split(X,Y,test_size=0.85)"
   ]
  },
  {
   "cell_type": "code",
   "execution_count": 28,
   "id": "afb9dc8e",
   "metadata": {},
   "outputs": [
    {
     "name": "stdout",
     "output_type": "stream",
     "text": [
      "X_train len: [3000]\n",
      "y_train len: [3000]\n",
      "X_test len: [17000]\n",
      "y_test len: [17000]\n"
     ]
    }
   ],
   "source": [
    "print(f'X_train len: [{len(X_train)}]')\n",
    "print(f'y_train len: [{len(Y_train)}]')\n",
    "\n",
    "print(f'X_test len: [{len(X_test)}]')\n",
    "print(f'y_test len: [{len(Y_test)}]')\n"
   ]
  },
  {
   "cell_type": "code",
   "execution_count": 15,
   "id": "1d5053ae",
   "metadata": {},
   "outputs": [
    {
     "data": {
      "text/plain": [
       "array([[0],\n",
       "       [0],\n",
       "       [1],\n",
       "       ...,\n",
       "       [0],\n",
       "       [0],\n",
       "       [0]])"
      ]
     },
     "execution_count": 15,
     "metadata": {},
     "output_type": "execute_result"
    }
   ],
   "source": [
    "Y_test"
   ]
  },
  {
   "cell_type": "markdown",
   "id": "73605ebb",
   "metadata": {},
   "source": [
    "### Process the data\n",
    "* Tokenize the data and convert the text to sequences.\n",
    "* Add padding to ensure that all the sequences have the same shape.\n",
    "* There are many ways of taking the max_len and here an arbitrary length of 150 is chosen."
   ]
  },
  {
   "cell_type": "code",
   "execution_count": 16,
   "id": "9d831f98",
   "metadata": {},
   "outputs": [],
   "source": [
    "max_words = 100\n",
    "#max_words = 1000\n",
    "max_len = 1000\n",
    "#max_len = 1000\n",
    "tok = Tokenizer(num_words=max_words)\n",
    "tok.fit_on_texts(X_train)\n",
    "sequences = tok.texts_to_sequences(X_train)\n",
    "sequences_matrix = sequence.pad_sequences(sequences,maxlen=max_len)"
   ]
  },
  {
   "cell_type": "code",
   "execution_count": 17,
   "id": "e0223192",
   "metadata": {},
   "outputs": [],
   "source": [
    "#sequences_matrix[1]"
   ]
  },
  {
   "cell_type": "markdown",
   "id": "2dffef81",
   "metadata": {},
   "source": [
    "### RNN\n",
    "Define the RNN structure."
   ]
  },
  {
   "cell_type": "code",
   "execution_count": 17,
   "id": "db902e60",
   "metadata": {},
   "outputs": [],
   "source": [
    "#tf.keras.layers.Embedding(\n",
    "#    input_dim,\n",
    "#    output_dim,\n",
    "#    embeddings_initializer=\"uniform\",\n",
    "#    embeddings_regularizer=None,\n",
    "#    activity_regularizer=None,\n",
    "#    embeddings_constraint=None,\n",
    "#    mask_zero=False,\n",
    "#    input_length=None,\n",
    "#    **kwargs\n",
    "#)\n",
    "def RNN():\n",
    "    inputs = Input(name='inputs',shape=[max_len])\n",
    "#    layer = Embedding(max_words,5000,input_length=max_len)(inputs)\n",
    "    layer = Embedding(max_words,50,input_length=max_len)(inputs)\n",
    "    layer = LSTM(64)(layer)\n",
    "    layer = Dense(256,name='FC1')(layer)\n",
    "    layer = Activation('relu')(layer)\n",
    "    layer = Dropout(0.5)(layer)\n",
    "    layer = Dense(1,name='out_layer')(layer)\n",
    "    layer = Activation('sigmoid')(layer)\n",
    "    model = Model(inputs=inputs,outputs=layer)\n",
    "    return model"
   ]
  },
  {
   "cell_type": "markdown",
   "id": "185ada5b",
   "metadata": {},
   "source": [
    "Call the function and compile the model."
   ]
  },
  {
   "cell_type": "code",
   "execution_count": 18,
   "id": "44b26b9f",
   "metadata": {},
   "outputs": [
    {
     "name": "stderr",
     "output_type": "stream",
     "text": [
      "2022-09-01 16:11:50.674856: I tensorflow/core/platform/cpu_feature_guard.cc:151] This TensorFlow binary is optimized with oneAPI Deep Neural Network Library (oneDNN) to use the following CPU instructions in performance-critical operations:  SSE4.1 SSE4.2 AVX AVX2 FMA\n",
      "To enable them in other operations, rebuild TensorFlow with the appropriate compiler flags.\n"
     ]
    },
    {
     "name": "stdout",
     "output_type": "stream",
     "text": [
      "Model: \"model\"\n",
      "_________________________________________________________________\n",
      " Layer (type)                Output Shape              Param #   \n",
      "=================================================================\n",
      " inputs (InputLayer)         [(None, 1000)]            0         \n",
      "                                                                 \n",
      " embedding (Embedding)       (None, 1000, 50)          5000      \n",
      "                                                                 \n",
      " lstm (LSTM)                 (None, 64)                29440     \n",
      "                                                                 \n",
      " FC1 (Dense)                 (None, 256)               16640     \n",
      "                                                                 \n",
      " activation (Activation)     (None, 256)               0         \n",
      "                                                                 \n",
      " dropout (Dropout)           (None, 256)               0         \n",
      "                                                                 \n",
      " out_layer (Dense)           (None, 1)                 257       \n",
      "                                                                 \n",
      " activation_1 (Activation)   (None, 1)                 0         \n",
      "                                                                 \n",
      "=================================================================\n",
      "Total params: 51,337\n",
      "Trainable params: 51,337\n",
      "Non-trainable params: 0\n",
      "_________________________________________________________________\n"
     ]
    }
   ],
   "source": [
    "model = RNN()\n",
    "model.summary()\n",
    "model.compile(loss='binary_crossentropy',optimizer=\"Adam\",metrics=['accuracy'])"
   ]
  },
  {
   "cell_type": "code",
   "execution_count": 19,
   "id": "25466810",
   "metadata": {},
   "outputs": [
    {
     "name": "stdout",
     "output_type": "stream",
     "text": [
      "Epoch 1/10\n",
      "15/15 [==============================] - 16s 922ms/step - loss: 0.6929 - accuracy: 0.5239 - val_loss: 0.6949 - val_accuracy: 0.4817\n",
      "Epoch 2/10\n",
      "15/15 [==============================] - 13s 906ms/step - loss: 0.6925 - accuracy: 0.5200 - val_loss: 0.6933 - val_accuracy: 0.4875\n"
     ]
    }
   ],
   "source": [
    "#history = model.fit(sequences_matrix,Y_train,batch_size=128,epochs=10,\n",
    "#          validation_split=0.2,callbacks=[EarlyStopping(monitor='val_loss',min_delta=0.0001)])\n",
    "#history = model.fit(sequences_matrix,Y_train,batch_size=128,epochs=10,\n",
    "#          validation_split=0.2,callbacks=[EarlyStopping(monitor='val_loss')])\n",
    "history = model.fit(sequences_matrix,Y_train,batch_size=128,epochs=10,\n",
    "          validation_split=0.4,callbacks=[EarlyStopping(monitor='val_loss',min_delta=0.0001)])\n",
    "#history = model.fit(sequences_matrix,Y_train,batch_size=128,epochs=10,\n",
    "#          validation_split=0.2,callbacks=[])"
   ]
  },
  {
   "cell_type": "code",
   "execution_count": 20,
   "id": "f99ce247",
   "metadata": {},
   "outputs": [
    {
     "data": {
      "image/png": "[encoded data removed]",
      "text/plain": [
       "<Figure size 432x288 with 1 Axes>"
      ]
     },
     "metadata": {
      "needs_background": "light"
     },
     "output_type": "display_data"
    }
   ],
   "source": [
    "# summarize history for accuracy\n",
    "plt.plot(history.history['accuracy'])\n",
    "plt.plot(history.history['val_accuracy'])\n",
    "plt.title('model accuracy')\n",
    "plt.ylabel('accuracy')\n",
    "plt.xlabel('epoch')\n",
    "plt.legend(['train', 'test'], loc='upper left')\n",
    "plt.show()"
   ]
  },
  {
   "cell_type": "code",
   "execution_count": 21,
   "id": "269de7b6",
   "metadata": {},
   "outputs": [
    {
     "data": {
      "image/png": "[encoded data removed]",
      "text/plain": [
       "<Figure size 432x288 with 1 Axes>"
      ]
     },
     "metadata": {
      "needs_background": "light"
     },
     "output_type": "display_data"
    }
   ],
   "source": [
    "# summarize history for loss\n",
    "plt.plot(history.history['loss'])\n",
    "plt.plot(history.history['val_loss'])\n",
    "plt.title('model loss')\n",
    "plt.ylabel('loss')\n",
    "plt.xlabel('epoch')\n",
    "plt.legend(['train', 'test'], loc='upper left')\n",
    "plt.show()"
   ]
  },
  {
   "cell_type": "code",
   "execution_count": 22,
   "id": "0daca660",
   "metadata": {},
   "outputs": [],
   "source": [
    "test_sequences = tok.texts_to_sequences(X_test)\n",
    "test_sequences_matrix = sequence.pad_sequences(test_sequences,maxlen=max_len)"
   ]
  },
  {
   "cell_type": "code",
   "execution_count": 23,
   "id": "70aedfd9",
   "metadata": {},
   "outputs": [
    {
     "name": "stdout",
     "output_type": "stream",
     "text": [
      "532/532 [==============================] - 51s 95ms/step - loss: 0.6932 - accuracy: 0.4995\n"
     ]
    }
   ],
   "source": [
    "accr = model.evaluate(test_sequences_matrix,Y_test)"
   ]
  },
  {
   "cell_type": "code",
   "execution_count": 24,
   "id": "05d0da13",
   "metadata": {},
   "outputs": [
    {
     "name": "stdout",
     "output_type": "stream",
     "text": [
      "Test set\n",
      "  Loss: 0.693\n",
      "  Accuracy: 0.500\n"
     ]
    }
   ],
   "source": [
    "print('Test set\\n  Loss: {:0.3f}\\n  Accuracy: {:0.3f}'.format(accr[0],accr[1]))"
   ]
  },
  {
   "cell_type": "code",
   "execution_count": 25,
   "id": "dc514145",
   "metadata": {},
   "outputs": [
    {
     "data": {
      "text/plain": [
       "[0.6932474374771118, 0.4995294213294983]"
      ]
     },
     "execution_count": 25,
     "metadata": {},
     "output_type": "execute_result"
    }
   ],
   "source": [
    "accr"
   ]
  },
  {
   "cell_type": "code",
   "execution_count": 26,
   "id": "fb088435",
   "metadata": {},
   "outputs": [
    {
     "name": "stdout",
     "output_type": "stream",
     "text": [
      "train size: [3000]\n",
      "test size:  [17000]\n"
     ]
    }
   ],
   "source": [
    "print(f'train size: [{len(X_train)}]')\n",
    "print(f'test size:  [{len(X_test)}]')"
   ]
  }
 ],
 "metadata": {
  "kernelspec": {
   "display_name": "Python 3 (ipykernel)",
   "language": "python",
   "name": "python3"
  },
  "language_info": {
   "codemirror_mode": {
    "name": "ipython",
    "version": 3
   },
   "file_extension": ".py",
   "mimetype": "text/x-python",
   "name": "python",
   "nbconvert_exporter": "python",
   "pygments_lexer": "ipython3",
   "version": "3.10.5"
  }
 },
 "nbformat": 4,
 "nbformat_minor": 5
}
