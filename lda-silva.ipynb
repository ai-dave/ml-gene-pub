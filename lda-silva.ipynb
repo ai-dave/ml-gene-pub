{
 "cells": [
  {
   "cell_type": "markdown",
   "id": "b5da17b5",
   "metadata": {},
   "source": [
    "# LDA-SILVA\n",
    "## Linear Discriminant Analysis on SILVA Databases for ARB\n",
    "\n",
    "* https://machinelearningmastery.com/linear-discriminant-analysis-with-python/\n",
    "* https://www.arb-silva.de/download/arb-files/\n",
    "* https://scikit-learn.org/stable/modules/generated/sklearn.discriminant_analysis.LinearDiscriminantAnalysis.html"
   ]
  },
  {
   "cell_type": "code",
   "execution_count": 1,
   "id": "1549fb79",
   "metadata": {},
   "outputs": [],
   "source": [
    "from sklearn.discriminant_analysis import LinearDiscriminantAnalysis"
   ]
  },
  {
   "cell_type": "markdown",
   "id": "33103ee3",
   "metadata": {},
   "source": [
    "## Silva Data"
   ]
  },
  {
   "cell_type": "code",
   "execution_count": 2,
   "id": "e36ad3d4",
   "metadata": {},
   "outputs": [],
   "source": [
    "from bioinformatics import na_read\n",
    "from bioinformatics import KmerVectors as kvec\n",
    "from bioinformatics import NCBIDataset as nds\n",
    "from bioinformatics import FASTADataset as fads"
   ]
  },
  {
   "cell_type": "code",
   "execution_count": 3,
   "id": "a7d0585b",
   "metadata": {},
   "outputs": [],
   "source": [
    "SILVA_PATH=\"../data/bioinformatics/silva/20220823/fasta/\"\n",
    "\n",
    "archaea_file = SILVA_PATH + \"archaea_arb-silva.de_2022-08-23_id1197800_tax_silva.fasta\"\n",
    "bacteria_file = SILVA_PATH + \"bacteria_bacteroidotaarb-silva.de_2022-08-23_id1197801_tax_silva.fasta\"\n",
    "eukaryota_file = SILVA_PATH + \"eukaryota_amorphea_arb-silva.de_2022-08-23_id1197812_tax_silva.fasta\""
   ]
  },
  {
   "cell_type": "code",
   "execution_count": 4,
   "id": "c941a21a",
   "metadata": {},
   "outputs": [
    {
     "name": "stdout",
     "output_type": "stream",
     "text": [
      "archaea: [347020]\n",
      "bacteria: [1078234]\n"
     ]
    }
   ],
   "source": [
    "archaea_fads = fads.FASTADataset('archaea', archaea_file, limit=0)\n",
    "print(f'archaea: [{len(archaea_fads.fasta_dataset)}]')\n",
    "#archaea.fasta_dataset\n",
    "bacteria_fads = fads.FASTADataset('bacteria', bacteria_file, limit=0)\n",
    "print(f'bacteria: [{len(bacteria_fads.fasta_dataset)}]')"
   ]
  },
  {
   "cell_type": "code",
   "execution_count": 5,
   "id": "bec688bd",
   "metadata": {},
   "outputs": [
    {
     "name": "stdout",
     "output_type": "stream",
     "text": [
      "KmerVectors Object -\n",
      "alphabet [['A', 'G', 'C', 'U']]\n",
      "dict: [['AAAAAAAA', 'AAAAAAAG', 'AAAAAAAC', 'AAAAAAAU']]...[['UUUUUUUA', 'UUUUUUUG', 'UUUUUUUC', 'UUUUUUUU']]\n",
      "Labels: [{'archaea': 1, 'bacteria': 2}]\n",
      "[archaea]\n",
      "[../data/bioinformatics/silva/20220823/fasta/archaea_arb-silva.de_2022-08-23_id1197800_tax_silva.fasta]\n",
      "[bacteria]\n",
      "[../data/bioinformatics/silva/20220823/fasta/bacteria_bacteroidotaarb-silva.de_2022-08-23_id1197801_tax_silva.fasta]\n",
      "{'archaea': 1, 'bacteria': 2}\n"
     ]
    }
   ],
   "source": [
    "kv = kvec.KmerVectors(['A','G','C','U'], 8, fastadatasets=[archaea_fads, bacteria_fads])\n",
    "print(kv.labels)"
   ]
  },
  {
   "cell_type": "code",
   "execution_count": 6,
   "id": "11a63d67",
   "metadata": {},
   "outputs": [
    {
     "name": "stdout",
     "output_type": "stream",
     "text": [
      "FASTA Dataset\n",
      "fasta dataset: [archaea], limit: [10000]\n",
      "10002000300040005000600070008000900010000capped at [10000]\n",
      "-\n",
      "Total:             [10909]\n",
      "Using :               [10001]\n",
      "skip_count_minlength: [358]\n",
      "skip_count_alphabet:  [551]\n",
      "fasta dataset: [bacteria], limit: [10000]\n",
      "1000200030004000500060007000800090001000011000capped at [10000]\n",
      "-\n",
      "Total:             [11421]\n",
      "Using :               [10001]\n",
      "skip_count_minlength: [607]\n",
      "skip_count_alphabet:  [814]\n"
     ]
    }
   ],
   "source": [
    "e = kv.seq2KmerEncodedNumpyVectors(base_count_max=4, length_min=500, dataset_limit=10000)"
   ]
  },
  {
   "cell_type": "code",
   "execution_count": 7,
   "id": "010162db",
   "metadata": {},
   "outputs": [
    {
     "data": {
      "text/plain": [
       "array([[23958, 30297, 55655, ..., 29819, 53743, 18364],\n",
       "       [27141, 43028, 41043, ..., 34629,  7445, 29780],\n",
       "       [49879,  2911, 11645, ..., 43726, 43833, 44263],\n",
       "       ...,\n",
       "       [ 4605, 18420,  8147, ..., 58800, 38594, 23307],\n",
       "       [ 4605, 18420,  8147, ..., 25494, 36443, 14700],\n",
       "       [ 4605, 18420,  8147, ...,  1321,  5285, 21142]])"
      ]
     },
     "execution_count": 7,
     "metadata": {},
     "output_type": "execute_result"
    }
   ],
   "source": [
    "X=e[0]\n",
    "X"
   ]
  },
  {
   "cell_type": "code",
   "execution_count": 8,
   "id": "0b773baa",
   "metadata": {},
   "outputs": [
    {
     "data": {
      "text/plain": [
       "array([1, 1, 1, ..., 2, 2, 2])"
      ]
     },
     "execution_count": 8,
     "metadata": {},
     "output_type": "execute_result"
    }
   ],
   "source": [
    "y=e[1]\n",
    "y"
   ]
  },
  {
   "cell_type": "code",
   "execution_count": 9,
   "id": "dd0449e4",
   "metadata": {},
   "outputs": [],
   "source": [
    "from sklearn.model_selection import train_test_split\n",
    "\n",
    "X_train, X_test, y_train, y_test = train_test_split(X, y, test_size=0.33, random_state=42)"
   ]
  },
  {
   "cell_type": "code",
   "execution_count": 10,
   "id": "870bfa49",
   "metadata": {},
   "outputs": [
    {
     "name": "stdout",
     "output_type": "stream",
     "text": [
      "X_train len: [13400]\n",
      "y_train len: [13400]\n",
      "X_test len: [6600]\n",
      "y_test len: [6600]\n"
     ]
    }
   ],
   "source": [
    "print(f'X_train len: [{len(X_train)}]')\n",
    "print(f'y_train len: [{len(y_train)}]')\n",
    "\n",
    "print(f'X_test len: [{len(X_test)}]')\n",
    "print(f'y_test len: [{len(y_test)}]')"
   ]
  },
  {
   "cell_type": "code",
   "execution_count": 11,
   "id": "2933c04d",
   "metadata": {},
   "outputs": [
    {
     "name": "stdout",
     "output_type": "stream",
     "text": [
      "Predicted Class: 1\n"
     ]
    }
   ],
   "source": [
    "# make a prediction with a lda model on the dataset\n",
    "from sklearn.datasets import make_classification\n",
    "from sklearn.discriminant_analysis import LinearDiscriminantAnalysis\n",
    "# define dataset\n",
    "#X, y = make_classification(n_samples=1000, n_features=10, n_informative=10, n_redundant=0, random_state=1)\n",
    "# define model\n",
    "model = LinearDiscriminantAnalysis()\n",
    "# fit model\n",
    "model.fit(X_train, y_train)\n",
    "# define new data\n",
    "#row = [0.12777556,-3.64400522,-2.23268854,-1.82114386,1.75466361,0.1243966,1.03397657,2.35822076,1.01001752,0.56768485]\n",
    "row = X[12]\n",
    "# make a prediction\n",
    "yhat = model.predict([row])\n",
    "# summarize prediction\n",
    "print('Predicted Class: %d' % yhat)"
   ]
  },
  {
   "cell_type": "code",
   "execution_count": 12,
   "id": "69bbc954",
   "metadata": {},
   "outputs": [
    {
     "name": "stdout",
     "output_type": "stream",
     "text": [
      "Predicted Class: 2\n"
     ]
    }
   ],
   "source": [
    "row = X[500]\n",
    "# make a prediction\n",
    "yhat = model.predict([row])\n",
    "# summarize prediction\n",
    "print('Predicted Class: %d' % yhat)"
   ]
  },
  {
   "cell_type": "code",
   "execution_count": 13,
   "id": "935a2fde",
   "metadata": {},
   "outputs": [
    {
     "data": {
      "text/plain": [
       "0.9348484848484848"
      ]
     },
     "execution_count": 13,
     "metadata": {},
     "output_type": "execute_result"
    }
   ],
   "source": [
    "model.score(X_test, y_test)"
   ]
  },
  {
   "cell_type": "code",
   "execution_count": null,
   "id": "0312f24c",
   "metadata": {},
   "outputs": [],
   "source": []
  }
 ],
 "metadata": {
  "kernelspec": {
   "display_name": "Python 3 (ipykernel)",
   "language": "python",
   "name": "python3"
  },
  "language_info": {
   "codemirror_mode": {
    "name": "ipython",
    "version": 3
   },
   "file_extension": ".py",
   "mimetype": "text/x-python",
   "name": "python",
   "nbconvert_exporter": "python",
   "pygments_lexer": "ipython3",
   "version": "3.10.5"
  }
 },
 "nbformat": 4,
 "nbformat_minor": 5
}
